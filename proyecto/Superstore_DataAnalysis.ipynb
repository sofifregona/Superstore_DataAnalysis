{
  "nbformat": 4,
  "nbformat_minor": 0,
  "metadata": {
    "colab": {
      "provenance": [],
      "collapsed_sections": [
        "Z8-jF0E3OXXn",
        "aiFll5zbLjvo",
        "VdlChUMr20qU",
        "ZNlvfGKxLyBs",
        "IJDCo4CEMcUU",
        "12GP6hNJPY8J",
        "h46DL-U3kkzA"
      ]
    },
    "kernelspec": {
      "name": "python3",
      "display_name": "Python 3"
    },
    "language_info": {
      "name": "python"
    }
  },
  "cells": [
    {
      "cell_type": "markdown",
      "source": [
        "# **Análisis de Superstore para campaña de marketing**"
      ],
      "metadata": {
        "id": "T8pVlFvmNqJ2"
      }
    },
    {
      "cell_type": "markdown",
      "source": [
        "  ## **Abstract**\n"
      ],
      "metadata": {
        "id": "uk2axUT6NkGX"
      }
    },
    {
      "cell_type": "markdown",
      "source": [
        "Con el advenimiento del aprendizaje automático y la inteligencia artificial, son cada vez más las compañías que buscan incorporar estos campos a la planeación empresarial para poder lograr una mayor eficiencia en la toma de decisiones estratégicas. Las tiendas no son una excepción a ello y, con el paso de los años, han comenzado a incorporar dichas tecnologías para predecir el comportamiento de sus clientes y, de esta manera, enfocar sus campañas de Marketing hacia la dirección más oportuna. <br>\n",
        "<br>\n",
        "El presente trabajo está destinado al departamento de Marketing de la compañía 'Superstore!', el cual pretende predecir el comportamiento de sus clientes. Asimismo, éste se encuentra a disposición de todo el público que pudiera tener interés en él. Los datos han sido relevados y puestos a disposición por parte de la compañía."
      ],
      "metadata": {
        "id": "6GP6_U4VLVMJ"
      }
    },
    {
      "cell_type": "markdown",
      "source": [
        "### *Contexto*"
      ],
      "metadata": {
        "id": "USwBmlNCwESU"
      }
    },
    {
      "cell_type": "markdown",
      "source": [
        "La superstore 'Supercompras!' está planeando otorgar membresías doradas de 200 USD con descuentos especiales para sus clientes. La campaña se realizará a través de llamadas telefónicas y sólo a usuarios que ya sean clientes de la empresa. Para poder minimizar los costos de la campaña se pretende realizar un modelo predictivo para seleccionar aquellos clientes que tienen mayor probabilidad de aceptar la oferta.\n"
      ],
      "metadata": {
        "id": "CSaDqS9DOQoU"
      }
    },
    {
      "cell_type": "markdown",
      "source": [
        "### *Objetivo*"
      ],
      "metadata": {
        "id": "Z8-jF0E3OXXn"
      }
    },
    {
      "cell_type": "markdown",
      "source": [
        "El objetivo del presente análisis es descubrir si existen factores que se relacionen con la decisión de aceptar la membresía por parte de los clientes y, en caso de ser afirmativo, descubrir cuáles son dichos factores y en qué medida cada uno de ellos contribuye a la decisión final. De esta manera se pretende poder predecir el comportamiento futuro de los clientes para, así, enfocar las campañas de marketing en aquellos a los que se les asocie una mayor probabilidad de aceptar la membresía."
      ],
      "metadata": {
        "id": "7ljOkRNkObcD"
      }
    },
    {
      "cell_type": "markdown",
      "source": [
        "## **Desarrollo**"
      ],
      "metadata": {
        "id": "cH2RX0gQNoVX"
      }
    },
    {
      "cell_type": "markdown",
      "source": [
        "### *Variables*"
      ],
      "metadata": {
        "id": "jEwPPkhuxFlc"
      }
    },
    {
      "cell_type": "markdown",
      "source": [
        "* `Response` (objetivo) - 1 si el cliente aceptó la oferta de la campaña, 0 si no.\n",
        "* `ID` - Identificador único del cliente.\n",
        "* `Year_Birth` - Edad.\n",
        "* `Complain` - 1 si el cliente realizó alguna queja en los últimos 2 años, 0 si no.\n",
        "* `Dt_Customer` - Fecha de inscripción del cliente a la compañía.\n",
        "* `Education` - Nivel de educación.\n",
        "* `Marital_Status` - Estado civil.\n",
        "* `Kidhome` - Número de niños en el hogar.\n",
        "* `Teenhome` - Número de adolescentes en el hogar.\n",
        "* `Income` - Salario anual.\n",
        "* `MntFishProducts` - Cantidad gastada en pescados en los últimos 2 años.\n",
        "* `MntMeatProducts` - Cantidad gastada en carnes en los últimos 2 años.\n",
        "* `MntFruits` - Cantidad gastada en frutas en los últimos 2 años.\n",
        "* `MntSweetProducts` - Cantidad gastada en productos con azúcares en los últimos 2 años.\n",
        "* `MntWines` - Cantidad gastada en vinos en los últimos 2 años.\n",
        "* `MntGoldProds` - Cantidad gastada en productos de oro en los últimos 2 años.\n",
        "* `NumDealsPurchases` - Número de compras con descuento realizadas.\n",
        "* `NumCatalogPurchases` - Número de compras realizadas por catálogo (comprar productos para ser enviados por correo).\n",
        "* `NumStorePurchases` - Número de compras realizadas directamente en la tienda.\n",
        "* `NumWebPurchases` - Número de compras realizadas a través del sitio web de la compañía.\n",
        "* `NumWebVisitsMonth` - Número de visitas al sitio web de la compañía en el último mes.\n",
        "* `Recency` - Número de días desde la última compra."
      ],
      "metadata": {
        "id": "xGjCJ-WROKTd"
      }
    },
    {
      "cell_type": "markdown",
      "source": [
        "### *Importación del dataset*"
      ],
      "metadata": {
        "id": "k0AiCiFhMI6h"
      }
    },
    {
      "cell_type": "code",
      "execution_count": null,
      "metadata": {
        "id": "3agqS7yrv6mL"
      },
      "outputs": [],
      "source": [
        "!pip install pingouin\n",
        "\n",
        "from google.colab import drive\n",
        "import os\n",
        "drive.mount(\"/content/gdrive\", force_remount=True)\n",
        "%cd \"/content/gdrive/MyDrive/DataScience/SegundaEntrega_Fregona\"\n",
        "\n",
        "import pandas as pd\n",
        "import numpy as np\n",
        "import matplotlib.pyplot as plt\n",
        "import seaborn as sns\n",
        "import math\n",
        "from scipy import stats"
      ]
    },
    {
      "cell_type": "code",
      "source": [
        "df = pd.read_csv(\"superstore_data.csv\", sep=',')\n",
        "df.head(5)"
      ],
      "metadata": {
        "colab": {
          "base_uri": "https://localhost:8080/",
          "height": 300
        },
        "id": "WOSLICxfw9F0",
        "outputId": "caf1ff3e-79ee-4a22-8cf8-736e193ffbe7"
      },
      "execution_count": 3,
      "outputs": [
        {
          "output_type": "execute_result",
          "data": {
            "text/plain": [
              "      Id  Year_Birth   Education Marital_Status   Income  Kidhome  Teenhome  \\\n",
              "0   1826        1970  Graduation       Divorced  84835.0        0         0   \n",
              "1      1        1961  Graduation         Single  57091.0        0         0   \n",
              "2  10476        1958  Graduation        Married  67267.0        0         1   \n",
              "3   1386        1967  Graduation       Together  32474.0        1         1   \n",
              "4   5371        1989  Graduation         Single  21474.0        1         0   \n",
              "\n",
              "  Dt_Customer  Recency  MntWines  ...  MntFishProducts  MntSweetProducts  \\\n",
              "0   6/16/2014        0       189  ...              111               189   \n",
              "1   6/15/2014        0       464  ...                7                 0   \n",
              "2   5/13/2014        0       134  ...               15                 2   \n",
              "3   11/5/2014        0        10  ...                0                 0   \n",
              "4    8/4/2014        0         6  ...               11                 0   \n",
              "\n",
              "   MntGoldProds  NumDealsPurchases  NumWebPurchases  NumCatalogPurchases  \\\n",
              "0           218                  1                4                    4   \n",
              "1            37                  1                7                    3   \n",
              "2            30                  1                3                    2   \n",
              "3             0                  1                1                    0   \n",
              "4            34                  2                3                    1   \n",
              "\n",
              "   NumStorePurchases  NumWebVisitsMonth  Response  Complain  \n",
              "0                  6                  1         1         0  \n",
              "1                  7                  5         1         0  \n",
              "2                  5                  2         0         0  \n",
              "3                  2                  7         0         0  \n",
              "4                  2                  7         1         0  \n",
              "\n",
              "[5 rows x 22 columns]"
            ],
            "text/html": [
              "\n",
              "  <div id=\"df-a567249d-1e0e-4bf5-91f8-cb0ca5173e4d\">\n",
              "    <div class=\"colab-df-container\">\n",
              "      <div>\n",
              "<style scoped>\n",
              "    .dataframe tbody tr th:only-of-type {\n",
              "        vertical-align: middle;\n",
              "    }\n",
              "\n",
              "    .dataframe tbody tr th {\n",
              "        vertical-align: top;\n",
              "    }\n",
              "\n",
              "    .dataframe thead th {\n",
              "        text-align: right;\n",
              "    }\n",
              "</style>\n",
              "<table border=\"1\" class=\"dataframe\">\n",
              "  <thead>\n",
              "    <tr style=\"text-align: right;\">\n",
              "      <th></th>\n",
              "      <th>Id</th>\n",
              "      <th>Year_Birth</th>\n",
              "      <th>Education</th>\n",
              "      <th>Marital_Status</th>\n",
              "      <th>Income</th>\n",
              "      <th>Kidhome</th>\n",
              "      <th>Teenhome</th>\n",
              "      <th>Dt_Customer</th>\n",
              "      <th>Recency</th>\n",
              "      <th>MntWines</th>\n",
              "      <th>...</th>\n",
              "      <th>MntFishProducts</th>\n",
              "      <th>MntSweetProducts</th>\n",
              "      <th>MntGoldProds</th>\n",
              "      <th>NumDealsPurchases</th>\n",
              "      <th>NumWebPurchases</th>\n",
              "      <th>NumCatalogPurchases</th>\n",
              "      <th>NumStorePurchases</th>\n",
              "      <th>NumWebVisitsMonth</th>\n",
              "      <th>Response</th>\n",
              "      <th>Complain</th>\n",
              "    </tr>\n",
              "  </thead>\n",
              "  <tbody>\n",
              "    <tr>\n",
              "      <th>0</th>\n",
              "      <td>1826</td>\n",
              "      <td>1970</td>\n",
              "      <td>Graduation</td>\n",
              "      <td>Divorced</td>\n",
              "      <td>84835.0</td>\n",
              "      <td>0</td>\n",
              "      <td>0</td>\n",
              "      <td>6/16/2014</td>\n",
              "      <td>0</td>\n",
              "      <td>189</td>\n",
              "      <td>...</td>\n",
              "      <td>111</td>\n",
              "      <td>189</td>\n",
              "      <td>218</td>\n",
              "      <td>1</td>\n",
              "      <td>4</td>\n",
              "      <td>4</td>\n",
              "      <td>6</td>\n",
              "      <td>1</td>\n",
              "      <td>1</td>\n",
              "      <td>0</td>\n",
              "    </tr>\n",
              "    <tr>\n",
              "      <th>1</th>\n",
              "      <td>1</td>\n",
              "      <td>1961</td>\n",
              "      <td>Graduation</td>\n",
              "      <td>Single</td>\n",
              "      <td>57091.0</td>\n",
              "      <td>0</td>\n",
              "      <td>0</td>\n",
              "      <td>6/15/2014</td>\n",
              "      <td>0</td>\n",
              "      <td>464</td>\n",
              "      <td>...</td>\n",
              "      <td>7</td>\n",
              "      <td>0</td>\n",
              "      <td>37</td>\n",
              "      <td>1</td>\n",
              "      <td>7</td>\n",
              "      <td>3</td>\n",
              "      <td>7</td>\n",
              "      <td>5</td>\n",
              "      <td>1</td>\n",
              "      <td>0</td>\n",
              "    </tr>\n",
              "    <tr>\n",
              "      <th>2</th>\n",
              "      <td>10476</td>\n",
              "      <td>1958</td>\n",
              "      <td>Graduation</td>\n",
              "      <td>Married</td>\n",
              "      <td>67267.0</td>\n",
              "      <td>0</td>\n",
              "      <td>1</td>\n",
              "      <td>5/13/2014</td>\n",
              "      <td>0</td>\n",
              "      <td>134</td>\n",
              "      <td>...</td>\n",
              "      <td>15</td>\n",
              "      <td>2</td>\n",
              "      <td>30</td>\n",
              "      <td>1</td>\n",
              "      <td>3</td>\n",
              "      <td>2</td>\n",
              "      <td>5</td>\n",
              "      <td>2</td>\n",
              "      <td>0</td>\n",
              "      <td>0</td>\n",
              "    </tr>\n",
              "    <tr>\n",
              "      <th>3</th>\n",
              "      <td>1386</td>\n",
              "      <td>1967</td>\n",
              "      <td>Graduation</td>\n",
              "      <td>Together</td>\n",
              "      <td>32474.0</td>\n",
              "      <td>1</td>\n",
              "      <td>1</td>\n",
              "      <td>11/5/2014</td>\n",
              "      <td>0</td>\n",
              "      <td>10</td>\n",
              "      <td>...</td>\n",
              "      <td>0</td>\n",
              "      <td>0</td>\n",
              "      <td>0</td>\n",
              "      <td>1</td>\n",
              "      <td>1</td>\n",
              "      <td>0</td>\n",
              "      <td>2</td>\n",
              "      <td>7</td>\n",
              "      <td>0</td>\n",
              "      <td>0</td>\n",
              "    </tr>\n",
              "    <tr>\n",
              "      <th>4</th>\n",
              "      <td>5371</td>\n",
              "      <td>1989</td>\n",
              "      <td>Graduation</td>\n",
              "      <td>Single</td>\n",
              "      <td>21474.0</td>\n",
              "      <td>1</td>\n",
              "      <td>0</td>\n",
              "      <td>8/4/2014</td>\n",
              "      <td>0</td>\n",
              "      <td>6</td>\n",
              "      <td>...</td>\n",
              "      <td>11</td>\n",
              "      <td>0</td>\n",
              "      <td>34</td>\n",
              "      <td>2</td>\n",
              "      <td>3</td>\n",
              "      <td>1</td>\n",
              "      <td>2</td>\n",
              "      <td>7</td>\n",
              "      <td>1</td>\n",
              "      <td>0</td>\n",
              "    </tr>\n",
              "  </tbody>\n",
              "</table>\n",
              "<p>5 rows × 22 columns</p>\n",
              "</div>\n",
              "      <button class=\"colab-df-convert\" onclick=\"convertToInteractive('df-a567249d-1e0e-4bf5-91f8-cb0ca5173e4d')\"\n",
              "              title=\"Convert this dataframe to an interactive table.\"\n",
              "              style=\"display:none;\">\n",
              "        \n",
              "  <svg xmlns=\"http://www.w3.org/2000/svg\" height=\"24px\"viewBox=\"0 0 24 24\"\n",
              "       width=\"24px\">\n",
              "    <path d=\"M0 0h24v24H0V0z\" fill=\"none\"/>\n",
              "    <path d=\"M18.56 5.44l.94 2.06.94-2.06 2.06-.94-2.06-.94-.94-2.06-.94 2.06-2.06.94zm-11 1L8.5 8.5l.94-2.06 2.06-.94-2.06-.94L8.5 2.5l-.94 2.06-2.06.94zm10 10l.94 2.06.94-2.06 2.06-.94-2.06-.94-.94-2.06-.94 2.06-2.06.94z\"/><path d=\"M17.41 7.96l-1.37-1.37c-.4-.4-.92-.59-1.43-.59-.52 0-1.04.2-1.43.59L10.3 9.45l-7.72 7.72c-.78.78-.78 2.05 0 2.83L4 21.41c.39.39.9.59 1.41.59.51 0 1.02-.2 1.41-.59l7.78-7.78 2.81-2.81c.8-.78.8-2.07 0-2.86zM5.41 20L4 18.59l7.72-7.72 1.47 1.35L5.41 20z\"/>\n",
              "  </svg>\n",
              "      </button>\n",
              "      \n",
              "  <style>\n",
              "    .colab-df-container {\n",
              "      display:flex;\n",
              "      flex-wrap:wrap;\n",
              "      gap: 12px;\n",
              "    }\n",
              "\n",
              "    .colab-df-convert {\n",
              "      background-color: #E8F0FE;\n",
              "      border: none;\n",
              "      border-radius: 50%;\n",
              "      cursor: pointer;\n",
              "      display: none;\n",
              "      fill: #1967D2;\n",
              "      height: 32px;\n",
              "      padding: 0 0 0 0;\n",
              "      width: 32px;\n",
              "    }\n",
              "\n",
              "    .colab-df-convert:hover {\n",
              "      background-color: #E2EBFA;\n",
              "      box-shadow: 0px 1px 2px rgba(60, 64, 67, 0.3), 0px 1px 3px 1px rgba(60, 64, 67, 0.15);\n",
              "      fill: #174EA6;\n",
              "    }\n",
              "\n",
              "    [theme=dark] .colab-df-convert {\n",
              "      background-color: #3B4455;\n",
              "      fill: #D2E3FC;\n",
              "    }\n",
              "\n",
              "    [theme=dark] .colab-df-convert:hover {\n",
              "      background-color: #434B5C;\n",
              "      box-shadow: 0px 1px 3px 1px rgba(0, 0, 0, 0.15);\n",
              "      filter: drop-shadow(0px 1px 2px rgba(0, 0, 0, 0.3));\n",
              "      fill: #FFFFFF;\n",
              "    }\n",
              "  </style>\n",
              "\n",
              "      <script>\n",
              "        const buttonEl =\n",
              "          document.querySelector('#df-a567249d-1e0e-4bf5-91f8-cb0ca5173e4d button.colab-df-convert');\n",
              "        buttonEl.style.display =\n",
              "          google.colab.kernel.accessAllowed ? 'block' : 'none';\n",
              "\n",
              "        async function convertToInteractive(key) {\n",
              "          const element = document.querySelector('#df-a567249d-1e0e-4bf5-91f8-cb0ca5173e4d');\n",
              "          const dataTable =\n",
              "            await google.colab.kernel.invokeFunction('convertToInteractive',\n",
              "                                                     [key], {});\n",
              "          if (!dataTable) return;\n",
              "\n",
              "          const docLinkHtml = 'Like what you see? Visit the ' +\n",
              "            '<a target=\"_blank\" href=https://colab.research.google.com/notebooks/data_table.ipynb>data table notebook</a>'\n",
              "            + ' to learn more about interactive tables.';\n",
              "          element.innerHTML = '';\n",
              "          dataTable['output_type'] = 'display_data';\n",
              "          await google.colab.output.renderOutput(dataTable, element);\n",
              "          const docLink = document.createElement('div');\n",
              "          docLink.innerHTML = docLinkHtml;\n",
              "          element.appendChild(docLink);\n",
              "        }\n",
              "      </script>\n",
              "    </div>\n",
              "  </div>\n",
              "  "
            ]
          },
          "metadata": {},
          "execution_count": 3
        }
      ]
    },
    {
      "cell_type": "markdown",
      "source": [
        "### *Transformación y limpieza de datos*"
      ],
      "metadata": {
        "id": "aiFll5zbLjvo"
      }
    },
    {
      "cell_type": "markdown",
      "source": [
        "##### Datos faltantes\n",
        "\n"
      ],
      "metadata": {
        "id": "VdlChUMr20qU"
      }
    },
    {
      "cell_type": "markdown",
      "source": [
        "Se tomó la decisión de eliminar aquellas entradas que contenían al menos un dato faltante."
      ],
      "metadata": {
        "id": "scDRmG-3gnbU"
      }
    },
    {
      "cell_type": "code",
      "source": [
        "df = df.dropna(how='any')\n",
        "df = df.reset_index(drop=True)\n",
        "df.head(5)"
      ],
      "metadata": {
        "colab": {
          "base_uri": "https://localhost:8080/",
          "height": 0
        },
        "id": "7bUXoQSk2RzH",
        "outputId": "bc765262-d592-4144-9192-eea507089dae"
      },
      "execution_count": 4,
      "outputs": [
        {
          "output_type": "execute_result",
          "data": {
            "text/plain": [
              "      Id  Year_Birth   Education Marital_Status   Income  Kidhome  Teenhome  \\\n",
              "0   1826        1970  Graduation       Divorced  84835.0        0         0   \n",
              "1      1        1961  Graduation         Single  57091.0        0         0   \n",
              "2  10476        1958  Graduation        Married  67267.0        0         1   \n",
              "3   1386        1967  Graduation       Together  32474.0        1         1   \n",
              "4   5371        1989  Graduation         Single  21474.0        1         0   \n",
              "\n",
              "  Dt_Customer  Recency  MntWines  ...  MntFishProducts  MntSweetProducts  \\\n",
              "0   6/16/2014        0       189  ...              111               189   \n",
              "1   6/15/2014        0       464  ...                7                 0   \n",
              "2   5/13/2014        0       134  ...               15                 2   \n",
              "3   11/5/2014        0        10  ...                0                 0   \n",
              "4    8/4/2014        0         6  ...               11                 0   \n",
              "\n",
              "   MntGoldProds  NumDealsPurchases  NumWebPurchases  NumCatalogPurchases  \\\n",
              "0           218                  1                4                    4   \n",
              "1            37                  1                7                    3   \n",
              "2            30                  1                3                    2   \n",
              "3             0                  1                1                    0   \n",
              "4            34                  2                3                    1   \n",
              "\n",
              "   NumStorePurchases  NumWebVisitsMonth  Response  Complain  \n",
              "0                  6                  1         1         0  \n",
              "1                  7                  5         1         0  \n",
              "2                  5                  2         0         0  \n",
              "3                  2                  7         0         0  \n",
              "4                  2                  7         1         0  \n",
              "\n",
              "[5 rows x 22 columns]"
            ],
            "text/html": [
              "\n",
              "  <div id=\"df-341c761a-dcfe-4e8a-8049-3e2d898d85b1\">\n",
              "    <div class=\"colab-df-container\">\n",
              "      <div>\n",
              "<style scoped>\n",
              "    .dataframe tbody tr th:only-of-type {\n",
              "        vertical-align: middle;\n",
              "    }\n",
              "\n",
              "    .dataframe tbody tr th {\n",
              "        vertical-align: top;\n",
              "    }\n",
              "\n",
              "    .dataframe thead th {\n",
              "        text-align: right;\n",
              "    }\n",
              "</style>\n",
              "<table border=\"1\" class=\"dataframe\">\n",
              "  <thead>\n",
              "    <tr style=\"text-align: right;\">\n",
              "      <th></th>\n",
              "      <th>Id</th>\n",
              "      <th>Year_Birth</th>\n",
              "      <th>Education</th>\n",
              "      <th>Marital_Status</th>\n",
              "      <th>Income</th>\n",
              "      <th>Kidhome</th>\n",
              "      <th>Teenhome</th>\n",
              "      <th>Dt_Customer</th>\n",
              "      <th>Recency</th>\n",
              "      <th>MntWines</th>\n",
              "      <th>...</th>\n",
              "      <th>MntFishProducts</th>\n",
              "      <th>MntSweetProducts</th>\n",
              "      <th>MntGoldProds</th>\n",
              "      <th>NumDealsPurchases</th>\n",
              "      <th>NumWebPurchases</th>\n",
              "      <th>NumCatalogPurchases</th>\n",
              "      <th>NumStorePurchases</th>\n",
              "      <th>NumWebVisitsMonth</th>\n",
              "      <th>Response</th>\n",
              "      <th>Complain</th>\n",
              "    </tr>\n",
              "  </thead>\n",
              "  <tbody>\n",
              "    <tr>\n",
              "      <th>0</th>\n",
              "      <td>1826</td>\n",
              "      <td>1970</td>\n",
              "      <td>Graduation</td>\n",
              "      <td>Divorced</td>\n",
              "      <td>84835.0</td>\n",
              "      <td>0</td>\n",
              "      <td>0</td>\n",
              "      <td>6/16/2014</td>\n",
              "      <td>0</td>\n",
              "      <td>189</td>\n",
              "      <td>...</td>\n",
              "      <td>111</td>\n",
              "      <td>189</td>\n",
              "      <td>218</td>\n",
              "      <td>1</td>\n",
              "      <td>4</td>\n",
              "      <td>4</td>\n",
              "      <td>6</td>\n",
              "      <td>1</td>\n",
              "      <td>1</td>\n",
              "      <td>0</td>\n",
              "    </tr>\n",
              "    <tr>\n",
              "      <th>1</th>\n",
              "      <td>1</td>\n",
              "      <td>1961</td>\n",
              "      <td>Graduation</td>\n",
              "      <td>Single</td>\n",
              "      <td>57091.0</td>\n",
              "      <td>0</td>\n",
              "      <td>0</td>\n",
              "      <td>6/15/2014</td>\n",
              "      <td>0</td>\n",
              "      <td>464</td>\n",
              "      <td>...</td>\n",
              "      <td>7</td>\n",
              "      <td>0</td>\n",
              "      <td>37</td>\n",
              "      <td>1</td>\n",
              "      <td>7</td>\n",
              "      <td>3</td>\n",
              "      <td>7</td>\n",
              "      <td>5</td>\n",
              "      <td>1</td>\n",
              "      <td>0</td>\n",
              "    </tr>\n",
              "    <tr>\n",
              "      <th>2</th>\n",
              "      <td>10476</td>\n",
              "      <td>1958</td>\n",
              "      <td>Graduation</td>\n",
              "      <td>Married</td>\n",
              "      <td>67267.0</td>\n",
              "      <td>0</td>\n",
              "      <td>1</td>\n",
              "      <td>5/13/2014</td>\n",
              "      <td>0</td>\n",
              "      <td>134</td>\n",
              "      <td>...</td>\n",
              "      <td>15</td>\n",
              "      <td>2</td>\n",
              "      <td>30</td>\n",
              "      <td>1</td>\n",
              "      <td>3</td>\n",
              "      <td>2</td>\n",
              "      <td>5</td>\n",
              "      <td>2</td>\n",
              "      <td>0</td>\n",
              "      <td>0</td>\n",
              "    </tr>\n",
              "    <tr>\n",
              "      <th>3</th>\n",
              "      <td>1386</td>\n",
              "      <td>1967</td>\n",
              "      <td>Graduation</td>\n",
              "      <td>Together</td>\n",
              "      <td>32474.0</td>\n",
              "      <td>1</td>\n",
              "      <td>1</td>\n",
              "      <td>11/5/2014</td>\n",
              "      <td>0</td>\n",
              "      <td>10</td>\n",
              "      <td>...</td>\n",
              "      <td>0</td>\n",
              "      <td>0</td>\n",
              "      <td>0</td>\n",
              "      <td>1</td>\n",
              "      <td>1</td>\n",
              "      <td>0</td>\n",
              "      <td>2</td>\n",
              "      <td>7</td>\n",
              "      <td>0</td>\n",
              "      <td>0</td>\n",
              "    </tr>\n",
              "    <tr>\n",
              "      <th>4</th>\n",
              "      <td>5371</td>\n",
              "      <td>1989</td>\n",
              "      <td>Graduation</td>\n",
              "      <td>Single</td>\n",
              "      <td>21474.0</td>\n",
              "      <td>1</td>\n",
              "      <td>0</td>\n",
              "      <td>8/4/2014</td>\n",
              "      <td>0</td>\n",
              "      <td>6</td>\n",
              "      <td>...</td>\n",
              "      <td>11</td>\n",
              "      <td>0</td>\n",
              "      <td>34</td>\n",
              "      <td>2</td>\n",
              "      <td>3</td>\n",
              "      <td>1</td>\n",
              "      <td>2</td>\n",
              "      <td>7</td>\n",
              "      <td>1</td>\n",
              "      <td>0</td>\n",
              "    </tr>\n",
              "  </tbody>\n",
              "</table>\n",
              "<p>5 rows × 22 columns</p>\n",
              "</div>\n",
              "      <button class=\"colab-df-convert\" onclick=\"convertToInteractive('df-341c761a-dcfe-4e8a-8049-3e2d898d85b1')\"\n",
              "              title=\"Convert this dataframe to an interactive table.\"\n",
              "              style=\"display:none;\">\n",
              "        \n",
              "  <svg xmlns=\"http://www.w3.org/2000/svg\" height=\"24px\"viewBox=\"0 0 24 24\"\n",
              "       width=\"24px\">\n",
              "    <path d=\"M0 0h24v24H0V0z\" fill=\"none\"/>\n",
              "    <path d=\"M18.56 5.44l.94 2.06.94-2.06 2.06-.94-2.06-.94-.94-2.06-.94 2.06-2.06.94zm-11 1L8.5 8.5l.94-2.06 2.06-.94-2.06-.94L8.5 2.5l-.94 2.06-2.06.94zm10 10l.94 2.06.94-2.06 2.06-.94-2.06-.94-.94-2.06-.94 2.06-2.06.94z\"/><path d=\"M17.41 7.96l-1.37-1.37c-.4-.4-.92-.59-1.43-.59-.52 0-1.04.2-1.43.59L10.3 9.45l-7.72 7.72c-.78.78-.78 2.05 0 2.83L4 21.41c.39.39.9.59 1.41.59.51 0 1.02-.2 1.41-.59l7.78-7.78 2.81-2.81c.8-.78.8-2.07 0-2.86zM5.41 20L4 18.59l7.72-7.72 1.47 1.35L5.41 20z\"/>\n",
              "  </svg>\n",
              "      </button>\n",
              "      \n",
              "  <style>\n",
              "    .colab-df-container {\n",
              "      display:flex;\n",
              "      flex-wrap:wrap;\n",
              "      gap: 12px;\n",
              "    }\n",
              "\n",
              "    .colab-df-convert {\n",
              "      background-color: #E8F0FE;\n",
              "      border: none;\n",
              "      border-radius: 50%;\n",
              "      cursor: pointer;\n",
              "      display: none;\n",
              "      fill: #1967D2;\n",
              "      height: 32px;\n",
              "      padding: 0 0 0 0;\n",
              "      width: 32px;\n",
              "    }\n",
              "\n",
              "    .colab-df-convert:hover {\n",
              "      background-color: #E2EBFA;\n",
              "      box-shadow: 0px 1px 2px rgba(60, 64, 67, 0.3), 0px 1px 3px 1px rgba(60, 64, 67, 0.15);\n",
              "      fill: #174EA6;\n",
              "    }\n",
              "\n",
              "    [theme=dark] .colab-df-convert {\n",
              "      background-color: #3B4455;\n",
              "      fill: #D2E3FC;\n",
              "    }\n",
              "\n",
              "    [theme=dark] .colab-df-convert:hover {\n",
              "      background-color: #434B5C;\n",
              "      box-shadow: 0px 1px 3px 1px rgba(0, 0, 0, 0.15);\n",
              "      filter: drop-shadow(0px 1px 2px rgba(0, 0, 0, 0.3));\n",
              "      fill: #FFFFFF;\n",
              "    }\n",
              "  </style>\n",
              "\n",
              "      <script>\n",
              "        const buttonEl =\n",
              "          document.querySelector('#df-341c761a-dcfe-4e8a-8049-3e2d898d85b1 button.colab-df-convert');\n",
              "        buttonEl.style.display =\n",
              "          google.colab.kernel.accessAllowed ? 'block' : 'none';\n",
              "\n",
              "        async function convertToInteractive(key) {\n",
              "          const element = document.querySelector('#df-341c761a-dcfe-4e8a-8049-3e2d898d85b1');\n",
              "          const dataTable =\n",
              "            await google.colab.kernel.invokeFunction('convertToInteractive',\n",
              "                                                     [key], {});\n",
              "          if (!dataTable) return;\n",
              "\n",
              "          const docLinkHtml = 'Like what you see? Visit the ' +\n",
              "            '<a target=\"_blank\" href=https://colab.research.google.com/notebooks/data_table.ipynb>data table notebook</a>'\n",
              "            + ' to learn more about interactive tables.';\n",
              "          element.innerHTML = '';\n",
              "          dataTable['output_type'] = 'display_data';\n",
              "          await google.colab.output.renderOutput(dataTable, element);\n",
              "          const docLink = document.createElement('div');\n",
              "          docLink.innerHTML = docLinkHtml;\n",
              "          element.appendChild(docLink);\n",
              "        }\n",
              "      </script>\n",
              "    </div>\n",
              "  </div>\n",
              "  "
            ]
          },
          "metadata": {},
          "execution_count": 4
        }
      ]
    },
    {
      "cell_type": "markdown",
      "source": [
        "##### Tipo de datos"
      ],
      "metadata": {
        "id": "ZNlvfGKxLyBs"
      }
    },
    {
      "cell_type": "markdown",
      "source": [
        "Se verificó que el tipo de dato de cada campo sea coherente con lo que exhibe."
      ],
      "metadata": {
        "id": "EtWVUNf5gwjd"
      }
    },
    {
      "cell_type": "code",
      "source": [
        "df.dtypes"
      ],
      "metadata": {
        "colab": {
          "base_uri": "https://localhost:8080/"
        },
        "id": "cVUtJu3iL4tb",
        "outputId": "97be09e8-f2e1-45dd-db59-f56a9e205366"
      },
      "execution_count": 5,
      "outputs": [
        {
          "output_type": "execute_result",
          "data": {
            "text/plain": [
              "Id                       int64\n",
              "Year_Birth               int64\n",
              "Education               object\n",
              "Marital_Status          object\n",
              "Income                 float64\n",
              "Kidhome                  int64\n",
              "Teenhome                 int64\n",
              "Dt_Customer             object\n",
              "Recency                  int64\n",
              "MntWines                 int64\n",
              "MntFruits                int64\n",
              "MntMeatProducts          int64\n",
              "MntFishProducts          int64\n",
              "MntSweetProducts         int64\n",
              "MntGoldProds             int64\n",
              "NumDealsPurchases        int64\n",
              "NumWebPurchases          int64\n",
              "NumCatalogPurchases      int64\n",
              "NumStorePurchases        int64\n",
              "NumWebVisitsMonth        int64\n",
              "Response                 int64\n",
              "Complain                 int64\n",
              "dtype: object"
            ]
          },
          "metadata": {},
          "execution_count": 5
        }
      ]
    },
    {
      "cell_type": "markdown",
      "source": [
        "##### Estandarización de valores"
      ],
      "metadata": {
        "id": "IJDCo4CEMcUU"
      }
    },
    {
      "cell_type": "markdown",
      "source": [
        "Se estandarizaron aquellos valores que pertenecían a una misma categoría y se eliminaron los registros de aquellos otros que no podían incluirse en ninguna de estas por contener información incoherente."
      ],
      "metadata": {
        "id": "n23dOa52iJAS"
      }
    },
    {
      "cell_type": "code",
      "source": [
        "df['Marital_Status'].value_counts()"
      ],
      "metadata": {
        "colab": {
          "base_uri": "https://localhost:8080/"
        },
        "id": "_K50kThCMfME",
        "outputId": "5d919f83-87b3-4a4f-fb40-e602b162381d"
      },
      "execution_count": 6,
      "outputs": [
        {
          "output_type": "execute_result",
          "data": {
            "text/plain": [
              "Married     857\n",
              "Together    573\n",
              "Single      471\n",
              "Divorced    232\n",
              "Widow        76\n",
              "Alone         3\n",
              "YOLO          2\n",
              "Absurd        2\n",
              "Name: Marital_Status, dtype: int64"
            ]
          },
          "metadata": {},
          "execution_count": 6
        }
      ]
    },
    {
      "cell_type": "code",
      "source": [
        "df['Education'].value_counts()"
      ],
      "metadata": {
        "colab": {
          "base_uri": "https://localhost:8080/"
        },
        "id": "arD131DLM72I",
        "outputId": "682b6130-0f72-4d6f-e19d-d2f007434f9c"
      },
      "execution_count": 7,
      "outputs": [
        {
          "output_type": "execute_result",
          "data": {
            "text/plain": [
              "Graduation    1116\n",
              "PhD            481\n",
              "Master         365\n",
              "2n Cycle       200\n",
              "Basic           54\n",
              "Name: Education, dtype: int64"
            ]
          },
          "metadata": {},
          "execution_count": 7
        }
      ]
    },
    {
      "cell_type": "code",
      "source": [
        "for i in range(0, df.shape[0]):\n",
        "  status = df['Marital_Status'][i]\n",
        "  if status in ('YOLO', 'Absurd'):\n",
        "    df = df.drop(i)\n",
        "  elif status == 'Alone':\n",
        "    df['Marital_Status'][i] = 'Single'\n",
        "df = df.reset_index(drop=True)\n",
        "df.head(5)"
      ],
      "metadata": {
        "colab": {
          "base_uri": "https://localhost:8080/",
          "height": 0
        },
        "id": "B_Q38scbPrcK",
        "outputId": "2b2dfdcd-3995-4234-a870-c8f9df5c00a3"
      },
      "execution_count": 8,
      "outputs": [
        {
          "output_type": "stream",
          "name": "stderr",
          "text": [
            "<ipython-input-8-4f6df25daa19>:6: SettingWithCopyWarning: \n",
            "A value is trying to be set on a copy of a slice from a DataFrame\n",
            "\n",
            "See the caveats in the documentation: https://pandas.pydata.org/pandas-docs/stable/user_guide/indexing.html#returning-a-view-versus-a-copy\n",
            "  df['Marital_Status'][i] = 'Single'\n"
          ]
        },
        {
          "output_type": "execute_result",
          "data": {
            "text/plain": [
              "      Id  Year_Birth   Education Marital_Status   Income  Kidhome  Teenhome  \\\n",
              "0   1826        1970  Graduation       Divorced  84835.0        0         0   \n",
              "1      1        1961  Graduation         Single  57091.0        0         0   \n",
              "2  10476        1958  Graduation        Married  67267.0        0         1   \n",
              "3   1386        1967  Graduation       Together  32474.0        1         1   \n",
              "4   5371        1989  Graduation         Single  21474.0        1         0   \n",
              "\n",
              "  Dt_Customer  Recency  MntWines  ...  MntFishProducts  MntSweetProducts  \\\n",
              "0   6/16/2014        0       189  ...              111               189   \n",
              "1   6/15/2014        0       464  ...                7                 0   \n",
              "2   5/13/2014        0       134  ...               15                 2   \n",
              "3   11/5/2014        0        10  ...                0                 0   \n",
              "4    8/4/2014        0         6  ...               11                 0   \n",
              "\n",
              "   MntGoldProds  NumDealsPurchases  NumWebPurchases  NumCatalogPurchases  \\\n",
              "0           218                  1                4                    4   \n",
              "1            37                  1                7                    3   \n",
              "2            30                  1                3                    2   \n",
              "3             0                  1                1                    0   \n",
              "4            34                  2                3                    1   \n",
              "\n",
              "   NumStorePurchases  NumWebVisitsMonth  Response  Complain  \n",
              "0                  6                  1         1         0  \n",
              "1                  7                  5         1         0  \n",
              "2                  5                  2         0         0  \n",
              "3                  2                  7         0         0  \n",
              "4                  2                  7         1         0  \n",
              "\n",
              "[5 rows x 22 columns]"
            ],
            "text/html": [
              "\n",
              "  <div id=\"df-184de680-119c-458c-8fd8-aca47c5354bb\">\n",
              "    <div class=\"colab-df-container\">\n",
              "      <div>\n",
              "<style scoped>\n",
              "    .dataframe tbody tr th:only-of-type {\n",
              "        vertical-align: middle;\n",
              "    }\n",
              "\n",
              "    .dataframe tbody tr th {\n",
              "        vertical-align: top;\n",
              "    }\n",
              "\n",
              "    .dataframe thead th {\n",
              "        text-align: right;\n",
              "    }\n",
              "</style>\n",
              "<table border=\"1\" class=\"dataframe\">\n",
              "  <thead>\n",
              "    <tr style=\"text-align: right;\">\n",
              "      <th></th>\n",
              "      <th>Id</th>\n",
              "      <th>Year_Birth</th>\n",
              "      <th>Education</th>\n",
              "      <th>Marital_Status</th>\n",
              "      <th>Income</th>\n",
              "      <th>Kidhome</th>\n",
              "      <th>Teenhome</th>\n",
              "      <th>Dt_Customer</th>\n",
              "      <th>Recency</th>\n",
              "      <th>MntWines</th>\n",
              "      <th>...</th>\n",
              "      <th>MntFishProducts</th>\n",
              "      <th>MntSweetProducts</th>\n",
              "      <th>MntGoldProds</th>\n",
              "      <th>NumDealsPurchases</th>\n",
              "      <th>NumWebPurchases</th>\n",
              "      <th>NumCatalogPurchases</th>\n",
              "      <th>NumStorePurchases</th>\n",
              "      <th>NumWebVisitsMonth</th>\n",
              "      <th>Response</th>\n",
              "      <th>Complain</th>\n",
              "    </tr>\n",
              "  </thead>\n",
              "  <tbody>\n",
              "    <tr>\n",
              "      <th>0</th>\n",
              "      <td>1826</td>\n",
              "      <td>1970</td>\n",
              "      <td>Graduation</td>\n",
              "      <td>Divorced</td>\n",
              "      <td>84835.0</td>\n",
              "      <td>0</td>\n",
              "      <td>0</td>\n",
              "      <td>6/16/2014</td>\n",
              "      <td>0</td>\n",
              "      <td>189</td>\n",
              "      <td>...</td>\n",
              "      <td>111</td>\n",
              "      <td>189</td>\n",
              "      <td>218</td>\n",
              "      <td>1</td>\n",
              "      <td>4</td>\n",
              "      <td>4</td>\n",
              "      <td>6</td>\n",
              "      <td>1</td>\n",
              "      <td>1</td>\n",
              "      <td>0</td>\n",
              "    </tr>\n",
              "    <tr>\n",
              "      <th>1</th>\n",
              "      <td>1</td>\n",
              "      <td>1961</td>\n",
              "      <td>Graduation</td>\n",
              "      <td>Single</td>\n",
              "      <td>57091.0</td>\n",
              "      <td>0</td>\n",
              "      <td>0</td>\n",
              "      <td>6/15/2014</td>\n",
              "      <td>0</td>\n",
              "      <td>464</td>\n",
              "      <td>...</td>\n",
              "      <td>7</td>\n",
              "      <td>0</td>\n",
              "      <td>37</td>\n",
              "      <td>1</td>\n",
              "      <td>7</td>\n",
              "      <td>3</td>\n",
              "      <td>7</td>\n",
              "      <td>5</td>\n",
              "      <td>1</td>\n",
              "      <td>0</td>\n",
              "    </tr>\n",
              "    <tr>\n",
              "      <th>2</th>\n",
              "      <td>10476</td>\n",
              "      <td>1958</td>\n",
              "      <td>Graduation</td>\n",
              "      <td>Married</td>\n",
              "      <td>67267.0</td>\n",
              "      <td>0</td>\n",
              "      <td>1</td>\n",
              "      <td>5/13/2014</td>\n",
              "      <td>0</td>\n",
              "      <td>134</td>\n",
              "      <td>...</td>\n",
              "      <td>15</td>\n",
              "      <td>2</td>\n",
              "      <td>30</td>\n",
              "      <td>1</td>\n",
              "      <td>3</td>\n",
              "      <td>2</td>\n",
              "      <td>5</td>\n",
              "      <td>2</td>\n",
              "      <td>0</td>\n",
              "      <td>0</td>\n",
              "    </tr>\n",
              "    <tr>\n",
              "      <th>3</th>\n",
              "      <td>1386</td>\n",
              "      <td>1967</td>\n",
              "      <td>Graduation</td>\n",
              "      <td>Together</td>\n",
              "      <td>32474.0</td>\n",
              "      <td>1</td>\n",
              "      <td>1</td>\n",
              "      <td>11/5/2014</td>\n",
              "      <td>0</td>\n",
              "      <td>10</td>\n",
              "      <td>...</td>\n",
              "      <td>0</td>\n",
              "      <td>0</td>\n",
              "      <td>0</td>\n",
              "      <td>1</td>\n",
              "      <td>1</td>\n",
              "      <td>0</td>\n",
              "      <td>2</td>\n",
              "      <td>7</td>\n",
              "      <td>0</td>\n",
              "      <td>0</td>\n",
              "    </tr>\n",
              "    <tr>\n",
              "      <th>4</th>\n",
              "      <td>5371</td>\n",
              "      <td>1989</td>\n",
              "      <td>Graduation</td>\n",
              "      <td>Single</td>\n",
              "      <td>21474.0</td>\n",
              "      <td>1</td>\n",
              "      <td>0</td>\n",
              "      <td>8/4/2014</td>\n",
              "      <td>0</td>\n",
              "      <td>6</td>\n",
              "      <td>...</td>\n",
              "      <td>11</td>\n",
              "      <td>0</td>\n",
              "      <td>34</td>\n",
              "      <td>2</td>\n",
              "      <td>3</td>\n",
              "      <td>1</td>\n",
              "      <td>2</td>\n",
              "      <td>7</td>\n",
              "      <td>1</td>\n",
              "      <td>0</td>\n",
              "    </tr>\n",
              "  </tbody>\n",
              "</table>\n",
              "<p>5 rows × 22 columns</p>\n",
              "</div>\n",
              "      <button class=\"colab-df-convert\" onclick=\"convertToInteractive('df-184de680-119c-458c-8fd8-aca47c5354bb')\"\n",
              "              title=\"Convert this dataframe to an interactive table.\"\n",
              "              style=\"display:none;\">\n",
              "        \n",
              "  <svg xmlns=\"http://www.w3.org/2000/svg\" height=\"24px\"viewBox=\"0 0 24 24\"\n",
              "       width=\"24px\">\n",
              "    <path d=\"M0 0h24v24H0V0z\" fill=\"none\"/>\n",
              "    <path d=\"M18.56 5.44l.94 2.06.94-2.06 2.06-.94-2.06-.94-.94-2.06-.94 2.06-2.06.94zm-11 1L8.5 8.5l.94-2.06 2.06-.94-2.06-.94L8.5 2.5l-.94 2.06-2.06.94zm10 10l.94 2.06.94-2.06 2.06-.94-2.06-.94-.94-2.06-.94 2.06-2.06.94z\"/><path d=\"M17.41 7.96l-1.37-1.37c-.4-.4-.92-.59-1.43-.59-.52 0-1.04.2-1.43.59L10.3 9.45l-7.72 7.72c-.78.78-.78 2.05 0 2.83L4 21.41c.39.39.9.59 1.41.59.51 0 1.02-.2 1.41-.59l7.78-7.78 2.81-2.81c.8-.78.8-2.07 0-2.86zM5.41 20L4 18.59l7.72-7.72 1.47 1.35L5.41 20z\"/>\n",
              "  </svg>\n",
              "      </button>\n",
              "      \n",
              "  <style>\n",
              "    .colab-df-container {\n",
              "      display:flex;\n",
              "      flex-wrap:wrap;\n",
              "      gap: 12px;\n",
              "    }\n",
              "\n",
              "    .colab-df-convert {\n",
              "      background-color: #E8F0FE;\n",
              "      border: none;\n",
              "      border-radius: 50%;\n",
              "      cursor: pointer;\n",
              "      display: none;\n",
              "      fill: #1967D2;\n",
              "      height: 32px;\n",
              "      padding: 0 0 0 0;\n",
              "      width: 32px;\n",
              "    }\n",
              "\n",
              "    .colab-df-convert:hover {\n",
              "      background-color: #E2EBFA;\n",
              "      box-shadow: 0px 1px 2px rgba(60, 64, 67, 0.3), 0px 1px 3px 1px rgba(60, 64, 67, 0.15);\n",
              "      fill: #174EA6;\n",
              "    }\n",
              "\n",
              "    [theme=dark] .colab-df-convert {\n",
              "      background-color: #3B4455;\n",
              "      fill: #D2E3FC;\n",
              "    }\n",
              "\n",
              "    [theme=dark] .colab-df-convert:hover {\n",
              "      background-color: #434B5C;\n",
              "      box-shadow: 0px 1px 3px 1px rgba(0, 0, 0, 0.15);\n",
              "      filter: drop-shadow(0px 1px 2px rgba(0, 0, 0, 0.3));\n",
              "      fill: #FFFFFF;\n",
              "    }\n",
              "  </style>\n",
              "\n",
              "      <script>\n",
              "        const buttonEl =\n",
              "          document.querySelector('#df-184de680-119c-458c-8fd8-aca47c5354bb button.colab-df-convert');\n",
              "        buttonEl.style.display =\n",
              "          google.colab.kernel.accessAllowed ? 'block' : 'none';\n",
              "\n",
              "        async function convertToInteractive(key) {\n",
              "          const element = document.querySelector('#df-184de680-119c-458c-8fd8-aca47c5354bb');\n",
              "          const dataTable =\n",
              "            await google.colab.kernel.invokeFunction('convertToInteractive',\n",
              "                                                     [key], {});\n",
              "          if (!dataTable) return;\n",
              "\n",
              "          const docLinkHtml = 'Like what you see? Visit the ' +\n",
              "            '<a target=\"_blank\" href=https://colab.research.google.com/notebooks/data_table.ipynb>data table notebook</a>'\n",
              "            + ' to learn more about interactive tables.';\n",
              "          element.innerHTML = '';\n",
              "          dataTable['output_type'] = 'display_data';\n",
              "          await google.colab.output.renderOutput(dataTable, element);\n",
              "          const docLink = document.createElement('div');\n",
              "          docLink.innerHTML = docLinkHtml;\n",
              "          element.appendChild(docLink);\n",
              "        }\n",
              "      </script>\n",
              "    </div>\n",
              "  </div>\n",
              "  "
            ]
          },
          "metadata": {},
          "execution_count": 8
        }
      ]
    },
    {
      "cell_type": "markdown",
      "source": [
        "### *Análisis exploratorio de datos*"
      ],
      "metadata": {
        "id": "AjRnVPaTmxnZ"
      }
    },
    {
      "cell_type": "markdown",
      "source": [
        "Se analizarán la distribuciones de las distintas variables y la manera en la que estas interactúan con la variable respuesta `Response` para obtener conclusiones que nos permitan, luego, plantear las preguntas de interés."
      ],
      "metadata": {
        "id": "Scgv6U8sGR5J"
      }
    },
    {
      "cell_type": "markdown",
      "source": [
        "Análisis de la respuesta de aceptación a la membresía en función de los salarios anuales:"
      ],
      "metadata": {
        "id": "TwTO1USlLUYA"
      }
    },
    {
      "cell_type": "code",
      "source": [
        "print(\"Resumen numérico\")\n",
        "df.groupby('Response')['Income'].describe()"
      ],
      "metadata": {
        "colab": {
          "base_uri": "https://localhost:8080/",
          "height": 161
        },
        "id": "-lsVShzDLbJZ",
        "outputId": "7270028a-3337-4c98-b90c-d6dd4c7357dc"
      },
      "execution_count": 9,
      "outputs": [
        {
          "output_type": "stream",
          "name": "stdout",
          "text": [
            "Resumen numérico\n"
          ]
        },
        {
          "output_type": "execute_result",
          "data": {
            "text/plain": [
              "           count          mean           std     min      25%      50%  \\\n",
              "Response                                                                 \n",
              "0         1881.0  50832.625199  25263.913081  1730.0  34421.0  50150.0   \n",
              "1          331.0  60187.752266  23231.596312  7500.0  39723.5  64090.0   \n",
              "\n",
              "              75%       max  \n",
              "Response                     \n",
              "0         66313.0  666666.0  \n",
              "1         80676.0  105471.0  "
            ],
            "text/html": [
              "\n",
              "  <div id=\"df-045aca12-1ad8-4a9b-9128-2a5fbeabc9e2\">\n",
              "    <div class=\"colab-df-container\">\n",
              "      <div>\n",
              "<style scoped>\n",
              "    .dataframe tbody tr th:only-of-type {\n",
              "        vertical-align: middle;\n",
              "    }\n",
              "\n",
              "    .dataframe tbody tr th {\n",
              "        vertical-align: top;\n",
              "    }\n",
              "\n",
              "    .dataframe thead th {\n",
              "        text-align: right;\n",
              "    }\n",
              "</style>\n",
              "<table border=\"1\" class=\"dataframe\">\n",
              "  <thead>\n",
              "    <tr style=\"text-align: right;\">\n",
              "      <th></th>\n",
              "      <th>count</th>\n",
              "      <th>mean</th>\n",
              "      <th>std</th>\n",
              "      <th>min</th>\n",
              "      <th>25%</th>\n",
              "      <th>50%</th>\n",
              "      <th>75%</th>\n",
              "      <th>max</th>\n",
              "    </tr>\n",
              "    <tr>\n",
              "      <th>Response</th>\n",
              "      <th></th>\n",
              "      <th></th>\n",
              "      <th></th>\n",
              "      <th></th>\n",
              "      <th></th>\n",
              "      <th></th>\n",
              "      <th></th>\n",
              "      <th></th>\n",
              "    </tr>\n",
              "  </thead>\n",
              "  <tbody>\n",
              "    <tr>\n",
              "      <th>0</th>\n",
              "      <td>1881.0</td>\n",
              "      <td>50832.625199</td>\n",
              "      <td>25263.913081</td>\n",
              "      <td>1730.0</td>\n",
              "      <td>34421.0</td>\n",
              "      <td>50150.0</td>\n",
              "      <td>66313.0</td>\n",
              "      <td>666666.0</td>\n",
              "    </tr>\n",
              "    <tr>\n",
              "      <th>1</th>\n",
              "      <td>331.0</td>\n",
              "      <td>60187.752266</td>\n",
              "      <td>23231.596312</td>\n",
              "      <td>7500.0</td>\n",
              "      <td>39723.5</td>\n",
              "      <td>64090.0</td>\n",
              "      <td>80676.0</td>\n",
              "      <td>105471.0</td>\n",
              "    </tr>\n",
              "  </tbody>\n",
              "</table>\n",
              "</div>\n",
              "      <button class=\"colab-df-convert\" onclick=\"convertToInteractive('df-045aca12-1ad8-4a9b-9128-2a5fbeabc9e2')\"\n",
              "              title=\"Convert this dataframe to an interactive table.\"\n",
              "              style=\"display:none;\">\n",
              "        \n",
              "  <svg xmlns=\"http://www.w3.org/2000/svg\" height=\"24px\"viewBox=\"0 0 24 24\"\n",
              "       width=\"24px\">\n",
              "    <path d=\"M0 0h24v24H0V0z\" fill=\"none\"/>\n",
              "    <path d=\"M18.56 5.44l.94 2.06.94-2.06 2.06-.94-2.06-.94-.94-2.06-.94 2.06-2.06.94zm-11 1L8.5 8.5l.94-2.06 2.06-.94-2.06-.94L8.5 2.5l-.94 2.06-2.06.94zm10 10l.94 2.06.94-2.06 2.06-.94-2.06-.94-.94-2.06-.94 2.06-2.06.94z\"/><path d=\"M17.41 7.96l-1.37-1.37c-.4-.4-.92-.59-1.43-.59-.52 0-1.04.2-1.43.59L10.3 9.45l-7.72 7.72c-.78.78-.78 2.05 0 2.83L4 21.41c.39.39.9.59 1.41.59.51 0 1.02-.2 1.41-.59l7.78-7.78 2.81-2.81c.8-.78.8-2.07 0-2.86zM5.41 20L4 18.59l7.72-7.72 1.47 1.35L5.41 20z\"/>\n",
              "  </svg>\n",
              "      </button>\n",
              "      \n",
              "  <style>\n",
              "    .colab-df-container {\n",
              "      display:flex;\n",
              "      flex-wrap:wrap;\n",
              "      gap: 12px;\n",
              "    }\n",
              "\n",
              "    .colab-df-convert {\n",
              "      background-color: #E8F0FE;\n",
              "      border: none;\n",
              "      border-radius: 50%;\n",
              "      cursor: pointer;\n",
              "      display: none;\n",
              "      fill: #1967D2;\n",
              "      height: 32px;\n",
              "      padding: 0 0 0 0;\n",
              "      width: 32px;\n",
              "    }\n",
              "\n",
              "    .colab-df-convert:hover {\n",
              "      background-color: #E2EBFA;\n",
              "      box-shadow: 0px 1px 2px rgba(60, 64, 67, 0.3), 0px 1px 3px 1px rgba(60, 64, 67, 0.15);\n",
              "      fill: #174EA6;\n",
              "    }\n",
              "\n",
              "    [theme=dark] .colab-df-convert {\n",
              "      background-color: #3B4455;\n",
              "      fill: #D2E3FC;\n",
              "    }\n",
              "\n",
              "    [theme=dark] .colab-df-convert:hover {\n",
              "      background-color: #434B5C;\n",
              "      box-shadow: 0px 1px 3px 1px rgba(0, 0, 0, 0.15);\n",
              "      filter: drop-shadow(0px 1px 2px rgba(0, 0, 0, 0.3));\n",
              "      fill: #FFFFFF;\n",
              "    }\n",
              "  </style>\n",
              "\n",
              "      <script>\n",
              "        const buttonEl =\n",
              "          document.querySelector('#df-045aca12-1ad8-4a9b-9128-2a5fbeabc9e2 button.colab-df-convert');\n",
              "        buttonEl.style.display =\n",
              "          google.colab.kernel.accessAllowed ? 'block' : 'none';\n",
              "\n",
              "        async function convertToInteractive(key) {\n",
              "          const element = document.querySelector('#df-045aca12-1ad8-4a9b-9128-2a5fbeabc9e2');\n",
              "          const dataTable =\n",
              "            await google.colab.kernel.invokeFunction('convertToInteractive',\n",
              "                                                     [key], {});\n",
              "          if (!dataTable) return;\n",
              "\n",
              "          const docLinkHtml = 'Like what you see? Visit the ' +\n",
              "            '<a target=\"_blank\" href=https://colab.research.google.com/notebooks/data_table.ipynb>data table notebook</a>'\n",
              "            + ' to learn more about interactive tables.';\n",
              "          element.innerHTML = '';\n",
              "          dataTable['output_type'] = 'display_data';\n",
              "          await google.colab.output.renderOutput(dataTable, element);\n",
              "          const docLink = document.createElement('div');\n",
              "          docLink.innerHTML = docLinkHtml;\n",
              "          element.appendChild(docLink);\n",
              "        }\n",
              "      </script>\n",
              "    </div>\n",
              "  </div>\n",
              "  "
            ]
          },
          "metadata": {},
          "execution_count": 9
        }
      ]
    },
    {
      "cell_type": "code",
      "source": [
        "print(\"Resumen gráfico\")\n",
        "fig,ax = plt.subplots()\n",
        "fig.set_size_inches(6, 5)\n",
        "sns.boxplot(data=df, x='Response', y='Income', \n",
        "            medianprops={\"linewidth\":2, \"color\": \"coral\"}, \n",
        "            boxprops={\"linewidth\": 0, \"facecolor\": (.4, .6, .8, .5)}, \n",
        "            width=0.4, linewidth=1, flierprops={\"marker\": \"x\", \"alpha\": .5})\n",
        "plt.title(\"Boxplot: Anual income's distribution\", fontsize = 16)\n",
        "plt.xlabel(\"Response\")\n",
        "plt.ylabel(\"Anual income\")\n",
        "plt.show()"
      ],
      "metadata": {
        "colab": {
          "base_uri": "https://localhost:8080/",
          "height": 369
        },
        "id": "8kCbleGq3Oea",
        "outputId": "63cfc641-15be-46fa-be24-9d773d69f1b4"
      },
      "execution_count": 10,
      "outputs": [
        {
          "output_type": "stream",
          "name": "stdout",
          "text": [
            "Resumen gráfico\n"
          ]
        },
        {
          "output_type": "display_data",
          "data": {
            "text/plain": [
              "<Figure size 432x360 with 1 Axes>"
            ],
            "image/png": "[encoded data removed]"
          },
          "metadata": {
            "needs_background": "light"
          }
        }
      ]
    },
    {
      "cell_type": "code",
      "source": [
        "print(\"Resumen gráfico sin outliers\")\n",
        "fig,ax = plt.subplots()\n",
        "fig.set_size_inches(6, 5)\n",
        "sns.boxplot(data=df, x='Response', y='Income',\n",
        "            medianprops={\"linewidth\":2, \"color\": \"coral\"}, \n",
        "            boxprops={\"linewidth\": 0, \"facecolor\": (.4, .6, .8, .5)}, \n",
        "            width=0.4, linewidth=1, **{'showfliers': False})\n",
        "plt.title(\"Boxplot: Anual income's distribution w/o outliers\", fontsize = 16)\n",
        "plt.xlabel(\"Response\")\n",
        "plt.ylabel(\"Anual income\")\n",
        "plt.show()"
      ],
      "metadata": {
        "colab": {
          "base_uri": "https://localhost:8080/",
          "height": 369
        },
        "id": "x0oCsErv2hoM",
        "outputId": "a3fc8a04-bdec-428f-9fc5-e1cb8b48299b"
      },
      "execution_count": 11,
      "outputs": [
        {
          "output_type": "stream",
          "name": "stdout",
          "text": [
            "Resumen gráfico sin outliers\n"
          ]
        },
        {
          "output_type": "display_data",
          "data": {
            "text/plain": [
              "<Figure size 432x360 with 1 Axes>"
            ],
            "image/png": "[encoded data removed]"
          },
          "metadata": {
            "needs_background": "light"
          }
        }
      ]
    },
    {
      "cell_type": "markdown",
      "source": [
        "Se observa que la mediana de los salarios anuales de las personas que decidieron aceptar la membresía es ligeramente superior a la mediana de los salarios anuales de las personas que no lo hicieron. La variabilidad es ligeramente superior en los casos de las personas que no aceptaron la membresía y, además, esta distribución presenta outliers. \n",
        "\n",
        "Las cajas parecen estar bastante solapadas por lo que pareciera no existir una diferencia significativa sin embargo, debido a la presencia de outliers, sería conveniente hacer un análisis más profundo."
      ],
      "metadata": {
        "id": "HicKR9Bm5LLW"
      }
    },
    {
      "cell_type": "markdown",
      "source": [
        "Análisis de la respuesta de aceptación a la membresía en función del nivel de estudios alcanzado:"
      ],
      "metadata": {
        "id": "Z9kzPxDHybk3"
      }
    },
    {
      "cell_type": "code",
      "source": [
        "crosstab4 = pd.crosstab(df['Education'], df['Response'], normalize='index')\n",
        "crosstab4"
      ],
      "metadata": {
        "colab": {
          "base_uri": "https://localhost:8080/",
          "height": 238
        },
        "id": "fCCgvAuxpOlY",
        "outputId": "a4e53076-fcf1-45fa-8157-90562977a95b"
      },
      "execution_count": 12,
      "outputs": [
        {
          "output_type": "execute_result",
          "data": {
            "text/plain": [
              "Response           0         1\n",
              "Education                     \n",
              "2n Cycle    0.890000  0.110000\n",
              "Basic       0.962963  0.037037\n",
              "Graduation  0.864574  0.135426\n",
              "Master      0.846154  0.153846\n",
              "PhD         0.791232  0.208768"
            ],
            "text/html": [
              "\n",
              "  <div id=\"df-50eea4e1-a355-4d40-868d-5164ecc5ac4d\">\n",
              "    <div class=\"colab-df-container\">\n",
              "      <div>\n",
              "<style scoped>\n",
              "    .dataframe tbody tr th:only-of-type {\n",
              "        vertical-align: middle;\n",
              "    }\n",
              "\n",
              "    .dataframe tbody tr th {\n",
              "        vertical-align: top;\n",
              "    }\n",
              "\n",
              "    .dataframe thead th {\n",
              "        text-align: right;\n",
              "    }\n",
              "</style>\n",
              "<table border=\"1\" class=\"dataframe\">\n",
              "  <thead>\n",
              "    <tr style=\"text-align: right;\">\n",
              "      <th>Response</th>\n",
              "      <th>0</th>\n",
              "      <th>1</th>\n",
              "    </tr>\n",
              "    <tr>\n",
              "      <th>Education</th>\n",
              "      <th></th>\n",
              "      <th></th>\n",
              "    </tr>\n",
              "  </thead>\n",
              "  <tbody>\n",
              "    <tr>\n",
              "      <th>2n Cycle</th>\n",
              "      <td>0.890000</td>\n",
              "      <td>0.110000</td>\n",
              "    </tr>\n",
              "    <tr>\n",
              "      <th>Basic</th>\n",
              "      <td>0.962963</td>\n",
              "      <td>0.037037</td>\n",
              "    </tr>\n",
              "    <tr>\n",
              "      <th>Graduation</th>\n",
              "      <td>0.864574</td>\n",
              "      <td>0.135426</td>\n",
              "    </tr>\n",
              "    <tr>\n",
              "      <th>Master</th>\n",
              "      <td>0.846154</td>\n",
              "      <td>0.153846</td>\n",
              "    </tr>\n",
              "    <tr>\n",
              "      <th>PhD</th>\n",
              "      <td>0.791232</td>\n",
              "      <td>0.208768</td>\n",
              "    </tr>\n",
              "  </tbody>\n",
              "</table>\n",
              "</div>\n",
              "      <button class=\"colab-df-convert\" onclick=\"convertToInteractive('df-50eea4e1-a355-4d40-868d-5164ecc5ac4d')\"\n",
              "              title=\"Convert this dataframe to an interactive table.\"\n",
              "              style=\"display:none;\">\n",
              "        \n",
              "  <svg xmlns=\"http://www.w3.org/2000/svg\" height=\"24px\"viewBox=\"0 0 24 24\"\n",
              "       width=\"24px\">\n",
              "    <path d=\"M0 0h24v24H0V0z\" fill=\"none\"/>\n",
              "    <path d=\"M18.56 5.44l.94 2.06.94-2.06 2.06-.94-2.06-.94-.94-2.06-.94 2.06-2.06.94zm-11 1L8.5 8.5l.94-2.06 2.06-.94-2.06-.94L8.5 2.5l-.94 2.06-2.06.94zm10 10l.94 2.06.94-2.06 2.06-.94-2.06-.94-.94-2.06-.94 2.06-2.06.94z\"/><path d=\"M17.41 7.96l-1.37-1.37c-.4-.4-.92-.59-1.43-.59-.52 0-1.04.2-1.43.59L10.3 9.45l-7.72 7.72c-.78.78-.78 2.05 0 2.83L4 21.41c.39.39.9.59 1.41.59.51 0 1.02-.2 1.41-.59l7.78-7.78 2.81-2.81c.8-.78.8-2.07 0-2.86zM5.41 20L4 18.59l7.72-7.72 1.47 1.35L5.41 20z\"/>\n",
              "  </svg>\n",
              "      </button>\n",
              "      \n",
              "  <style>\n",
              "    .colab-df-container {\n",
              "      display:flex;\n",
              "      flex-wrap:wrap;\n",
              "      gap: 12px;\n",
              "    }\n",
              "\n",
              "    .colab-df-convert {\n",
              "      background-color: #E8F0FE;\n",
              "      border: none;\n",
              "      border-radius: 50%;\n",
              "      cursor: pointer;\n",
              "      display: none;\n",
              "      fill: #1967D2;\n",
              "      height: 32px;\n",
              "      padding: 0 0 0 0;\n",
              "      width: 32px;\n",
              "    }\n",
              "\n",
              "    .colab-df-convert:hover {\n",
              "      background-color: #E2EBFA;\n",
              "      box-shadow: 0px 1px 2px rgba(60, 64, 67, 0.3), 0px 1px 3px 1px rgba(60, 64, 67, 0.15);\n",
              "      fill: #174EA6;\n",
              "    }\n",
              "\n",
              "    [theme=dark] .colab-df-convert {\n",
              "      background-color: #3B4455;\n",
              "      fill: #D2E3FC;\n",
              "    }\n",
              "\n",
              "    [theme=dark] .colab-df-convert:hover {\n",
              "      background-color: #434B5C;\n",
              "      box-shadow: 0px 1px 3px 1px rgba(0, 0, 0, 0.15);\n",
              "      filter: drop-shadow(0px 1px 2px rgba(0, 0, 0, 0.3));\n",
              "      fill: #FFFFFF;\n",
              "    }\n",
              "  </style>\n",
              "\n",
              "      <script>\n",
              "        const buttonEl =\n",
              "          document.querySelector('#df-50eea4e1-a355-4d40-868d-5164ecc5ac4d button.colab-df-convert');\n",
              "        buttonEl.style.display =\n",
              "          google.colab.kernel.accessAllowed ? 'block' : 'none';\n",
              "\n",
              "        async function convertToInteractive(key) {\n",
              "          const element = document.querySelector('#df-50eea4e1-a355-4d40-868d-5164ecc5ac4d');\n",
              "          const dataTable =\n",
              "            await google.colab.kernel.invokeFunction('convertToInteractive',\n",
              "                                                     [key], {});\n",
              "          if (!dataTable) return;\n",
              "\n",
              "          const docLinkHtml = 'Like what you see? Visit the ' +\n",
              "            '<a target=\"_blank\" href=https://colab.research.google.com/notebooks/data_table.ipynb>data table notebook</a>'\n",
              "            + ' to learn more about interactive tables.';\n",
              "          element.innerHTML = '';\n",
              "          dataTable['output_type'] = 'display_data';\n",
              "          await google.colab.output.renderOutput(dataTable, element);\n",
              "          const docLink = document.createElement('div');\n",
              "          docLink.innerHTML = docLinkHtml;\n",
              "          element.appendChild(docLink);\n",
              "        }\n",
              "      </script>\n",
              "    </div>\n",
              "  </div>\n",
              "  "
            ]
          },
          "metadata": {},
          "execution_count": 12
        }
      ]
    },
    {
      "cell_type": "code",
      "source": [
        "plt.rcParams[\"figure.figsize\"] = (10,5)\n",
        "crosstab4.plot.bar(rot=0, color = (\"#297F87\", \"#FFB740\"))\n",
        "plt.legend(title = \"Response\", labels = (\"No accept\", \"Accept\"))\n",
        "plt.title(\"Barplot of proportions for Education level\", fontsize = 16)\n",
        "plt.ylabel(\"Proportion\")\n",
        "plt.xlabel(\"Education level\")\n",
        "plt.show()"
      ],
      "metadata": {
        "colab": {
          "base_uri": "https://localhost:8080/",
          "height": 352
        },
        "id": "wOyrX38trHSk",
        "outputId": "e514edff-3e63-4ee3-8d4f-e437f1663e89"
      },
      "execution_count": 13,
      "outputs": [
        {
          "output_type": "display_data",
          "data": {
            "text/plain": [
              "<Figure size 720x360 with 1 Axes>"
            ],
            "image/png": "[encoded data removed]"
          },
          "metadata": {
            "needs_background": "light"
          }
        }
      ]
    },
    {
      "cell_type": "markdown",
      "source": [
        "Tomando en cuenta el orden jerárquico de los niveles académicos (en orden creciente esto es: básico, secundario, graduado, máster y PhD) observamos que a medida que el nivel aumenta pareciera ser mayor la proporción de personas que se dispuesieron a aceptar la membresía."
      ],
      "metadata": {
        "id": "BofGBC0EleHA"
      }
    },
    {
      "cell_type": "markdown",
      "source": [
        "Análisis de la respuesta de aceptación a la membresía en función del nivel del estado civil de la persona:"
      ],
      "metadata": {
        "id": "rq5sW40jP8ET"
      }
    },
    {
      "cell_type": "code",
      "source": [
        "crosstab = pd.crosstab(df['Marital_Status'], df['Response'], normalize='index')\n",
        "crosstab"
      ],
      "metadata": {
        "colab": {
          "base_uri": "https://localhost:8080/",
          "height": 238
        },
        "id": "yMg9I3wgAUDE",
        "outputId": "a3e3c69f-daf2-412e-9997-7dd01ad59f09"
      },
      "execution_count": 14,
      "outputs": [
        {
          "output_type": "execute_result",
          "data": {
            "text/plain": [
              "Response               0         1\n",
              "Marital_Status                    \n",
              "Divorced        0.793103  0.206897\n",
              "Married         0.885648  0.114352\n",
              "Single          0.774262  0.225738\n",
              "Together        0.895288  0.104712\n",
              "Widow           0.763158  0.236842"
            ],
            "text/html": [
              "\n",
              "  <div id=\"df-ed1e7197-41d9-4138-8957-1b33ce3277d7\">\n",
              "    <div class=\"colab-df-container\">\n",
              "      <div>\n",
              "<style scoped>\n",
              "    .dataframe tbody tr th:only-of-type {\n",
              "        vertical-align: middle;\n",
              "    }\n",
              "\n",
              "    .dataframe tbody tr th {\n",
              "        vertical-align: top;\n",
              "    }\n",
              "\n",
              "    .dataframe thead th {\n",
              "        text-align: right;\n",
              "    }\n",
              "</style>\n",
              "<table border=\"1\" class=\"dataframe\">\n",
              "  <thead>\n",
              "    <tr style=\"text-align: right;\">\n",
              "      <th>Response</th>\n",
              "      <th>0</th>\n",
              "      <th>1</th>\n",
              "    </tr>\n",
              "    <tr>\n",
              "      <th>Marital_Status</th>\n",
              "      <th></th>\n",
              "      <th></th>\n",
              "    </tr>\n",
              "  </thead>\n",
              "  <tbody>\n",
              "    <tr>\n",
              "      <th>Divorced</th>\n",
              "      <td>0.793103</td>\n",
              "      <td>0.206897</td>\n",
              "    </tr>\n",
              "    <tr>\n",
              "      <th>Married</th>\n",
              "      <td>0.885648</td>\n",
              "      <td>0.114352</td>\n",
              "    </tr>\n",
              "    <tr>\n",
              "      <th>Single</th>\n",
              "      <td>0.774262</td>\n",
              "      <td>0.225738</td>\n",
              "    </tr>\n",
              "    <tr>\n",
              "      <th>Together</th>\n",
              "      <td>0.895288</td>\n",
              "      <td>0.104712</td>\n",
              "    </tr>\n",
              "    <tr>\n",
              "      <th>Widow</th>\n",
              "      <td>0.763158</td>\n",
              "      <td>0.236842</td>\n",
              "    </tr>\n",
              "  </tbody>\n",
              "</table>\n",
              "</div>\n",
              "      <button class=\"colab-df-convert\" onclick=\"convertToInteractive('df-ed1e7197-41d9-4138-8957-1b33ce3277d7')\"\n",
              "              title=\"Convert this dataframe to an interactive table.\"\n",
              "              style=\"display:none;\">\n",
              "        \n",
              "  <svg xmlns=\"http://www.w3.org/2000/svg\" height=\"24px\"viewBox=\"0 0 24 24\"\n",
              "       width=\"24px\">\n",
              "    <path d=\"M0 0h24v24H0V0z\" fill=\"none\"/>\n",
              "    <path d=\"M18.56 5.44l.94 2.06.94-2.06 2.06-.94-2.06-.94-.94-2.06-.94 2.06-2.06.94zm-11 1L8.5 8.5l.94-2.06 2.06-.94-2.06-.94L8.5 2.5l-.94 2.06-2.06.94zm10 10l.94 2.06.94-2.06 2.06-.94-2.06-.94-.94-2.06-.94 2.06-2.06.94z\"/><path d=\"M17.41 7.96l-1.37-1.37c-.4-.4-.92-.59-1.43-.59-.52 0-1.04.2-1.43.59L10.3 9.45l-7.72 7.72c-.78.78-.78 2.05 0 2.83L4 21.41c.39.39.9.59 1.41.59.51 0 1.02-.2 1.41-.59l7.78-7.78 2.81-2.81c.8-.78.8-2.07 0-2.86zM5.41 20L4 18.59l7.72-7.72 1.47 1.35L5.41 20z\"/>\n",
              "  </svg>\n",
              "      </button>\n",
              "      \n",
              "  <style>\n",
              "    .colab-df-container {\n",
              "      display:flex;\n",
              "      flex-wrap:wrap;\n",
              "      gap: 12px;\n",
              "    }\n",
              "\n",
              "    .colab-df-convert {\n",
              "      background-color: #E8F0FE;\n",
              "      border: none;\n",
              "      border-radius: 50%;\n",
              "      cursor: pointer;\n",
              "      display: none;\n",
              "      fill: #1967D2;\n",
              "      height: 32px;\n",
              "      padding: 0 0 0 0;\n",
              "      width: 32px;\n",
              "    }\n",
              "\n",
              "    .colab-df-convert:hover {\n",
              "      background-color: #E2EBFA;\n",
              "      box-shadow: 0px 1px 2px rgba(60, 64, 67, 0.3), 0px 1px 3px 1px rgba(60, 64, 67, 0.15);\n",
              "      fill: #174EA6;\n",
              "    }\n",
              "\n",
              "    [theme=dark] .colab-df-convert {\n",
              "      background-color: #3B4455;\n",
              "      fill: #D2E3FC;\n",
              "    }\n",
              "\n",
              "    [theme=dark] .colab-df-convert:hover {\n",
              "      background-color: #434B5C;\n",
              "      box-shadow: 0px 1px 3px 1px rgba(0, 0, 0, 0.15);\n",
              "      filter: drop-shadow(0px 1px 2px rgba(0, 0, 0, 0.3));\n",
              "      fill: #FFFFFF;\n",
              "    }\n",
              "  </style>\n",
              "\n",
              "      <script>\n",
              "        const buttonEl =\n",
              "          document.querySelector('#df-ed1e7197-41d9-4138-8957-1b33ce3277d7 button.colab-df-convert');\n",
              "        buttonEl.style.display =\n",
              "          google.colab.kernel.accessAllowed ? 'block' : 'none';\n",
              "\n",
              "        async function convertToInteractive(key) {\n",
              "          const element = document.querySelector('#df-ed1e7197-41d9-4138-8957-1b33ce3277d7');\n",
              "          const dataTable =\n",
              "            await google.colab.kernel.invokeFunction('convertToInteractive',\n",
              "                                                     [key], {});\n",
              "          if (!dataTable) return;\n",
              "\n",
              "          const docLinkHtml = 'Like what you see? Visit the ' +\n",
              "            '<a target=\"_blank\" href=https://colab.research.google.com/notebooks/data_table.ipynb>data table notebook</a>'\n",
              "            + ' to learn more about interactive tables.';\n",
              "          element.innerHTML = '';\n",
              "          dataTable['output_type'] = 'display_data';\n",
              "          await google.colab.output.renderOutput(dataTable, element);\n",
              "          const docLink = document.createElement('div');\n",
              "          docLink.innerHTML = docLinkHtml;\n",
              "          element.appendChild(docLink);\n",
              "        }\n",
              "      </script>\n",
              "    </div>\n",
              "  </div>\n",
              "  "
            ]
          },
          "metadata": {},
          "execution_count": 14
        }
      ]
    },
    {
      "cell_type": "code",
      "source": [
        "plt.rcParams[\"figure.figsize\"] = (10,5)\n",
        "crosstab.plot.bar(rot=0, color = (\"#297F87\", \"#FFB740\"))\n",
        "plt.legend(title = \"Response\", labels = (\"No accept\", \"Accept\"))\n",
        "plt.title(\"Barplot of proportions for Marital Status\", fontsize = 16)\n",
        "plt.ylabel(\"Proportion\")\n",
        "plt.xlabel(\"Marital Status\")\n",
        "plt.show()"
      ],
      "metadata": {
        "colab": {
          "base_uri": "https://localhost:8080/",
          "height": 352
        },
        "id": "dyBNBFHaE5NW",
        "outputId": "30e1adbc-5841-4316-e319-c6905b526f9e"
      },
      "execution_count": 15,
      "outputs": [
        {
          "output_type": "display_data",
          "data": {
            "text/plain": [
              "<Figure size 720x360 with 1 Axes>"
            ],
            "image/png": "[encoded data removed]"
          },
          "metadata": {
            "needs_background": "light"
          }
        }
      ]
    },
    {
      "cell_type": "markdown",
      "source": [
        "Se observa que es mayor la proporción de personas que aceptaron la membresía en los casos en los que su estado civil era divorciado, soltero o viudo. Algo que estas categorías tienen en común es que todas ellas implican el no poseer pareja, en contraposición a los casos de las personas casadas o juntadas que parecen evidenciar una menor predisposicón a aceptar la membresía."
      ],
      "metadata": {
        "id": "xXqn-t-Prdhx"
      }
    },
    {
      "cell_type": "markdown",
      "source": [
        "Análisis de la respuesta de aceptación a la membresía en función del nivel de la presencia de niños y/o adolescentes en el hogar:"
      ],
      "metadata": {
        "id": "Gfjga1Ev1HUX"
      }
    },
    {
      "cell_type": "code",
      "source": [
        "has_kids_or_teens = []\n",
        "for i in range(0, df.shape[0]):\n",
        "  if np.logical_or(df['Kidhome'][i] > 0, df['Teenhome'][i] > 0):\n",
        "    has_kids_or_teens.append('Yes')\n",
        "  else:\n",
        "    has_kids_or_teens.append('No')\n",
        "df['Has_kids_or_teens'] = has_kids_or_teens\n",
        "crosstab2 = pd.crosstab(df['Has_kids_or_teens'], df['Response'], normalize='index')\n",
        "crosstab2"
      ],
      "metadata": {
        "colab": {
          "base_uri": "https://localhost:8080/",
          "height": 143
        },
        "id": "h1oyq--ZVMDJ",
        "outputId": "3fe2be85-77b2-4c25-cca5-707ea78b95be"
      },
      "execution_count": 16,
      "outputs": [
        {
          "output_type": "execute_result",
          "data": {
            "text/plain": [
              "Response                  0         1\n",
              "Has_kids_or_teens                    \n",
              "No                 0.735341  0.264659\n",
              "Yes                0.896268  0.103732"
            ],
            "text/html": [
              "\n",
              "  <div id=\"df-ff1bb31a-72ee-4b9b-97d0-acaaec4d346c\">\n",
              "    <div class=\"colab-df-container\">\n",
              "      <div>\n",
              "<style scoped>\n",
              "    .dataframe tbody tr th:only-of-type {\n",
              "        vertical-align: middle;\n",
              "    }\n",
              "\n",
              "    .dataframe tbody tr th {\n",
              "        vertical-align: top;\n",
              "    }\n",
              "\n",
              "    .dataframe thead th {\n",
              "        text-align: right;\n",
              "    }\n",
              "</style>\n",
              "<table border=\"1\" class=\"dataframe\">\n",
              "  <thead>\n",
              "    <tr style=\"text-align: right;\">\n",
              "      <th>Response</th>\n",
              "      <th>0</th>\n",
              "      <th>1</th>\n",
              "    </tr>\n",
              "    <tr>\n",
              "      <th>Has_kids_or_teens</th>\n",
              "      <th></th>\n",
              "      <th></th>\n",
              "    </tr>\n",
              "  </thead>\n",
              "  <tbody>\n",
              "    <tr>\n",
              "      <th>No</th>\n",
              "      <td>0.735341</td>\n",
              "      <td>0.264659</td>\n",
              "    </tr>\n",
              "    <tr>\n",
              "      <th>Yes</th>\n",
              "      <td>0.896268</td>\n",
              "      <td>0.103732</td>\n",
              "    </tr>\n",
              "  </tbody>\n",
              "</table>\n",
              "</div>\n",
              "      <button class=\"colab-df-convert\" onclick=\"convertToInteractive('df-ff1bb31a-72ee-4b9b-97d0-acaaec4d346c')\"\n",
              "              title=\"Convert this dataframe to an interactive table.\"\n",
              "              style=\"display:none;\">\n",
              "        \n",
              "  <svg xmlns=\"http://www.w3.org/2000/svg\" height=\"24px\"viewBox=\"0 0 24 24\"\n",
              "       width=\"24px\">\n",
              "    <path d=\"M0 0h24v24H0V0z\" fill=\"none\"/>\n",
              "    <path d=\"M18.56 5.44l.94 2.06.94-2.06 2.06-.94-2.06-.94-.94-2.06-.94 2.06-2.06.94zm-11 1L8.5 8.5l.94-2.06 2.06-.94-2.06-.94L8.5 2.5l-.94 2.06-2.06.94zm10 10l.94 2.06.94-2.06 2.06-.94-2.06-.94-.94-2.06-.94 2.06-2.06.94z\"/><path d=\"M17.41 7.96l-1.37-1.37c-.4-.4-.92-.59-1.43-.59-.52 0-1.04.2-1.43.59L10.3 9.45l-7.72 7.72c-.78.78-.78 2.05 0 2.83L4 21.41c.39.39.9.59 1.41.59.51 0 1.02-.2 1.41-.59l7.78-7.78 2.81-2.81c.8-.78.8-2.07 0-2.86zM5.41 20L4 18.59l7.72-7.72 1.47 1.35L5.41 20z\"/>\n",
              "  </svg>\n",
              "      </button>\n",
              "      \n",
              "  <style>\n",
              "    .colab-df-container {\n",
              "      display:flex;\n",
              "      flex-wrap:wrap;\n",
              "      gap: 12px;\n",
              "    }\n",
              "\n",
              "    .colab-df-convert {\n",
              "      background-color: #E8F0FE;\n",
              "      border: none;\n",
              "      border-radius: 50%;\n",
              "      cursor: pointer;\n",
              "      display: none;\n",
              "      fill: #1967D2;\n",
              "      height: 32px;\n",
              "      padding: 0 0 0 0;\n",
              "      width: 32px;\n",
              "    }\n",
              "\n",
              "    .colab-df-convert:hover {\n",
              "      background-color: #E2EBFA;\n",
              "      box-shadow: 0px 1px 2px rgba(60, 64, 67, 0.3), 0px 1px 3px 1px rgba(60, 64, 67, 0.15);\n",
              "      fill: #174EA6;\n",
              "    }\n",
              "\n",
              "    [theme=dark] .colab-df-convert {\n",
              "      background-color: #3B4455;\n",
              "      fill: #D2E3FC;\n",
              "    }\n",
              "\n",
              "    [theme=dark] .colab-df-convert:hover {\n",
              "      background-color: #434B5C;\n",
              "      box-shadow: 0px 1px 3px 1px rgba(0, 0, 0, 0.15);\n",
              "      filter: drop-shadow(0px 1px 2px rgba(0, 0, 0, 0.3));\n",
              "      fill: #FFFFFF;\n",
              "    }\n",
              "  </style>\n",
              "\n",
              "      <script>\n",
              "        const buttonEl =\n",
              "          document.querySelector('#df-ff1bb31a-72ee-4b9b-97d0-acaaec4d346c button.colab-df-convert');\n",
              "        buttonEl.style.display =\n",
              "          google.colab.kernel.accessAllowed ? 'block' : 'none';\n",
              "\n",
              "        async function convertToInteractive(key) {\n",
              "          const element = document.querySelector('#df-ff1bb31a-72ee-4b9b-97d0-acaaec4d346c');\n",
              "          const dataTable =\n",
              "            await google.colab.kernel.invokeFunction('convertToInteractive',\n",
              "                                                     [key], {});\n",
              "          if (!dataTable) return;\n",
              "\n",
              "          const docLinkHtml = 'Like what you see? Visit the ' +\n",
              "            '<a target=\"_blank\" href=https://colab.research.google.com/notebooks/data_table.ipynb>data table notebook</a>'\n",
              "            + ' to learn more about interactive tables.';\n",
              "          element.innerHTML = '';\n",
              "          dataTable['output_type'] = 'display_data';\n",
              "          await google.colab.output.renderOutput(dataTable, element);\n",
              "          const docLink = document.createElement('div');\n",
              "          docLink.innerHTML = docLinkHtml;\n",
              "          element.appendChild(docLink);\n",
              "        }\n",
              "      </script>\n",
              "    </div>\n",
              "  </div>\n",
              "  "
            ]
          },
          "metadata": {},
          "execution_count": 16
        }
      ]
    },
    {
      "cell_type": "code",
      "source": [
        "plt.rcParams[\"figure.figsize\"] = (10,5)\n",
        "crosstab2.plot.bar(rot=0, color = (\"#297F87\", \"#FFB740\"))\n",
        "plt.legend(title = \"Response\", labels = (\"No accept\", \"Accept\"))\n",
        "plt.title(\"Barplot of proportions\", fontsize = 16)\n",
        "plt.ylabel(\"Proportion\")\n",
        "plt.xlabel(\"Kids or teens at home\")\n",
        "plt.show()"
      ],
      "metadata": {
        "colab": {
          "base_uri": "https://localhost:8080/",
          "height": 352
        },
        "id": "pJJWtepNYxRz",
        "outputId": "4c00f4b4-7a81-4bcc-e1be-3da5ca5f1df4"
      },
      "execution_count": 17,
      "outputs": [
        {
          "output_type": "display_data",
          "data": {
            "text/plain": [
              "<Figure size 720x360 with 1 Axes>"
            ],
            "image/png": "[encoded data removed]"
          },
          "metadata": {
            "needs_background": "light"
          }
        }
      ]
    },
    {
      "cell_type": "markdown",
      "source": [
        "La observación pareciera evidenciar que es mayor la proporción de personas que no conviven con niños o adolescentes que decidieron aceptar la membresía, frente a las personas que también lo hicieron pero conviven con niños o adolescentes en el hogar."
      ],
      "metadata": {
        "id": "CRLTixlq1MfJ"
      }
    },
    {
      "cell_type": "markdown",
      "source": [
        "Análisis de la respuesta de aceptación a la membresía en función de la cantidad gastada en productos en los últimos dos años:"
      ],
      "metadata": {
        "id": "NIhsuPHPemqq"
      }
    },
    {
      "cell_type": "code",
      "source": [
        "mnt_total = []\n",
        "\n",
        "for i in range(0, df.shape[0]):\n",
        "  suma = df['MntMeatProducts'][i] + df['MntFishProducts'][i] + df['MntSweetProducts'][i] + df['MntFruits'][i] + df['MntWines'][i] + df['MntGoldProds'][i]\n",
        "  mnt_total.append(suma)\n",
        "\n",
        "df['MntTotal'] = mnt_total"
      ],
      "metadata": {
        "id": "h73dEpq6eoYt"
      },
      "execution_count": 18,
      "outputs": []
    },
    {
      "cell_type": "code",
      "source": [
        "print(\"Resúmen numérico\")\n",
        "df.groupby('Response')['MntTotal'].describe()"
      ],
      "metadata": {
        "colab": {
          "base_uri": "https://localhost:8080/",
          "height": 161
        },
        "id": "gWA2vNDf0bym",
        "outputId": "da6e4d91-dbc2-42e4-d62d-4c7ac0b64295"
      },
      "execution_count": 19,
      "outputs": [
        {
          "output_type": "stream",
          "name": "stdout",
          "text": [
            "Resúmen numérico\n"
          ]
        },
        {
          "output_type": "execute_result",
          "data": {
            "text/plain": [
              "           count        mean        std   min    25%     50%     75%     max\n",
              "Response                                                                    \n",
              "0         1881.0  539.851675  553.87010   5.0   62.0   313.0   957.0  2525.0\n",
              "1          331.0  986.661631  720.79571  17.0  249.0  1053.0  1619.0  2525.0"
            ],
            "text/html": [
              "\n",
              "  <div id=\"df-130a2645-db8a-4585-85ea-09b7a3d56298\">\n",
              "    <div class=\"colab-df-container\">\n",
              "      <div>\n",
              "<style scoped>\n",
              "    .dataframe tbody tr th:only-of-type {\n",
              "        vertical-align: middle;\n",
              "    }\n",
              "\n",
              "    .dataframe tbody tr th {\n",
              "        vertical-align: top;\n",
              "    }\n",
              "\n",
              "    .dataframe thead th {\n",
              "        text-align: right;\n",
              "    }\n",
              "</style>\n",
              "<table border=\"1\" class=\"dataframe\">\n",
              "  <thead>\n",
              "    <tr style=\"text-align: right;\">\n",
              "      <th></th>\n",
              "      <th>count</th>\n",
              "      <th>mean</th>\n",
              "      <th>std</th>\n",
              "      <th>min</th>\n",
              "      <th>25%</th>\n",
              "      <th>50%</th>\n",
              "      <th>75%</th>\n",
              "      <th>max</th>\n",
              "    </tr>\n",
              "    <tr>\n",
              "      <th>Response</th>\n",
              "      <th></th>\n",
              "      <th></th>\n",
              "      <th></th>\n",
              "      <th></th>\n",
              "      <th></th>\n",
              "      <th></th>\n",
              "      <th></th>\n",
              "      <th></th>\n",
              "    </tr>\n",
              "  </thead>\n",
              "  <tbody>\n",
              "    <tr>\n",
              "      <th>0</th>\n",
              "      <td>1881.0</td>\n",
              "      <td>539.851675</td>\n",
              "      <td>553.87010</td>\n",
              "      <td>5.0</td>\n",
              "      <td>62.0</td>\n",
              "      <td>313.0</td>\n",
              "      <td>957.0</td>\n",
              "      <td>2525.0</td>\n",
              "    </tr>\n",
              "    <tr>\n",
              "      <th>1</th>\n",
              "      <td>331.0</td>\n",
              "      <td>986.661631</td>\n",
              "      <td>720.79571</td>\n",
              "      <td>17.0</td>\n",
              "      <td>249.0</td>\n",
              "      <td>1053.0</td>\n",
              "      <td>1619.0</td>\n",
              "      <td>2525.0</td>\n",
              "    </tr>\n",
              "  </tbody>\n",
              "</table>\n",
              "</div>\n",
              "      <button class=\"colab-df-convert\" onclick=\"convertToInteractive('df-130a2645-db8a-4585-85ea-09b7a3d56298')\"\n",
              "              title=\"Convert this dataframe to an interactive table.\"\n",
              "              style=\"display:none;\">\n",
              "        \n",
              "  <svg xmlns=\"http://www.w3.org/2000/svg\" height=\"24px\"viewBox=\"0 0 24 24\"\n",
              "       width=\"24px\">\n",
              "    <path d=\"M0 0h24v24H0V0z\" fill=\"none\"/>\n",
              "    <path d=\"M18.56 5.44l.94 2.06.94-2.06 2.06-.94-2.06-.94-.94-2.06-.94 2.06-2.06.94zm-11 1L8.5 8.5l.94-2.06 2.06-.94-2.06-.94L8.5 2.5l-.94 2.06-2.06.94zm10 10l.94 2.06.94-2.06 2.06-.94-2.06-.94-.94-2.06-.94 2.06-2.06.94z\"/><path d=\"M17.41 7.96l-1.37-1.37c-.4-.4-.92-.59-1.43-.59-.52 0-1.04.2-1.43.59L10.3 9.45l-7.72 7.72c-.78.78-.78 2.05 0 2.83L4 21.41c.39.39.9.59 1.41.59.51 0 1.02-.2 1.41-.59l7.78-7.78 2.81-2.81c.8-.78.8-2.07 0-2.86zM5.41 20L4 18.59l7.72-7.72 1.47 1.35L5.41 20z\"/>\n",
              "  </svg>\n",
              "      </button>\n",
              "      \n",
              "  <style>\n",
              "    .colab-df-container {\n",
              "      display:flex;\n",
              "      flex-wrap:wrap;\n",
              "      gap: 12px;\n",
              "    }\n",
              "\n",
              "    .colab-df-convert {\n",
              "      background-color: #E8F0FE;\n",
              "      border: none;\n",
              "      border-radius: 50%;\n",
              "      cursor: pointer;\n",
              "      display: none;\n",
              "      fill: #1967D2;\n",
              "      height: 32px;\n",
              "      padding: 0 0 0 0;\n",
              "      width: 32px;\n",
              "    }\n",
              "\n",
              "    .colab-df-convert:hover {\n",
              "      background-color: #E2EBFA;\n",
              "      box-shadow: 0px 1px 2px rgba(60, 64, 67, 0.3), 0px 1px 3px 1px rgba(60, 64, 67, 0.15);\n",
              "      fill: #174EA6;\n",
              "    }\n",
              "\n",
              "    [theme=dark] .colab-df-convert {\n",
              "      background-color: #3B4455;\n",
              "      fill: #D2E3FC;\n",
              "    }\n",
              "\n",
              "    [theme=dark] .colab-df-convert:hover {\n",
              "      background-color: #434B5C;\n",
              "      box-shadow: 0px 1px 3px 1px rgba(0, 0, 0, 0.15);\n",
              "      filter: drop-shadow(0px 1px 2px rgba(0, 0, 0, 0.3));\n",
              "      fill: #FFFFFF;\n",
              "    }\n",
              "  </style>\n",
              "\n",
              "      <script>\n",
              "        const buttonEl =\n",
              "          document.querySelector('#df-130a2645-db8a-4585-85ea-09b7a3d56298 button.colab-df-convert');\n",
              "        buttonEl.style.display =\n",
              "          google.colab.kernel.accessAllowed ? 'block' : 'none';\n",
              "\n",
              "        async function convertToInteractive(key) {\n",
              "          const element = document.querySelector('#df-130a2645-db8a-4585-85ea-09b7a3d56298');\n",
              "          const dataTable =\n",
              "            await google.colab.kernel.invokeFunction('convertToInteractive',\n",
              "                                                     [key], {});\n",
              "          if (!dataTable) return;\n",
              "\n",
              "          const docLinkHtml = 'Like what you see? Visit the ' +\n",
              "            '<a target=\"_blank\" href=https://colab.research.google.com/notebooks/data_table.ipynb>data table notebook</a>'\n",
              "            + ' to learn more about interactive tables.';\n",
              "          element.innerHTML = '';\n",
              "          dataTable['output_type'] = 'display_data';\n",
              "          await google.colab.output.renderOutput(dataTable, element);\n",
              "          const docLink = document.createElement('div');\n",
              "          docLink.innerHTML = docLinkHtml;\n",
              "          element.appendChild(docLink);\n",
              "        }\n",
              "      </script>\n",
              "    </div>\n",
              "  </div>\n",
              "  "
            ]
          },
          "metadata": {},
          "execution_count": 19
        }
      ]
    },
    {
      "cell_type": "code",
      "source": [
        "fig,ax = plt.subplots()\n",
        "fig.set_size_inches(6, 5)\n",
        "sns.boxplot(data=df, x='Response', y='MntTotal', \n",
        "            medianprops={\"linewidth\":2, \"color\": \"coral\"}, \n",
        "            boxprops={\"linewidth\": 0, \"facecolor\": (.4, .6, .8, .5)}, \n",
        "            width=0.4, linewidth=1, flierprops={\"marker\": \"x\", \"alpha\": .5})\n",
        "plt.title(\"Boxplot: Total amount spent in last 2 yrs\", fontsize = 16)\n",
        "plt.xlabel(\"Response\")\n",
        "plt.ylabel(\"Total amount\")\n",
        "plt.show()"
      ],
      "metadata": {
        "colab": {
          "base_uri": "https://localhost:8080/",
          "height": 352
        },
        "id": "f8760CvO0qJJ",
        "outputId": "30d1df56-6bc5-4e2c-9d34-a0e12de451d0"
      },
      "execution_count": 20,
      "outputs": [
        {
          "output_type": "display_data",
          "data": {
            "text/plain": [
              "<Figure size 432x360 with 1 Axes>"
            ],
            "image/png": "[encoded data removed]"
          },
          "metadata": {
            "needs_background": "light"
          }
        }
      ]
    },
    {
      "cell_type": "markdown",
      "source": [
        "Se observa que la mediana de la cantidad total gastada en productos durante los 2 últimos años es mayor para el caso de las personas que aceptaron la membresía en comparación a quienes lo hicieron. La variabilidad también es ligeramente mayor en este caso. En el caso de las personas que no aceptaron la membresía se observan outliers. Si bien las medianas difieren, las cajas se encuentran bastante solapadas por lo que no podríamos asegurar que existen diferencias significativas entre las mismas en base al boxplot."
      ],
      "metadata": {
        "id": "uNljPBR-0zlo"
      }
    },
    {
      "cell_type": "code",
      "source": [
        "fig,ax = plt.subplots()\n",
        "fig.set_size_inches(6, 5)\n",
        "sns.histplot(data=df, hue='Response', x='MntTotal', kde=True)\n",
        "plt.title(\"Hist: Total amount's distribution\", fontsize = 16)\n",
        "fig2,ax2 = plt.subplots()\n",
        "fig2.set_size_inches(10, 8)\n",
        "sns.histplot(data=df, hue='Response', x='MntTotal', kde=True, log_scale = True)\n",
        "plt.title(\"Hist: Total amount's distribution w/ logarithmic transformation\", fontsize = 16)"
      ],
      "metadata": {
        "colab": {
          "base_uri": "https://localhost:8080/",
          "height": 871
        },
        "id": "CVp8FJQW6cWB",
        "outputId": "b5627e82-281f-4009-8a42-558e7878578b"
      },
      "execution_count": 21,
      "outputs": [
        {
          "output_type": "execute_result",
          "data": {
            "text/plain": [
              "Text(0.5, 1.0, \"Hist: Total amount's distribution w/ logarithmic transformation\")"
            ]
          },
          "metadata": {},
          "execution_count": 21
        },
        {
          "output_type": "display_data",
          "data": {
            "text/plain": [
              "<Figure size 432x360 with 1 Axes>"
            ],
            "image/png": "[encoded data removed]"
          },
          "metadata": {
            "needs_background": "light"
          }
        },
        {
          "output_type": "display_data",
          "data": {
            "text/plain": [
              "<Figure size 720x576 with 1 Axes>"
            ],
            "image/png": "[encoded data removed]"
          },
          "metadata": {
            "needs_background": "light"
          }
        }
      ]
    },
    {
      "cell_type": "markdown",
      "source": [
        "Luego de la transformación logarítmica se observa una distribución bimodal. Esto podría ser consecuencia de la agrupación de las variables de las distintas categorías."
      ],
      "metadata": {
        "id": "4ZgmiaM_MPuz"
      }
    },
    {
      "cell_type": "markdown",
      "source": [
        "Análisis de la distribución de las ventas a 2 años de cada tipo de categoría:"
      ],
      "metadata": {
        "id": "Hw4oweeQH8eT"
      }
    },
    {
      "cell_type": "code",
      "source": [
        "df_resized = pd.DataFrame()\n",
        "df_resized[\"categoria\"] = \"\"\n",
        "df_resized[\"valor\"] = 0.0\n",
        "df_resized[\"respuesta\"] = 0\n",
        "index = 0\n",
        "\n",
        "for i in range(0, 6):\n",
        "  for j in range(0, df.shape[0]):\n",
        "    df_resized.loc[index] = [df.columns[i+9], df[df.columns[i+9]].loc[j],  df[df.columns[20]].loc[j]]\n",
        "    index+=1\n",
        "\n",
        "df_resized"
      ],
      "metadata": {
        "colab": {
          "base_uri": "https://localhost:8080/",
          "height": 424
        },
        "id": "612WB8f-AcZS",
        "outputId": "3ea1e921-dacb-4088-b3fe-1a56d68a133c"
      },
      "execution_count": 22,
      "outputs": [
        {
          "output_type": "execute_result",
          "data": {
            "text/plain": [
              "          categoria  valor  respuesta\n",
              "0          MntWines  189.0          1\n",
              "1          MntWines  464.0          1\n",
              "2          MntWines  134.0          0\n",
              "3          MntWines   10.0          0\n",
              "4          MntWines    6.0          1\n",
              "...             ...    ...        ...\n",
              "13267  MntGoldProds   78.0          0\n",
              "13268  MntGoldProds   16.0          0\n",
              "13269  MntGoldProds   14.0          0\n",
              "13270  MntGoldProds   63.0          0\n",
              "13271  MntGoldProds  144.0          1\n",
              "\n",
              "[13272 rows x 3 columns]"
            ],
            "text/html": [
              "\n",
              "  <div id=\"df-731ec092-5990-4d04-aa7b-9ac9dc664e63\">\n",
              "    <div class=\"colab-df-container\">\n",
              "      <div>\n",
              "<style scoped>\n",
              "    .dataframe tbody tr th:only-of-type {\n",
              "        vertical-align: middle;\n",
              "    }\n",
              "\n",
              "    .dataframe tbody tr th {\n",
              "        vertical-align: top;\n",
              "    }\n",
              "\n",
              "    .dataframe thead th {\n",
              "        text-align: right;\n",
              "    }\n",
              "</style>\n",
              "<table border=\"1\" class=\"dataframe\">\n",
              "  <thead>\n",
              "    <tr style=\"text-align: right;\">\n",
              "      <th></th>\n",
              "      <th>categoria</th>\n",
              "      <th>valor</th>\n",
              "      <th>respuesta</th>\n",
              "    </tr>\n",
              "  </thead>\n",
              "  <tbody>\n",
              "    <tr>\n",
              "      <th>0</th>\n",
              "      <td>MntWines</td>\n",
              "      <td>189.0</td>\n",
              "      <td>1</td>\n",
              "    </tr>\n",
              "    <tr>\n",
              "      <th>1</th>\n",
              "      <td>MntWines</td>\n",
              "      <td>464.0</td>\n",
              "      <td>1</td>\n",
              "    </tr>\n",
              "    <tr>\n",
              "      <th>2</th>\n",
              "      <td>MntWines</td>\n",
              "      <td>134.0</td>\n",
              "      <td>0</td>\n",
              "    </tr>\n",
              "    <tr>\n",
              "      <th>3</th>\n",
              "      <td>MntWines</td>\n",
              "      <td>10.0</td>\n",
              "      <td>0</td>\n",
              "    </tr>\n",
              "    <tr>\n",
              "      <th>4</th>\n",
              "      <td>MntWines</td>\n",
              "      <td>6.0</td>\n",
              "      <td>1</td>\n",
              "    </tr>\n",
              "    <tr>\n",
              "      <th>...</th>\n",
              "      <td>...</td>\n",
              "      <td>...</td>\n",
              "      <td>...</td>\n",
              "    </tr>\n",
              "    <tr>\n",
              "      <th>13267</th>\n",
              "      <td>MntGoldProds</td>\n",
              "      <td>78.0</td>\n",
              "      <td>0</td>\n",
              "    </tr>\n",
              "    <tr>\n",
              "      <th>13268</th>\n",
              "      <td>MntGoldProds</td>\n",
              "      <td>16.0</td>\n",
              "      <td>0</td>\n",
              "    </tr>\n",
              "    <tr>\n",
              "      <th>13269</th>\n",
              "      <td>MntGoldProds</td>\n",
              "      <td>14.0</td>\n",
              "      <td>0</td>\n",
              "    </tr>\n",
              "    <tr>\n",
              "      <th>13270</th>\n",
              "      <td>MntGoldProds</td>\n",
              "      <td>63.0</td>\n",
              "      <td>0</td>\n",
              "    </tr>\n",
              "    <tr>\n",
              "      <th>13271</th>\n",
              "      <td>MntGoldProds</td>\n",
              "      <td>144.0</td>\n",
              "      <td>1</td>\n",
              "    </tr>\n",
              "  </tbody>\n",
              "</table>\n",
              "<p>13272 rows × 3 columns</p>\n",
              "</div>\n",
              "      <button class=\"colab-df-convert\" onclick=\"convertToInteractive('df-731ec092-5990-4d04-aa7b-9ac9dc664e63')\"\n",
              "              title=\"Convert this dataframe to an interactive table.\"\n",
              "              style=\"display:none;\">\n",
              "        \n",
              "  <svg xmlns=\"http://www.w3.org/2000/svg\" height=\"24px\"viewBox=\"0 0 24 24\"\n",
              "       width=\"24px\">\n",
              "    <path d=\"M0 0h24v24H0V0z\" fill=\"none\"/>\n",
              "    <path d=\"M18.56 5.44l.94 2.06.94-2.06 2.06-.94-2.06-.94-.94-2.06-.94 2.06-2.06.94zm-11 1L8.5 8.5l.94-2.06 2.06-.94-2.06-.94L8.5 2.5l-.94 2.06-2.06.94zm10 10l.94 2.06.94-2.06 2.06-.94-2.06-.94-.94-2.06-.94 2.06-2.06.94z\"/><path d=\"M17.41 7.96l-1.37-1.37c-.4-.4-.92-.59-1.43-.59-.52 0-1.04.2-1.43.59L10.3 9.45l-7.72 7.72c-.78.78-.78 2.05 0 2.83L4 21.41c.39.39.9.59 1.41.59.51 0 1.02-.2 1.41-.59l7.78-7.78 2.81-2.81c.8-.78.8-2.07 0-2.86zM5.41 20L4 18.59l7.72-7.72 1.47 1.35L5.41 20z\"/>\n",
              "  </svg>\n",
              "      </button>\n",
              "      \n",
              "  <style>\n",
              "    .colab-df-container {\n",
              "      display:flex;\n",
              "      flex-wrap:wrap;\n",
              "      gap: 12px;\n",
              "    }\n",
              "\n",
              "    .colab-df-convert {\n",
              "      background-color: #E8F0FE;\n",
              "      border: none;\n",
              "      border-radius: 50%;\n",
              "      cursor: pointer;\n",
              "      display: none;\n",
              "      fill: #1967D2;\n",
              "      height: 32px;\n",
              "      padding: 0 0 0 0;\n",
              "      width: 32px;\n",
              "    }\n",
              "\n",
              "    .colab-df-convert:hover {\n",
              "      background-color: #E2EBFA;\n",
              "      box-shadow: 0px 1px 2px rgba(60, 64, 67, 0.3), 0px 1px 3px 1px rgba(60, 64, 67, 0.15);\n",
              "      fill: #174EA6;\n",
              "    }\n",
              "\n",
              "    [theme=dark] .colab-df-convert {\n",
              "      background-color: #3B4455;\n",
              "      fill: #D2E3FC;\n",
              "    }\n",
              "\n",
              "    [theme=dark] .colab-df-convert:hover {\n",
              "      background-color: #434B5C;\n",
              "      box-shadow: 0px 1px 3px 1px rgba(0, 0, 0, 0.15);\n",
              "      filter: drop-shadow(0px 1px 2px rgba(0, 0, 0, 0.3));\n",
              "      fill: #FFFFFF;\n",
              "    }\n",
              "  </style>\n",
              "\n",
              "      <script>\n",
              "        const buttonEl =\n",
              "          document.querySelector('#df-731ec092-5990-4d04-aa7b-9ac9dc664e63 button.colab-df-convert');\n",
              "        buttonEl.style.display =\n",
              "          google.colab.kernel.accessAllowed ? 'block' : 'none';\n",
              "\n",
              "        async function convertToInteractive(key) {\n",
              "          const element = document.querySelector('#df-731ec092-5990-4d04-aa7b-9ac9dc664e63');\n",
              "          const dataTable =\n",
              "            await google.colab.kernel.invokeFunction('convertToInteractive',\n",
              "                                                     [key], {});\n",
              "          if (!dataTable) return;\n",
              "\n",
              "          const docLinkHtml = 'Like what you see? Visit the ' +\n",
              "            '<a target=\"_blank\" href=https://colab.research.google.com/notebooks/data_table.ipynb>data table notebook</a>'\n",
              "            + ' to learn more about interactive tables.';\n",
              "          element.innerHTML = '';\n",
              "          dataTable['output_type'] = 'display_data';\n",
              "          await google.colab.output.renderOutput(dataTable, element);\n",
              "          const docLink = document.createElement('div');\n",
              "          docLink.innerHTML = docLinkHtml;\n",
              "          element.appendChild(docLink);\n",
              "        }\n",
              "      </script>\n",
              "    </div>\n",
              "  </div>\n",
              "  "
            ]
          },
          "metadata": {},
          "execution_count": 22
        }
      ]
    },
    {
      "cell_type": "code",
      "source": [
        "fig,ax = plt.subplots()\n",
        "fig.set_size_inches(15, 8)\n",
        "sns.set_theme()\n",
        "sns.stripplot(data = df_resized, x = df_resized.valor, y = df_resized.categoria, hue=df_resized.respuesta, dodge=True, marker=\"o\", s = 10, alpha = .1)\n",
        "ax.axvline(df_resized[df_resized[\"respuesta\"] == 0].valor.median(), color=\"blue\", linestyle=\"--\")\n",
        "ax.axvline(df_resized[df_resized[\"respuesta\"] == 1].valor.median(), color=\"orange\", linestyle=\"--\")\n",
        "plt.legend(title = \"Response\")\n",
        "plt.title(\"Strip Plot: Product amount's distributions\", fontsize = 16)\n",
        "plt.ylabel(\"Category\")\n",
        "plt.xlabel(\"Value\")"
      ],
      "metadata": {
        "colab": {
          "base_uri": "https://localhost:8080/",
          "height": 532
        },
        "id": "MGzymMHhCAGz",
        "outputId": "7518cbfa-43d3-4b2d-daeb-ca28d0f0e4bd"
      },
      "execution_count": 23,
      "outputs": [
        {
          "output_type": "execute_result",
          "data": {
            "text/plain": [
              "Text(0.5, 0, 'Value')"
            ]
          },
          "metadata": {},
          "execution_count": 23
        },
        {
          "output_type": "display_data",
          "data": {
            "text/plain": [
              "<Figure size 1080x576 with 1 Axes>"
            ],
            "image/png": "[encoded data removed]"
          },
          "metadata": {
            "needs_background": "light"
          }
        }
      ]
    },
    {
      "cell_type": "code",
      "source": [
        "fig,ax = plt.subplots()\n",
        "fig.set_size_inches(15, 8)\n",
        "sns.histplot(data=df_resized, hue='categoria', x='valor', kde=True, legend = True)\n",
        "plt.title(\"Hist: Product amount's distributions\", fontsize = 16)\n",
        "plt.xlabel(\"Value\")\n",
        "\n",
        "df_aux = df_resized.copy()\n",
        "for i in range(0, df_aux.shape[0]):\n",
        "  if (df_aux.valor[i] == 0.0):\n",
        "    df_aux.valor[i] = float(\"nan\")\n",
        "\n",
        "fig,ax = plt.subplots()\n",
        "fig.set_size_inches(15, 8)\n",
        "sns.histplot(data=df_aux[df_aux.valor.notna()], hue='categoria', x='valor', log_scale = True, kde=True, element=\"step\")\n",
        "plt.title(\"Hist: Product amount's distribution w/ logarithmic transformation\", fontsize = 16)\n",
        "plt.xlabel(\"Value\")"
      ],
      "metadata": {
        "colab": {
          "base_uri": "https://localhost:8080/",
          "height": 1000
        },
        "id": "YNIiyCJ98g8a",
        "outputId": "86e8449a-cf75-4b7d-e052-c946ffe29b40"
      },
      "execution_count": 25,
      "outputs": [
        {
          "output_type": "stream",
          "name": "stderr",
          "text": [
            "<ipython-input-25-6053fc93c448>:10: SettingWithCopyWarning: \n",
            "A value is trying to be set on a copy of a slice from a DataFrame\n",
            "\n",
            "See the caveats in the documentation: https://pandas.pydata.org/pandas-docs/stable/user_guide/indexing.html#returning-a-view-versus-a-copy\n",
            "  df_aux.valor[i] = float(\"nan\")\n"
          ]
        },
        {
          "output_type": "execute_result",
          "data": {
            "text/plain": [
              "Text(0.5, 0, 'Value')"
            ]
          },
          "metadata": {},
          "execution_count": 25
        },
        {
          "output_type": "display_data",
          "data": {
            "text/plain": [
              "<Figure size 1080x576 with 1 Axes>"
            ],
            "image/png": "[encoded data removed]"
          },
          "metadata": {}
        },
        {
          "output_type": "display_data",
          "data": {
            "text/plain": [
              "<Figure size 1080x576 with 1 Axes>"
            ],
            "image/png": "[encoded data removed]"
          },
          "metadata": {}
        }
      ]
    },
    {
      "cell_type": "markdown",
      "source": [
        "Como sospechábamos anteriormente, las distribución bimodal del monto total se debe a la diferencia en las distribuciónes en los montos de cada categoría de productos. Las categorías que parecieran aportar más peso a la formación de cada moda son, la de productos de oro para la primer moda (de izquierda a derecha), y las carnes y vinos para la segunda."
      ],
      "metadata": {
        "id": "wHKIdlEfMvSY"
      }
    },
    {
      "cell_type": "markdown",
      "source": [
        "### *Preguntas de interés e inferencias*"
      ],
      "metadata": {
        "id": "fjPmMekVbkg2"
      }
    },
    {
      "cell_type": "markdown",
      "source": [
        "#### ¿Es el salario anual un factor influyente en la decisión de aceptar la membresía?"
      ],
      "metadata": {
        "id": "M5AoYQTf3gmN"
      }
    },
    {
      "cell_type": "markdown",
      "source": [
        "Para responder esta pregunta debemos evaluar si existen diferencias significativas entre la media salarial anual de las personas que aceptaron la membresía y la media salarial anual de las personas que no la aceptaron. Así nuestra variable respuesta será `Response` y nuestra variable predictora será `Income`.<br>\n",
        "<br>\n",
        "* Parámetro poblacional de interés: <br>\n",
        "$ \\mu_{1} - \\mu_{2} $ <br>\n",
        "donde: <br>\n",
        "$ \\mu_{1} $ : salario medio anual de las personas que no aceptaron la membresía. <br>\n",
        "$ \\mu_{2} $ : salario medio anual de las personas que aceptaron la membresía. <br>\n",
        "<br>\n",
        "* HIPÓTESIS: <br>\n",
        "$ H_{0}: \\mu_{0} - \\mu_{1} = 0 $ <br>\n",
        "$ H_{1}: \\mu_{0} - \\mu_{1} ≠ 0 $ <br>\n",
        "<br>\n",
        "* Estadístico muestral para realizar la estimación: <br>\n",
        "$ T = \\frac{x̄_{1} - x̄_{2}}{\\sqrt{\\frac{s^{2}_{1}}{n_{1}} + \\frac{s^{2}_{2}}{n_{1}}}} $ <br>\n",
        "donde: <br>\n",
        "$ x̄_{1} $ : media muestral del salario anual de las personas que no aceptaron la membresía. <br>\n",
        "$ x̄_{2} $ : media muestral del salario anual de las personas que aceptaron la membresía. <br>\n",
        "$ s_{1} $ : desvío estándar muestral del salario anual de las personas que no aceptaron la membresía. <br>\n",
        "$ s_{2} $ : desvío estándar muestral del salario anual de las personas que aceptaron la membresía. <br>\n",
        "$ n_{1} $ : tamaño de la muestra de los salarios anuales de las personas que no aceptaron la membresía. <br>\n",
        "$ n_{2} $ : tamaño de la muestra de los salarios anuales de las personas que no aceptaron la membresía. <br>\n",
        "<br>\n",
        "* Valor T crítico: <br>\n",
        "Sea $ t_{\\frac{\\alpha}{2},\\nu} $ el valor $ t_{critico} $ que deja un área de $ \\frac{\\alpha}{2} $ a derecha y un área de $ \\frac{\\alpha}{2} $ a izquierda con $ \\nu $ grados de libertad. La hipótesis nula se rechazará si: <br>\n",
        "$ T < -t_{\\frac{\\alpha}{2},\\nu} $ o $ T > t_{\\frac{\\alpha}{2},\\nu} $\n",
        "<br>\n",
        "\n",
        "* INTERVALO DE CONFIANZA: <br>\n",
        "$ (x̄_{1} - x̄_{2}) - t_{\\frac{\\alpha}{2},\\nu}\\sqrt{\\frac{s^{2}_{1}}{n_{1}} + \\frac{s^{2}_{2}}{n_{1}}} $ , $ (x̄_{1} - x̄_{2}) + t_{\\frac{\\alpha}{2},\\nu}\\sqrt{\\frac{s^{2}_{1}}{n_{1}} + \\frac{s^{2}_{2}}{n_{1}}} $ <br>\n",
        "Utilizaremos un nivel de confianza del 95% (es decir, un nivel de significancia $ \\alpha $ del 5%). <br>\n",
        "<br>\n",
        "* Interpretación del intervalo de confianza: <br>\n",
        "Si el 0 está contenido dentro del intervalo, entonces podremos afirmar con un 95% de confianza que existen diferencias significativas entre las medias de los salarios anuales de quienes aceptaron la membresía y quienes no lo hicieron. Por el contrario, si el 0 no está contenido, entonces no podremos afirmar que existan diferencias significativas.\n"
      ],
      "metadata": {
        "id": "BTPbNEw5KSFE"
      }
    },
    {
      "cell_type": "markdown",
      "source": [
        "##### Estadístico muestral e intervalo de confianza"
      ],
      "metadata": {
        "id": "GLjVJsAyYhyg"
      }
    },
    {
      "cell_type": "markdown",
      "source": [
        "Cálculo del estadístico muestral $T$"
      ],
      "metadata": {
        "id": "kDkBIJB8cbsG"
      }
    },
    {
      "cell_type": "code",
      "source": [
        "resp_no = df[df['Response'] == 0]['Income']\n",
        "resp_si = df[df['Response'] == 1]['Income']\n",
        "\n",
        "x_1 = resp_no.mean()\n",
        "x_2 = resp_si.mean()\n",
        "s_1 = resp_no.std()\n",
        "s_2 = resp_si.std()\n",
        "n_1 = resp_no.size\n",
        "n_2 = resp_si.size\n",
        "\n",
        "T = (x_1 - x_2)/math.sqrt(s_1**2/n_1 + s_2**2/n_2)\n",
        "print(\"T =\", T)"
      ],
      "metadata": {
        "colab": {
          "base_uri": "https://localhost:8080/"
        },
        "id": "yb9Lsneicdts",
        "outputId": "ad4b62da-4c06-4864-b41f-f3e92ab80472"
      },
      "execution_count": null,
      "outputs": [
        {
          "output_type": "stream",
          "name": "stdout",
          "text": [
            "T = -6.6654935134618425\n"
          ]
        }
      ]
    },
    {
      "cell_type": "markdown",
      "source": [
        "Luego, para poder calcular nuestro valor $ t_{critico} $ necesitamos saber si las varianzas de nuestras muestras son iguales o diferentes, ya que los grados de libertad son muy sensibles a ello. Para esto utilizaremos el test de Levene. Si el p-valor obtenido es mayor a 0.05 podremos suponer que las varianzas de ambas muestras son iguales, mientras que si es menor supondremos que las mismas son diferentes."
      ],
      "metadata": {
        "id": "oveD-eeBcCC3"
      }
    },
    {
      "cell_type": "code",
      "source": [
        "# Test de levene para evaluar si las varianzas son iguales o no\n",
        "print(\"p-valor =\", stats.levene(resp_no, resp_si)[1])"
      ],
      "metadata": {
        "colab": {
          "base_uri": "https://localhost:8080/"
        },
        "id": "miY0Ae7z15ci",
        "outputId": "9ea6be6f-3020-4f0d-8c35-c94da7910d2c"
      },
      "execution_count": null,
      "outputs": [
        {
          "output_type": "stream",
          "name": "stdout",
          "text": [
            "p-valor = 0.011913056418450437\n"
          ]
        }
      ]
    },
    {
      "cell_type": "markdown",
      "source": [
        "Como nuestro p-valor es de 0.012 aproximadamente, supondremos que las varianzas de las muestras son diferentes. Así, los grados de libertad estarán dados por: <br>\n",
        "$ \\nu = \\frac{(\\frac{s^{2}_{1}}{n_{1}} + \\frac{s^{2}_{2}}{n_{2}})^2}{\\frac{(\\frac{s^{2}_{1}}{n_{1}})^{2}}{n_{1} - 1} + \\frac{(\\frac{s^{2}_{2}}{n_{2}})^{2}}{n_{2} - 1}} $ <br>\n",
        "Habiendo obtenido esto, podremos calcular el $t_{critico}$. "
      ],
      "metadata": {
        "id": "Gs9aDXl8M8wK"
      }
    },
    {
      "cell_type": "code",
      "source": [
        "# Grados de libertad\n",
        "gl = ((s_1**2/n_1) + (s_2**2/n_2))**2/(((s_1**2/n_1)**2)/(n_1 - 1) + ((s_2**2/n_2)**2)/(n_2 - 1))\n",
        "\n",
        "# T crítico\n",
        "alfa = 0.05\n",
        "t = stats.t.ppf (q = 1-alfa/2, df = gl)\n",
        "print(\"T-crítico: \", t)"
      ],
      "metadata": {
        "colab": {
          "base_uri": "https://localhost:8080/"
        },
        "id": "15-qdyCdQEbf",
        "outputId": "f3dfa396-4ab6-47c4-ae0f-f61be6c1b367"
      },
      "execution_count": null,
      "outputs": [
        {
          "output_type": "stream",
          "name": "stdout",
          "text": [
            "T-crítico:  1.964939198427694\n"
          ]
        }
      ]
    },
    {
      "cell_type": "markdown",
      "source": [
        "En este punto ya podemos observar que se cumple: <br>\n",
        "$ T = -6.665 < -t_{\\frac{\\alpha}{2},\\nu} = -1.965 $ , <br>\n",
        "por lo que tenemos evidencias para rechazar la hipótesis nula."
      ],
      "metadata": {
        "id": "CTJogQCCeCqd"
      }
    },
    {
      "cell_type": "markdown",
      "source": [
        "Cálculo del intervalo de confianza:"
      ],
      "metadata": {
        "id": "tZwVS4_TV00N"
      }
    },
    {
      "cell_type": "code",
      "source": [
        "IC = [x_1 - x_2 - t * math.sqrt((s_1**2/n_1) + (s_2**2/n_2)), x_1 - x_2 + t * math.sqrt((s_1**2/n_1) + (s_2**2/n_2))]\n",
        "print(\"Intervalo de confianza:\", IC)"
      ],
      "metadata": {
        "colab": {
          "base_uri": "https://localhost:8080/"
        },
        "id": "zvAI8InuV3g5",
        "outputId": "150476ec-a653-40d2-c29f-3e3ddd4d48d4"
      },
      "execution_count": null,
      "outputs": [
        {
          "output_type": "stream",
          "name": "stdout",
          "text": [
            "Intervalo de confianza: [-12112.95075083839, -6597.303382159582]\n"
          ]
        }
      ]
    },
    {
      "cell_type": "markdown",
      "source": [
        "Observamos que el intervalo de confianza no contiene al 0, por lo que nuevamente tenemos evidencia para descartar la hipótesis nula. Además, todos los valores del intervalo son negativos, lo que indica que la media del salario anual de las personas que aceptaron la membresía es mayor que la media del salario anual de las personas que no lo hicieron."
      ],
      "metadata": {
        "id": "zAUbd3STeu-N"
      }
    },
    {
      "cell_type": "markdown",
      "source": [
        "#### ¿Es el nivel educativo un factor que influye en la decisión de aceptar la membresía?"
      ],
      "metadata": {
        "id": "bhh9yTuXriQ1"
      }
    },
    {
      "cell_type": "markdown",
      "source": [
        "Para responder esta pregunta debemos evaluar si existen diferencias significativas entre las proporciones de personas que aceptaron la membresía en función de su nivel educativo. Así nuestra variable respuesta será `Response` y nuestra variable predictora será `Education`.<br>\n",
        "<br>\n",
        "* Parámetro poblacional de interés: <br>\n",
        "$ p_{i} - p_{j} $ <br>\n",
        "donde: <br>\n",
        "$ p_{i} $ : proporción de personas con nivel educativo $ i $ que aceptaron la membresía sobre el total de personas con nivel educativo $ i $. <br>\n",
        "$ p_{j} $ : proporción de personas con nivel educativo $ j $ que aceptaron la membresía sobre el total de personas con nivel educativo $ j $. <br>\n",
        "siendo: <br>\n",
        "${i,j}$ : {Basic, 2n Cycle, Graduate, Master, PhD}<br>\n",
        "<br>\n",
        "* HIPÓTESIS: <br>\n",
        "$ H_{0}: p_{i} - p_{j} = 0 $ para algún $i,j$<br>\n",
        "$ H_{1}: p_{i} - p_{j} ≠ 0 $ para algún $i,j$<br>\n",
        "<br>\n",
        "* Estadístico muestral para realizar la estimación: <br>\n",
        "$ Z = \\frac{p̂_{i} - p̂_{j}}{\\sqrt{\\frac{p̂_{i}(1-p̂_{i})}{n_{i}} + \\frac{p̂_{j}(1-p̂_{j})}{n_{j}}}} $ <br>\n",
        "donde: <br>\n",
        "$ p̂_{i} $ : proporción muestral de personas con nivel educativo $i$ que aceptaron la membresía. <br>\n",
        "$ p̂_{j} $ : proporción muestral de personas con nivel educativo $j$ que aceptaron la membresía. <br>\n",
        "$ n_{i} $ : total de personas con nivel educativo $i$. <br>\n",
        "$ n_{j} $ : total de personas con nivel educativo $j$. <br>\n",
        "<br>\n",
        "* Valor Z crítico: <br>\n",
        "Sea $ z_{\\frac{\\alpha}{2}} $ el valor $ z_{critico} $ que deja un área de $ \\frac{\\alpha}{2} $ a derecha y un área de $ \\frac{\\alpha}{2} $ a izquierda. La hipótesis nula se rechazará si: <br>\n",
        "$ Z < -z_{\\frac{\\alpha}{2}} $ o $ Z > z_{\\frac{\\alpha}{2}} $\n",
        "<br>\n",
        "\n",
        "* INTERVALO DE CONFIANZA: <br>\n",
        "$ (p̂_{i} - p̂_{j}) - z_{\\frac{\\alpha}{2}}\\sqrt{\\frac{p̂_{i}(1-p̂_{i})}{n_{i}} + \\frac{p̂_{j}(1-p̂_{j})}{n_{j}}} $ , $ (p̂_{i} - p̂_{j}) + z_{\\frac{\\alpha}{2}}\\sqrt{\\frac{p̂_{i}(1-p̂_{i})}{n_{i}} + \\frac{p̂_{j}(1-p̂_{j})}{n_{j}}} $ <br>\n",
        "Utilizaremos un nivel de confianza del 95% (es decir, un nivel de significancia $ \\alpha $ del 5%). <br>\n",
        "<br>\n",
        "* Interpretación del intervalo de confianza: <br>\n",
        "Si para alguna combinación $i,j$ el 0 está contenido dentro del intervalo, entonces podremos afirmar con un 95% de confianza que existen diferencias significativas entre la proporción de personas que aceptaron la membresía según su nivel educativo. Por el contrario, si el 0 no está contenido, entonces no podremos afirmar que existan diferencias significativas."
      ],
      "metadata": {
        "id": "ubplYwbJqspI"
      }
    },
    {
      "cell_type": "markdown",
      "source": [
        "##### Estadísticos muestrales e intervalos de confianza"
      ],
      "metadata": {
        "id": "YjAF_pk3y60N"
      }
    },
    {
      "cell_type": "code",
      "source": [
        "n_bas = df[df['Education'] == 'Basic'].shape[0]\n",
        "n_sec = df[df['Education'] == '2n Cycle'].shape[0]\n",
        "n_grad = df[df['Education'] == 'Graduation'].shape[0]\n",
        "n_mas = df[df['Education'] == 'Master'].shape[0]\n",
        "n_phd = df[df['Education'] == 'PhD'].shape[0]\n",
        "\n",
        "p_bas = df[np.logical_and(df['Response'] == 1, df['Education'] == 'Basic')].shape[0] / n_bas\n",
        "p_sec = df[np.logical_and(df['Response'] == 1, df['Education'] == '2n Cycle')].shape[0] / n_sec\n",
        "p_grad = df[np.logical_and(df['Response'] == 1, df['Education'] == 'Graduation')].shape[0] / n_grad\n",
        "p_mas = df[np.logical_and(df['Response'] == 1, df['Education'] == 'Master')].shape[0] / n_mas\n",
        "p_phd = df[np.logical_and(df['Response'] == 1, df['Education'] == 'PhD')].shape[0] / n_phd"
      ],
      "metadata": {
        "id": "N-Lnj9u_z-65"
      },
      "execution_count": null,
      "outputs": []
    },
    {
      "cell_type": "markdown",
      "source": [
        "Cálculo de los estadísticos muestrales $Z$\n",
        "\n"
      ],
      "metadata": {
        "id": "JzWpBEbvzBnZ"
      }
    },
    {
      "cell_type": "code",
      "source": [
        "nn = [n_bas, n_sec, n_grad, n_mas, n_phd]\n",
        "pp = [p_bas, p_sec, p_grad, p_mas, p_phd]\n",
        "nombres = [\"nivel básico\", \"nivel secundario\", \"graduado\", \"máster\", \"postdoctoral\"]\n",
        "\n",
        "Z = np.zeros([5,5])\n",
        "\n",
        "for i in range(0,len(nn)):\n",
        "  if i <= len(nn):\n",
        "    for j in range(len(nn)-1, i, -1):\n",
        "      Z[i,j] = (pp[i] - pp[j])/math.sqrt((pp[i]*(1-pp[i])/nn[i]) + (pp[j]*(1-pp[j])/nn[j]))\n",
        "      print(\"Comparación entre\",nombres[i],\"y\",nombres[j],\"Z =\",Z[i,j])"
      ],
      "metadata": {
        "colab": {
          "base_uri": "https://localhost:8080/"
        },
        "id": "TAsKKOUb7Vc_",
        "outputId": "4576b0ce-d027-474c-9b78-1a5e8083cd99"
      },
      "execution_count": null,
      "outputs": [
        {
          "output_type": "stream",
          "name": "stdout",
          "text": [
            "Comparación entre nivel básico y postdoctoral Z = -5.416229292060815\n",
            "Comparación entre nivel básico y máster Z = -3.6608483899323296\n",
            "Comparación entre nivel básico y graduado Z = -3.5561496872228258\n",
            "Comparación entre nivel básico y nivel secundario Z = -2.1515899354548034\n",
            "Comparación entre nivel secundario y postdoctoral Z = -3.419344004525804\n",
            "Comparación entre nivel secundario y máster Z = -1.506455596632169\n",
            "Comparación entre nivel secundario y graduado Z = -1.042794487712966\n",
            "Comparación entre graduado y postdoctoral Z = -3.4579188963881813\n",
            "Comparación entre graduado y máster Z = -0.85638952402269\n",
            "Comparación entre máster y postdoctoral Z = -2.0721896208496613\n"
          ]
        }
      ]
    },
    {
      "cell_type": "markdown",
      "source": [
        "Cálculo del $z_{critico}$"
      ],
      "metadata": {
        "id": "3axVw0TJ32qq"
      }
    },
    {
      "cell_type": "code",
      "source": [
        "# Z-crítico\n",
        "alfa = 0.05\n",
        "z = stats.norm.ppf (q = 1-alfa/2)\n",
        "print(\"Z-crítico: \", z)"
      ],
      "metadata": {
        "colab": {
          "base_uri": "https://localhost:8080/"
        },
        "id": "KAdYMx6Q35Yj",
        "outputId": "0b9b731a-b3c1-487d-a500-b0320caf6f8a"
      },
      "execution_count": null,
      "outputs": [
        {
          "output_type": "stream",
          "name": "stdout",
          "text": [
            "Z-crítico:  1.959963984540054\n"
          ]
        }
      ]
    },
    {
      "cell_type": "markdown",
      "source": [
        "De aquí podemos extraer las siguientes conclusiones: <br>\n",
        "\n",
        "* Situaciones en las que rechazamos $H_{0}$ <br>\n",
        "$Z_{basic-secondary} = -2.152 < -z_{\\frac{\\alpha}{2}} = -1.960$ <br>\n",
        "$Z_{basic-gradruate} = -3.556 < -z_{\\frac{\\alpha}{2}} = -1.960$ <br>\n",
        "$Z_{basic-master} = -3.661 < -z_{\\frac{\\alpha}{2}} = -1.960$ <br>\n",
        "$Z_{basic-phd} = -5.416 < -z_{\\frac{\\alpha}{2}} = -1.960$ <br>\n",
        "$Z_{secondary-phd} = -3.419 < -z_{\\frac{\\alpha}{2}} = -1.960$ <br>\n",
        "$Z_{graduate-phd} = -3.458 < -z_{\\frac{\\alpha}{2}} = -1.960$ <br>\n",
        "$Z_{master-phd} = -2.072 < -z_{\\frac{\\alpha}{2}} = -1.960$ <br>\n",
        "<br>\n",
        "* Situaciones en las que no rechazamos $H_{0}$ <br>\n",
        "$Z_{secondary-graduate} = -1.043 > -z_{\\frac{\\alpha}{2}} = -1.960$ <br>\n",
        "$Z_{secondary-master} = -1.506 > -z_{\\frac{\\alpha}{2}} = -1.960$ <br>\n",
        "$Z_{graduate-master} = -0.856 > -z_{\\frac{\\alpha}{2}} = -1.960$ <br>\n",
        "\n",
        "Como vemos, en los únicos casos en los cuales no pareciera haber diferencias significativas es cuando comparamos entre las proporciones de personas con estudios secundarios vs graduados, secundarios vs másters, y graduados vs másters. Para todos los demás casos sí existen evidencias suficientes para rechazar $H_{0}$ y, por lo tanto, para afirmar que existen diferencias significativas.\n"
      ],
      "metadata": {
        "id": "jusHN2OK4cpb"
      }
    },
    {
      "cell_type": "markdown",
      "source": [
        "Cálculos de los intervalos de confianza"
      ],
      "metadata": {
        "id": "mUtx-ID-5RcF"
      }
    },
    {
      "cell_type": "code",
      "source": [
        "IC = np.zeros([5,5,2])\n",
        "\n",
        "for i in range(0,len(nn)):\n",
        "  if i <= len(nn):\n",
        "    for j in range(len(nn)-1, i, -1):\n",
        "      IC[i,j,0] = (pp[i] - pp[j] - z*math.sqrt((pp[i]*(1-pp[i])/nn[i]) + (pp[j]*(1-pp[j])/nn[j])))\n",
        "      IC[i,j,1] = (pp[i] - pp[j] + z*math.sqrt((pp[i]*(1-pp[i])/nn[i]) + (pp[j]*(1-pp[j])/nn[j])))\n",
        "      print(\"IC del 95% para la comparación entre\",nombres[i],\"y\",nombres[j],\"IC =\",IC[i,j])"
      ],
      "metadata": {
        "colab": {
          "base_uri": "https://localhost:8080/"
        },
        "id": "8Wqs2FPVGIT4",
        "outputId": "aaefcf2c-f634-4bd4-a1a4-272c76aa62fe"
      },
      "execution_count": null,
      "outputs": [
        {
          "output_type": "stream",
          "name": "stdout",
          "text": [
            "IC del 95% para la comparación entre nivel básico y postdoctoral IC = [-0.23387539 -0.10958707]\n",
            "IC del 95% para la comparación entre nivel básico y máster IC = [-0.17934699 -0.05427125]\n",
            "IC del 95% para la comparación entre nivel básico y graduado IC = [-0.15261583 -0.04416211]\n",
            "IC del 95% para la comparación entre nivel básico y nivel secundario IC = [-0.13942766 -0.00649826]\n",
            "IC del 95% para la comparación entre nivel secundario y postdoctoral IC = [-0.15538212 -0.04215441]\n",
            "IC del 95% para la comparación entre nivel secundario y máster IC = [-0.1008919   0.01319959]\n",
            "IC del 95% para la comparación entre nivel secundario y graduado IC = [-0.07321497  0.02236295]\n",
            "IC del 95% para la comparación entre graduado y postdoctoral IC = [-0.11491298 -0.03177154]\n",
            "IC del 95% para la comparación entre graduado y máster IC = [-0.06057715  0.02373686]\n",
            "IC del 95% para la comparación entre máster y postdoctoral IC = [-0.10686976 -0.00297447]\n"
          ]
        }
      ]
    },
    {
      "cell_type": "code",
      "source": [
        "y = 1\n",
        "col = (\"teal\", \"darkmagenta\", \"olivedrab\", \"chocolate\", \"crimson\", \"navy\", \"darkseagreen\", \"mediumvioletred\", \"darkturquoise\", \"coral\")\n",
        "names = (\"basic vs secondary\", \"basic vs graduate\", \"basic vs master\", \"basic vs PhD\", \"secondary vs graduate\", \"secondary vs master\", \"secondary vs PhD\", \"graduado vs master\", \"graduate vs PhD\", \"master vs PhD\")\n",
        "k = 0\n",
        "fig,ax = plt.subplots()\n",
        "fig.set_size_inches(15, 8)\n",
        "plt.xlim(-.5,.5)\n",
        "plt.legend()\n",
        "for i in range(0, IC.shape[0]):\n",
        "  for j in range(0, IC.shape[1]):\n",
        "    if (IC[i][j][0] != 0):\n",
        "      ax.axhline(y = y, xmin=IC[i][j][0]+0.5, xmax=IC[i][j][1]+0.5, color = col[k], label = names[k], marker = \"o\")     \n",
        "      k+=1\n",
        "      y+=1\n",
        "ax.axvline(x = 0, linestyle = \":\", color = \"gray\")\n",
        "plt.title(\"95% Confidence intervals\", {'fontsize': 16})\n",
        "plt.legend(title = \"Comparisons\")"
      ],
      "metadata": {
        "colab": {
          "base_uri": "https://localhost:8080/",
          "height": 558
        },
        "id": "8pWPTEfJ4FYS",
        "outputId": "9e5eae41-f14a-4b51-c658-22bcf58ab2ae"
      },
      "execution_count": null,
      "outputs": [
        {
          "output_type": "stream",
          "name": "stderr",
          "text": [
            "WARNING:matplotlib.legend:No artists with labels found to put in legend.  Note that artists whose label start with an underscore are ignored when legend() is called with no argument.\n"
          ]
        },
        {
          "output_type": "execute_result",
          "data": {
            "text/plain": [
              "<matplotlib.legend.Legend at 0x7fea93a8e9d0>"
            ]
          },
          "metadata": {},
          "execution_count": 311
        },
        {
          "output_type": "display_data",
          "data": {
            "text/plain": [
              "<Figure size 1080x576 with 1 Axes>"
            ],
            "image/png": "[encoded data removed]"
          },
          "metadata": {}
        }
      ]
    },
    {
      "cell_type": "markdown",
      "source": [
        "En concordancia a lo obtenido en el análisis anterior, observamos que para las comparaciones de las proporciones entre los niveles secundario vs graduado, secundario vs máster, y graduado vs máster, los intervalos de confianza contienen al 0, por lo que no tenemos evidencia suficiente para rechazar $H_{0}$. En todos los demás casos, sí se observa evidencia suficiente para rechazar $H_{0}$ y, por lo tanto, para afirmar que existen diferencias significativas. <br>\n",
        "Además, en los casos en los que se presentan diferencias, para todos ellos, todos los valores dentro del intervalo de confianza son negativos, lo que implica que a mayor nivel educativo mayor es la proporción de personas que aceptaron la membresía."
      ],
      "metadata": {
        "id": "zNpi5RJz636M"
      }
    },
    {
      "cell_type": "markdown",
      "source": [
        "#### ¿Es el estado civil un factor influyente en la decisión de aceptar la membresía?"
      ],
      "metadata": {
        "id": "ajvwf1FkibCv"
      }
    },
    {
      "cell_type": "markdown",
      "source": [
        "Para responder esta pregunta debemos evaluar si existen diferencias significativas entre las proporciones de personas que aceptan la membresía en función de su estado civil. Así nuestra variable respuesta será `Response` y nuestra variable predictora será `Marital_Status`.<br>\n",
        "<br>\n",
        "* Parámetro poblacional de interés: <br>\n",
        "$ p_{i} - p_{j} $ <br>\n",
        "donde: <br>\n",
        "$ p_{i} $ : proporción de personas de estado civil $ i $ que aceptaron la membresía sobre el total de personas de estado civil $ i $. <br>\n",
        "$ p_{j} $ : proporción de personas de estado civil $ j $ que aceptaron la membresía sobre el total de personas de estado civil $ j $. <br>\n",
        "siendo: <br>\n",
        "${i,j}$ : {Married, Together, Divorce, Widow, Single}<br>\n",
        "<br>\n",
        "* HIPÓTESIS: <br>\n",
        "$ H_{0}: p_{i} - p_{j} = 0 $ para algún $i,j$<br>\n",
        "$ H_{1}: p_{i} - p_{j} ≠ 0 $ para algún $i,j$<br>\n",
        "<br>\n",
        "* Estadístico muestral para realizar la estimación: <br>\n",
        "$ Z = \\frac{p̂_{i} - p̂_{j}}{\\sqrt{\\frac{p̂_{i}(1-p̂_{i})}{n_{i}} + \\frac{p̂_{j}(1-p̂_{j})}{n_{j}}}} $ <br>\n",
        "donde: <br>\n",
        "$ p̂_{i} $ : proporción muestral de personas con estado civil $i$ que aceptaron la membresía. <br>\n",
        "$ p̂_{j} $ : proporción muestral de personas con estado civil $j$ que aceptaron la membresía. <br>\n",
        "$ n_{i} $ : total de personas con estado civil $i$. <br>\n",
        "$ n_{j} $ : total de personas con estado civil $j$. <br>\n",
        "<br>\n",
        "* Valor Z crítico: <br>\n",
        "Sea $ z_{\\frac{\\alpha}{2}} $ el valor $ z_{critico} $ que deja un área de $ \\frac{\\alpha}{2} $ a derecha y un área de $ \\frac{\\alpha}{2} $ a izquierda. La hipótesis nula se rechazará si: <br>\n",
        "$ Z < -z_{\\frac{\\alpha}{2}} $ o $ Z > z_{\\frac{\\alpha}{2}} $\n",
        "<br>\n",
        "\n",
        "* INTERVALO DE CONFIANZA: <br>\n",
        "$ (p̂_{i} - p̂_{j}) - z_{\\frac{\\alpha}{2}}\\sqrt{\\frac{p̂_{i}(1-p̂_{i})}{n_{i}} + \\frac{p̂_{j}(1-p̂_{j})}{n_{j}}} $ , $ (p̂_{i} - p̂_{j}) + z_{\\frac{\\alpha}{2}}\\sqrt{\\frac{p̂_{i}(1-p̂_{i})}{n_{i}} + \\frac{p̂_{j}(1-p̂_{j})}{n_{j}}} $ <br>\n",
        "Utilizaremos un nivel de confianza del 95% (es decir, un nivel de significancia $ \\alpha $ del 5%). <br>\n",
        "<br>\n",
        "* Interpretación del intervalo de confianza: <br>\n",
        "Si para alguna combinación $i,j$ el 0 está contenido dentro del intervalo, entonces podremos afirmar con un 95% de confianza que existen diferencias significativas entre la proporción de personas que aceptaron la membresía según su estado civil. Por el contrario, si el 0 no está contenido, entonces no podremos afirmar que existan diferencias significativas."
      ],
      "metadata": {
        "id": "Hh_YO_T1OFjB"
      }
    },
    {
      "cell_type": "markdown",
      "source": [
        "##### Estadísticos muestrales e intervalos de confianza"
      ],
      "metadata": {
        "id": "zyeFgSRsQJ8s"
      }
    },
    {
      "cell_type": "code",
      "source": [
        "n_marr = df[df['Marital_Status'] == 'Married'].shape[0]\n",
        "n_div = df[df['Marital_Status'] == 'Divorced'].shape[0]\n",
        "n_sing = df[df['Marital_Status'] == 'Single'].shape[0]\n",
        "n_tog = df[df['Marital_Status'] == 'Together'].shape[0]\n",
        "n_wid = df[df['Marital_Status'] == 'Widow'].shape[0]\n",
        "\n",
        "p_marr = df[np.logical_and(df['Response'] == 1, df['Marital_Status'] == 'Married')].shape[0] / n_marr\n",
        "p_div = df[np.logical_and(df['Response'] == 1, df['Marital_Status'] == 'Divorced')].shape[0] / n_div\n",
        "p_sing = df[np.logical_and(df['Response'] == 1, df['Marital_Status'] == 'Single')].shape[0] / n_sing\n",
        "p_tog = df[np.logical_and(df['Response'] == 1, df['Marital_Status'] == 'Together')].shape[0] / n_tog\n",
        "p_wid = df[np.logical_and(df['Response'] == 1, df['Marital_Status'] == 'Widow')].shape[0] / n_wid"
      ],
      "metadata": {
        "id": "ChoWCQORQK5n"
      },
      "execution_count": null,
      "outputs": []
    },
    {
      "cell_type": "markdown",
      "source": [
        "Cálculo de los estadísticos muestrales $Z$"
      ],
      "metadata": {
        "id": "N_zbY8T8RbF0"
      }
    },
    {
      "cell_type": "code",
      "source": [
        "nmt = [n_marr, n_tog, n_sing, n_div, n_wid]\n",
        "pmt = [p_marr, p_tog, p_sing, p_div, p_wid]\n",
        "nombresmt = [\"casado\", \"juntado\", \"soltero\", \"divorciado\", \"viudo\"]\n",
        "\n",
        "Z = np.zeros([5,5])\n",
        "\n",
        "for i in range(0,len(nmt)):\n",
        "  if i <= len(nn):\n",
        "    for j in range(i+1, len(nmt)):\n",
        "      Z[i,j] = (pmt[i] - pmt[j])/math.sqrt((pmt[i]*(1-pmt[i])/nmt[i]) + (pmt[j]*(1-pmt[j])/nmt[j]))\n",
        "      print(\"Comparación entre\",nombresmt[i],\"y\",nombresmt[j],\"Z =\",Z[i,j])"
      ],
      "metadata": {
        "colab": {
          "base_uri": "https://localhost:8080/"
        },
        "id": "ARj2Xi2PRc3a",
        "outputId": "4684432b-5b30-4611-81ca-ca1dee2b4c4b"
      },
      "execution_count": null,
      "outputs": [
        {
          "output_type": "stream",
          "name": "stdout",
          "text": [
            "Comparación entre casado y juntado Z = 0.5742954831538931\n",
            "Comparación entre casado y soltero Z = -5.047846432814938\n",
            "Comparación entre casado y divorciado Z = -3.221074234078051\n",
            "Comparación entre casado y viudo Z = -2.45154181822002\n",
            "Comparación entre juntado y soltero Z = -5.245464939790875\n",
            "Comparación entre juntado y divorciado Z = -3.4626004317981565\n",
            "Comparación entre juntado y viudo Z = -2.6207461529348026\n",
            "Comparación entre soltero y divorciado Z = 0.5743980522341677\n",
            "Comparación entre soltero y viudo Z = -0.21185510009254702\n",
            "Comparación entre divorciado y viudo Z = -0.5390960841354727\n"
          ]
        }
      ]
    },
    {
      "cell_type": "markdown",
      "source": [
        "Cálculo del $z_{critico}$"
      ],
      "metadata": {
        "id": "y9I2xp5GSTOb"
      }
    },
    {
      "cell_type": "code",
      "source": [
        "# Z-crítico\n",
        "alfa = 0.05\n",
        "z = stats.norm.ppf (q = 1-alfa/2)\n",
        "print(\"Z-crítico: \", z)"
      ],
      "metadata": {
        "colab": {
          "base_uri": "https://localhost:8080/"
        },
        "id": "U9rtVBLVSVVh",
        "outputId": "090c7cda-d42a-41bb-9d54-3f40c27c6d63"
      },
      "execution_count": null,
      "outputs": [
        {
          "output_type": "stream",
          "name": "stdout",
          "text": [
            "Z-crítico:  1.959963984540054\n"
          ]
        }
      ]
    },
    {
      "cell_type": "markdown",
      "source": [
        "De aquí podemos extraer las siguientes conclusiones: <br>\n",
        "\n",
        "* Situaciones en las que rechazamos $H_{0}$ <br>\n",
        "$Z_{married-single} = -5.048 < -z_{\\frac{\\alpha}{2}} = -1.960$ <br>\n",
        "$Z_{married-divorced} = -3.221 < -z_{\\frac{\\alpha}{2}} = -1.960$ <br>\n",
        "$Z_{married-widow} = -2.452 < -z_{\\frac{\\alpha}{2}} = -1.960$ <br>\n",
        "$Z_{together-single} = -5.245 < -z_{\\frac{\\alpha}{2}} = -1.960$ <br>\n",
        "$Z_{together-divorced} = -3.463 < -z_{\\frac{\\alpha}{2}} = -1.960$ <br>\n",
        "$Z_{together-widow} = -2.621 < -z_{\\frac{\\alpha}{2}} = -1.960$ <br>\n",
        "\n",
        "* Situaciones en las que no se rechaza $H_{0}$ <br>\n",
        "$Z_{married-together} = 0.574 < z_{\\frac{\\alpha}{2}} = 1.960$ <br>\n",
        "$Z_{single-divorced} = 0.574 < z_{\\frac{\\alpha}{2}} = 1.960$ <br>\n",
        "$Z_{single-widow} = -0.212 > -z_{\\frac{\\alpha}{2}} = -1.960$ <br>\n",
        "$Z_{divorced-widow} = -0.539 > -z_{\\frac{\\alpha}{2}} = -1.960$ <br>\n",
        "\n",
        "Así, observamos que en los únicos casos en los cuales no pareciera haber diferencias significativas es cuando comparamos entre las proporciones de personas con estado civil casado vs juntado, soltero vs divorciado, soltero vs viudo, y divorciado vs viudo. Para todos los demás casos sí existen evidencias suficientes para rechazar $H_{0}$ y por lo tanto afirmar que existen diferencias significativas."
      ],
      "metadata": {
        "id": "2FU7jl-FSdvF"
      }
    },
    {
      "cell_type": "markdown",
      "source": [
        "Cálculo de los intervalos de confianza"
      ],
      "metadata": {
        "id": "ro-acA6ffJNw"
      }
    },
    {
      "cell_type": "code",
      "source": [
        "ICmt = np.zeros([5,5,2])\n",
        "\n",
        "for i in range(0,len(nmt)):\n",
        "  if i <= len(nmt):\n",
        "    for j in range(len(nn)-1, i, -1):\n",
        "      ICmt[i,j,0] = (pmt[i] - pmt[j] - z*math.sqrt((pmt[i]*(1-pmt[i])/nmt[i]) + (pmt[j]*(1-pmt[j])/nmt[j])))\n",
        "      ICmt[i,j,1] = (pmt[i] - pmt[j] + z*math.sqrt((pmt[i]*(1-pmt[i])/nmt[i]) + (pmt[j]*(1-pmt[j])/nmt[j])))\n",
        "      print(\"IC del 95% para la comparación entre\",nombresmt[i],\"y\",nombresmt[j],\" IC =\",ICmt[i,j])"
      ],
      "metadata": {
        "colab": {
          "base_uri": "https://localhost:8080/"
        },
        "id": "edn3MssSfPP2",
        "outputId": "653312be-3e88-4b12-a3e2-237766b51e89"
      },
      "execution_count": null,
      "outputs": [
        {
          "output_type": "stream",
          "name": "stdout",
          "text": [
            "IC del 95% para la comparación entre casado y viudo  IC = [-0.22041806 -0.02456137]\n",
            "IC del 95% para la comparación entre casado y divorciado  IC = [-0.14885557 -0.03623275]\n",
            "IC del 95% para la comparación entre casado y soltero  IC = [-0.15463466 -0.06813735]\n",
            "IC del 95% para la comparación entre casado y juntado  IC = [-0.02326038  0.04254108]\n",
            "IC del 95% para la comparación entre juntado y viudo  IC = [-0.2309455  -0.03331463]\n",
            "IC del 95% para la comparación entre juntado y divorciado  IC = [-0.16002484 -0.04434418]\n",
            "IC del 95% para la comparación entre juntado y soltero  IC = [-0.16624776 -0.07580495]\n",
            "IC del 95% para la comparación entre soltero y viudo  IC = [-0.11382896  0.09162155]\n",
            "IC del 95% para la comparación entre soltero y divorciado  IC = [-0.0454504   0.08313408]\n",
            "IC del 95% para la comparación entre divorciado y viudo  IC = [-0.13881707  0.07892596]\n"
          ]
        }
      ]
    },
    {
      "cell_type": "code",
      "source": [
        "y = 1\n",
        "col = (\"teal\", \"darkmagenta\", \"olivedrab\", \"chocolate\", \"crimson\", \"navy\", \"darkseagreen\", \"mediumvioletred\", \"darkturquoise\", \"coral\")\n",
        "names = (\"married vs together\", \"married vs single\", \"married vs divorced\", \"married vs widow\", \"together vs single\", \"together vs divorced\", \"together vs widow\", \"single vs divorced\", \"single vs widow\", \"divorced vs widow\")\n",
        "k = 0\n",
        "fig,ax = plt.subplots()\n",
        "fig.set_size_inches(15, 8)\n",
        "plt.xlim(-.5,.5)\n",
        "plt.legend()\n",
        "for i in range(0, ICmt.shape[0]):\n",
        "  for j in range(0, ICmt.shape[1]):\n",
        "    if (ICmt[i][j][0] != 0):\n",
        "      ax.axhline(y = y, xmin=ICmt[i][j][0]+0.5, xmax=ICmt[i][j][1]+0.5, color = col[k], label = names[k], marker = \"o\")     \n",
        "      k+=1\n",
        "      y+=1\n",
        "ax.axvline(x = 0, linestyle = \":\", color = \"gray\")\n",
        "plt.title(\"95% Confidence intervals\", {'fontsize': 16})\n",
        "plt.legend(title = \"Comparisons\")"
      ],
      "metadata": {
        "colab": {
          "base_uri": "https://localhost:8080/",
          "height": 558
        },
        "id": "ACz9Dw8tjBtN",
        "outputId": "8d9532b7-6caa-484d-a6a9-67e33ed46e5b"
      },
      "execution_count": null,
      "outputs": [
        {
          "output_type": "stream",
          "name": "stderr",
          "text": [
            "WARNING:matplotlib.legend:No artists with labels found to put in legend.  Note that artists whose label start with an underscore are ignored when legend() is called with no argument.\n"
          ]
        },
        {
          "output_type": "execute_result",
          "data": {
            "text/plain": [
              "<matplotlib.legend.Legend at 0x7fea954460a0>"
            ]
          },
          "metadata": {},
          "execution_count": 310
        },
        {
          "output_type": "display_data",
          "data": {
            "text/plain": [
              "<Figure size 1080x576 with 1 Axes>"
            ],
            "image/png": "[encoded data removed]"
          },
          "metadata": {}
        }
      ]
    },
    {
      "cell_type": "markdown",
      "source": [
        "Nuevamente, con los intervalos de confianza, se evidencia la misma conclusión a la que llegamos en el punto anterior. Para las comparaciones entre casado vs juntado, soltero vs divorciado, soltero vs viudo y divorciado vs viudo, los intervalos de confianza de la diferencia de proporciones contienen al 0, por lo que no tenemos evidencias para rechazar la hipótesis nula. Por el contrario, todos los demás intervalos no contienen al 0, con lo que queda rechazada la hipótesis nula y podemos concluir que existen diferencias significativas. <br>\n",
        "Además, en los casos que presentan diferencias, se evidencia lo que observamos durante el análisis de los resúmenes gráficos y numéricos: cuando la comparación se realiza entre dos categorías que implican estar en pareja, o dos categorías que implican no estarlo, no se observan diferencias significativas; mientras que cuando se compara una categoría que implica estar en pareja, frente a otra que implica no estarlo, en todos los casos se observan diferencias significativas, y en todos ellos la proporción de personas sin pareja que decidieron aceptar la membresía es mayor que la proporción de personas con pareja que lo hicieron."
      ],
      "metadata": {
        "id": "GEYwribpfhV3"
      }
    },
    {
      "cell_type": "markdown",
      "source": [
        "#### ¿Es la existencia de niños y adolescentes en el hogar un factor influyente en la desición de aceptar la membresía?"
      ],
      "metadata": {
        "id": "TPBqy7IgjA4N"
      }
    },
    {
      "cell_type": "markdown",
      "source": [
        "Para responder esta pregunta debemos evaluar si existen diferencias significativas entre las proporciones de personas que aceptan la membresía en función de si tienen niños o adolescentes viviendo en su hogar. Así nuestra variable respuesta será `Response`, y nuestra variable predictora será `Has_kids_or_teens`, una variable booleana auxiliar que crearemos unificando los valores de `Kidhome` y `Teenhome`. <br>\n",
        "<br>\n",
        "* Parámetro poblacional de interés: <br>\n",
        "$ p_{1} - p_{2} $ <br>\n",
        "donde: <br>\n",
        "$ p_{1} $ : proporción de personas de con niños o adolescentes en el hogar que aceptaron la membresía, sobre el total de personas con niños o adolescentes en el hogar. <br>\n",
        "$ p_{2} $ : proporción de personas sin niños o adolescentes en el hogar que aceptaron la membresía, sobre el total de personas sin niños o adolescentes en el hogar. <br>\n",
        "<br>\n",
        "* HIPÓTESIS: <br>\n",
        "$ H_{0}: p_{1} - p_{2} = 0 $ <br>\n",
        "$ H_{1}: p_{1} - p_{2} ≠ 0 $ <br>\n",
        "<br>\n",
        "* Estadístico muestral para realizar la estimación: <br>\n",
        "$ Z = \\frac{p̂_{i} - p̂_{j}}{\\sqrt{\\frac{p̂_{i}(1-p̂_{i})}{n_{i}} + \\frac{p̂_{j}(1-p̂_{j})}{n_{j}}}} $ <br>\n",
        "donde: <br>\n",
        "$ p̂_{i} $ : proporción muestral de personas con niños o adolescentes en el hogar que aceptaron la membresía. <br>\n",
        "$ p̂_{j} $ : proporción muestral de personas sin niños o adolescentes en el hogar que aceptaron la membresía. <br>\n",
        "$ n_{i} $ : total de personas con niños o adolescentes en el hogar. <br>\n",
        "$ n_{j} $ : total de personas sin niños o adolescentes en el hogar. <br>\n",
        "<br>\n",
        "* Valor Z crítico: <br>\n",
        "Sea $ z_{\\frac{\\alpha}{2}} $ el valor $ z_{critico} $ que deja un área de $ \\frac{\\alpha}{2} $ a derecha y un área de $ \\frac{\\alpha}{2} $ a izquierda. La hipótesis nula se rechazará si: <br>\n",
        "$ Z < -z_{\\frac{\\alpha}{2}} $ o $ Z > z_{\\frac{\\alpha}{2}} $\n",
        "<br>\n",
        "\n",
        "* INTERVALO DE CONFIANZA: <br>\n",
        "$ (p̂_{i} - p̂_{j}) - z_{\\frac{\\alpha}{2}}\\sqrt{\\frac{p̂_{i}(1-p̂_{i})}{n_{i}} + \\frac{p̂_{j}(1-p̂_{j})}{n_{j}}} $ , $ (p̂_{i} - p̂_{j}) + z_{\\frac{\\alpha}{2}}\\sqrt{\\frac{p̂_{i}(1-p̂_{i})}{n_{i}} + \\frac{p̂_{j}(1-p̂_{j})}{n_{j}}} $ <br>\n",
        "Utilizaremos un nivel de confianza del 95% (es decir, un nivel de significancia $ \\alpha $ del 5%). <br>\n",
        "<br>\n",
        "* Interpretación del intervalo de confianza: <br>\n",
        "Si para alguna combinación $i,j$ el 0 está contenido dentro del intervalo, entonces podremos afirmar con un 95% de confianza que existen diferencias significativas entre la proporción de personas que aceptaron la membresía según si tienen niños o adolescentes viviendo en su hogar. Por el contrario, si el 0 no está contenido, entonces no podremos afirmar que existan diferencias significativas."
      ],
      "metadata": {
        "id": "f_Pkf1pfzdMV"
      }
    },
    {
      "cell_type": "markdown",
      "source": [
        "##### Estadístico muestral e intervalo de confianza"
      ],
      "metadata": {
        "id": "uLhRc1Ih2LQx"
      }
    },
    {
      "cell_type": "code",
      "source": [
        "n_has = df[df['Has_kids_or_teens'] == 'Yes'].shape[0]\n",
        "n_nohas = df[df['Has_kids_or_teens'] == 'No'].shape[0]\n",
        "\n",
        "p_has = df[np.logical_and(df['Response'] == 1, df['Has_kids_or_teens'] == 'Yes')].shape[0] / n_has\n",
        "p_nohas = df[np.logical_and(df['Response'] == 1, df['Has_kids_or_teens'] == 'No')].shape[0] / n_nohas"
      ],
      "metadata": {
        "id": "kuMMYsLc2bfP"
      },
      "execution_count": null,
      "outputs": []
    },
    {
      "cell_type": "markdown",
      "source": [
        "Cálculo del estadístico muestral $Z$"
      ],
      "metadata": {
        "id": "Z06rKwTj3JYW"
      }
    },
    {
      "cell_type": "code",
      "source": [
        "Zkt = (p_has - p_nohas)/math.sqrt((p_has*(1-p_has)/n_has) + (p_nohas*(1-p_nohas)/n_nohas))\n",
        "print(\"Z =\",Zkt)"
      ],
      "metadata": {
        "colab": {
          "base_uri": "https://localhost:8080/"
        },
        "id": "2M_AyTeq3gop",
        "outputId": "b771879c-d8fd-4b8b-98a5-3b7819341666"
      },
      "execution_count": null,
      "outputs": [
        {
          "output_type": "stream",
          "name": "stdout",
          "text": [
            "Z = -8.397733827994102\n"
          ]
        }
      ]
    },
    {
      "cell_type": "markdown",
      "source": [
        "Cálculo del $z_{critico}$"
      ],
      "metadata": {
        "id": "UABDZ-XL3HZM"
      }
    },
    {
      "cell_type": "code",
      "source": [
        "# Z-crítico\n",
        "alfa = 0.05\n",
        "z = stats.norm.ppf (q = 1-alfa/2)\n",
        "print(\"Z-crítico: \", z)"
      ],
      "metadata": {
        "colab": {
          "base_uri": "https://localhost:8080/"
        },
        "id": "zbKtjUG_7KCp",
        "outputId": "b9266b23-5161-4c4f-bf68-87e7fa10a36a"
      },
      "execution_count": null,
      "outputs": [
        {
          "output_type": "stream",
          "name": "stdout",
          "text": [
            "Z-crítico:  1.959963984540054\n"
          ]
        }
      ]
    },
    {
      "cell_type": "markdown",
      "source": [
        "Se observa que: <br> \n",
        "$Z = -8.398 < -z_{\\frac{\\alpha}{2}} = -1.960$ <br>\n",
        "por lo que tenemos evidencias suficientes para rechazar la hipótesis nula y, por consiguiente, afirmar que existen diferencias significativas entre la proporción de personas que conviven con niños o adolescentes y aceptaron la membresía, y la proporción de personas que también la aceptaron pero no conviven con niños o adolescentes en el hogar."
      ],
      "metadata": {
        "id": "kAR56GsM7Wf0"
      }
    },
    {
      "cell_type": "markdown",
      "source": [
        "Cálculo del intervalo de confianza"
      ],
      "metadata": {
        "id": "CkQ25Ms-8XXX"
      }
    },
    {
      "cell_type": "code",
      "source": [
        "ICkt = [(p_has - p_nohas - z*math.sqrt((p_has*(1-p_has)/n_has) + (p_nohas*(1-p_nohas)/n_nohas))), (p_has - p_nohas + z*math.sqrt((p_has*(1-p_has)/n_has) + (p_nohas*(1-p_nohas)/n_nohas)))]\n",
        "print(\"Intervalo de confianza del 95%:\",ICkt)"
      ],
      "metadata": {
        "colab": {
          "base_uri": "https://localhost:8080/"
        },
        "id": "7tZKjLz28dhK",
        "outputId": "42ceec94-e558-4e49-9023-9c6d78db0b8f"
      },
      "execution_count": null,
      "outputs": [
        {
          "output_type": "stream",
          "name": "stdout",
          "text": [
            "Intervalo de confianza del 95%: [-0.19848663817345677, -0.12336827320983798]\n"
          ]
        }
      ]
    },
    {
      "cell_type": "markdown",
      "source": [
        "Observamos que el intervalo de confianza no contiene al 0 por lo que, nuevamente, se tiene evidencia suficiente para rechazar la hipótesis nula y afirmar que existen diferencias significativas entre ambas proporciones."
      ],
      "metadata": {
        "id": "kCOAdo5G9Ay3"
      }
    },
    {
      "cell_type": "markdown",
      "source": [
        "#### ¿Es la cantidad total gastada en la compra de productos en los últimos dos años un factor influyente en la decisión de aceptar la membresía?"
      ],
      "metadata": {
        "id": "-UwaKhABYEpY"
      }
    },
    {
      "cell_type": "markdown",
      "source": [
        "Para responder esta pregunta debemos evaluar si existen diferencias significativas entre la media de la cantidad todal de lo que las personas que aceptaron la membresía gastaron en los últimos 2 años y la media de la cantidad total de lo que las personas que no la aceptaron gastaron en los últimos 2 años. Así nuestra variable respuesta será `Response` y nuestra variable predictora será `MntTotal`, una columna auxiliar que se creará combinando los valores de `MntMeatProducts`, `MntFishProducts`, `MntSweetProducts`, `MntFruits`, `MntWines` y `MntGoldProds`.<br>\n",
        "<br>\n",
        "* Parámetro poblacional de interés: <br>\n",
        "$ \\mu_{1} - \\mu_{2} $ <br>\n",
        "donde: <br>\n",
        "$ \\mu_{1} $ : media de la cantidad total gastada en productos en los últimos dos años por las personas que no aceptaron la membresía. <br>\n",
        "$ \\mu_{2} $ : media de la cantidad total gastada en productos en los últimos dos años por las personas que aceptaron la membresía. <br>\n",
        "<br>\n",
        "* HIPÓTESIS: <br>\n",
        "$ H_{0}: \\mu_{0} - \\mu_{1} = 0 $ <br>\n",
        "$ H_{1}: \\mu_{0} - \\mu_{1} ≠ 0 $ <br>\n",
        "<br>\n",
        "* Estadístico muestral para realizar la estimación: <br>\n",
        "$ T = \\frac{x̄_{1} - x̄_{2}}{\\sqrt{\\frac{s^{2}_{1}}{n_{1}} + \\frac{s^{2}_{2}}{n_{1}}}} $ <br>\n",
        "donde: <br>\n",
        "$ x̄_{1} $ : media muestral de la cantidad total gastada en productos en los últimos dos años por las personas que no aceptaron la membresía. <br>\n",
        "$ x̄_{2} $ : media muestral de la cantidad total gastada en productos en los últimos dos años por las personas que aceptaron la membresía. <br>\n",
        "$ s_{1} $ : desvío estándar muestral de la cantidad total gastada en productos en los últimos dos años por las personas que no aceptaron la membresía. <br>\n",
        "$ s_{2} $ : desvío estándar muestral de la cantidad total gastada en productos en los últimos dos años por las personas que aceptaron la membresía. <br>\n",
        "$ n_{1} $ : tamaño de la muestra de la cantidad total gastada en productos en los últimos dos años por las personas que no aceptaron la membresía. <br>\n",
        "$ n_{2} $ : tamaño de la muestra de la cantidad total gastada en productos en los últimos dos años por las personas que aceptaron la membresía. <br>\n",
        "<br>\n",
        "* Valor T crítico: <br>\n",
        "Sea $ t_{\\frac{\\alpha}{2},\\nu} $ el valor $ t_{critico} $ que deja un área de $ \\frac{\\alpha}{2} $ a derecha y un área de $ \\frac{\\alpha}{2} $ a izquierda con $ \\nu $ grados de libertad. La hipótesis nula se rechazará si: <br>\n",
        "$ T < -t_{\\frac{\\alpha}{2},\\nu} $ o $ T > t_{\\frac{\\alpha}{2},\\nu} $\n",
        "<br>\n",
        "\n",
        "* INTERVALO DE CONFIANZA: <br>\n",
        "$ (x̄_{1} - x̄_{2}) - t_{\\frac{\\alpha}{2},\\nu}\\sqrt{\\frac{s^{2}_{1}}{n_{1}} + \\frac{s^{2}_{2}}{n_{1}}} $ , $ (x̄_{1} - x̄_{2}) + t_{\\frac{\\alpha}{2},\\nu}\\sqrt{\\frac{s^{2}_{1}}{n_{1}} + \\frac{s^{2}_{2}}{n_{1}}} $ <br>\n",
        "Utilizaremos un nivel de confianza del 95% (es decir, un nivel de significancia $ \\alpha $ del 5%). <br>\n",
        "<br>\n",
        "* Interpretación del intervalo de confianza: <br>\n",
        "Si el 0 está contenido dentro del intervalo, entonces podremos afirmar con un 95% de confianza que existen diferencias significativas entre las medias de las cantidades totales gastadas en productos de quienes aceptaron la membresía y quienes no lo hicieron. Por el contrario, si el 0 no está contenido, entonces no podremos afirmar que existan diferencias significativas."
      ],
      "metadata": {
        "id": "55L5AaK1Yw4d"
      }
    },
    {
      "cell_type": "markdown",
      "source": [
        "##### Estadístico muestral e intervalo de confianza"
      ],
      "metadata": {
        "id": "5pzIp4-T1Q-m"
      }
    },
    {
      "cell_type": "markdown",
      "source": [
        "Cálculo del estadístico muestral $T$"
      ],
      "metadata": {
        "id": "8Z7bPpA_1T8k"
      }
    },
    {
      "cell_type": "code",
      "source": [
        "total_no = df[df['Response'] == 0]['MntTotal']\n",
        "total_si = df[df['Response'] == 1]['MntTotal']\n",
        "\n",
        "xx_1 = total_no.mean()\n",
        "xx_2 = total_si.mean()\n",
        "ss_1 = total_no.std()\n",
        "ss_2 = total_si.std()\n",
        "nn_1 = total_no.size\n",
        "nn_2 = total_si.size\n",
        "\n",
        "T = (xx_1 - xx_2)/math.sqrt(ss_1**2/nn_1 + ss_2**2/nn_2)\n",
        "print(\"T =\", T)"
      ],
      "metadata": {
        "id": "35CdWVG-1WaC",
        "colab": {
          "base_uri": "https://localhost:8080/"
        },
        "outputId": "215fb4fa-345b-4647-fbe8-652298caadaf"
      },
      "execution_count": null,
      "outputs": [
        {
          "output_type": "stream",
          "name": "stdout",
          "text": [
            "T = -10.73393766300523\n"
          ]
        }
      ]
    },
    {
      "cell_type": "markdown",
      "source": [
        "Luego, para poder calcular nuestro valor $ t_{critico} $ necesitamos saber si las varianzas de nuestras muestras son iguales o diferentes, ya que los grados de libertad son muy sensibles a ello. Para esto utilizaremos el test de Levene. Si el p-valor obtenido es mayor a 0.05 podremos suponer que las varianzas de ambas muestras son iguales, mientras que si es menor supondremos que las mismas son diferentes."
      ],
      "metadata": {
        "id": "O6_ebi16Mjd5"
      }
    },
    {
      "cell_type": "code",
      "source": [
        "# Test de levene para evaluar si las varianzas son iguales o no\n",
        "print(\"p-valor =\", stats.levene(resp_no, resp_si)[1])"
      ],
      "metadata": {
        "colab": {
          "base_uri": "https://localhost:8080/"
        },
        "id": "knAnV7_MMoNE",
        "outputId": "cd3a9983-cb1c-4c5f-ce34-1599387888ee"
      },
      "execution_count": null,
      "outputs": [
        {
          "output_type": "stream",
          "name": "stdout",
          "text": [
            "p-valor = 0.011913056418450437\n"
          ]
        }
      ]
    },
    {
      "cell_type": "markdown",
      "source": [
        "Como nuestro p-valor es de 0.000038 aproximadamente, supondremos que las varianzas de las muestras son diferentes. Así, los grados de libertad estarán dados por: <br>\n",
        "$ \\nu = \\frac{(\\frac{s^{2}_{1}}{n_{1}} + \\frac{s^{2}_{2}}{n_{2}})^2}{\\frac{(\\frac{s^{2}_{1}}{n_{1}})^{2}}{n_{1} - 1} + \\frac{(\\frac{s^{2}_{2}}{n_{2}})^{2}}{n_{2} - 1}} $ <br>\n",
        "Habiendo obtenido esto, podremos calcular el $t_{critico}$. "
      ],
      "metadata": {
        "id": "-2j956e_MzlK"
      }
    },
    {
      "cell_type": "code",
      "source": [
        "# Grados de libertad\n",
        "gll = ((ss_1**2/nn_1) + (ss_2**2/nn_2))**2/(((ss_1**2/nn_1)**2)/(nn_1 - 1) + ((ss_2**2/nn_2)**2)/(nn_2 - 1))\n",
        "\n",
        "# T crítico\n",
        "alfa = 0.05\n",
        "tt = stats.t.ppf (q = 1-alfa/2, df = gll)\n",
        "print(\"T-crítico: \", t)"
      ],
      "metadata": {
        "colab": {
          "base_uri": "https://localhost:8080/"
        },
        "id": "SEGUoVSsM-u4",
        "outputId": "f4ee981e-5af6-4a16-b738-19cce413f099"
      },
      "execution_count": null,
      "outputs": [
        {
          "output_type": "stream",
          "name": "stdout",
          "text": [
            "T-crítico:  1.964939198427694\n"
          ]
        }
      ]
    },
    {
      "cell_type": "markdown",
      "source": [
        "En este punto ya podemos observar que se cumple: <br>\n",
        "$ T = -10.734 < -t_{\\frac{\\alpha}{2},\\nu} = -1.966 $ , <br>\n",
        "por lo que tenemos evidencias para rechazar la hipótesis nula y afirmar que existen diferencias significativas entre la media de la totalidad gastada en productos en los últimos 2 años de las personas que aceptaron la membresía, y la media de las personas que no lo hicieron."
      ],
      "metadata": {
        "id": "Pthi3OYgNTBM"
      }
    },
    {
      "cell_type": "markdown",
      "source": [
        "Cálculo del intervalo de confianza"
      ],
      "metadata": {
        "id": "QX9uqKSgNqDD"
      }
    },
    {
      "cell_type": "code",
      "source": [
        "ICC = [xx_1 - xx_2 - tt * math.sqrt((ss_1**2/nn_1) + (ss_2**2/nn_2)), xx_1 - xx_2 + t * math.sqrt((ss_1**2/nn_1) + (ss_2**2/nn_2))]\n",
        "print(\"Intervalo de confianza:\", ICC)"
      ],
      "metadata": {
        "colab": {
          "base_uri": "https://localhost:8080/"
        },
        "id": "lfXm9cCkN6Ar",
        "outputId": "d4dbf568-7eeb-4296-c639-325d7762236e"
      },
      "execution_count": null,
      "outputs": [
        {
          "output_type": "stream",
          "name": "stdout",
          "text": [
            "Intervalo de confianza: [-528.6420003529346, -365.01756838545066]\n"
          ]
        }
      ]
    },
    {
      "cell_type": "markdown",
      "source": [
        "Observamos que el intervalo de confianza no contiene al 0, por lo que nuevamente tenemos evidencia para descartar la hipótesis nula. Además, todos los valores del intervalo son negativos, lo que indica que la media de la cantidad total gastada en productos en los últimos 2 años de las personas que aceptaron la membresía es mayor que las personas que no lo hicieron."
      ],
      "metadata": {
        "id": "wEAMtLZnOQQF"
      }
    },
    {
      "cell_type": "markdown",
      "source": [
        "### *Conclusiones*"
      ],
      "metadata": {
        "id": "cVTocMDmSTAX"
      }
    },
    {
      "cell_type": "markdown",
      "source": [
        "De todo lo anteriormente analizado hemos podido constatar que existen factores relacionados significativamente con la decisión de aceptar o rechazar la membresía. Así podemos concluir que la probabilidad de aceptar la membresía aumenta de una persona a otra conforme se presenta al menos una de las siguientes situaciones: <br>\n",
        "- aumento en el salario anual\n",
        "- aumento en el nivel educativo\n",
        "- aumento en el monto total gastado en productos durante los últimos 2 años\n",
        "- no está en pareja\n",
        "- no convive con niños o adolescentes"
      ],
      "metadata": {
        "id": "KJWsgxc7SVp0"
      }
    }
  ]
}