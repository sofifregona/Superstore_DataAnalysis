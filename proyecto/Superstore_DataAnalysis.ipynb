{
  "cells": [
    {
      "cell_type": "markdown",
      "metadata": {
        "id": "T8pVlFvmNqJ2"
      },
      "source": [
        "# **Análisis de Superstore para campaña de marketing**"
      ]
    },
    {
      "cell_type": "markdown",
      "metadata": {
        "id": "uk2axUT6NkGX"
      },
      "source": [
        "  ## **Abstract**\n"
      ]
    },
    {
      "cell_type": "markdown",
      "metadata": {
        "id": "6GP6_U4VLVMJ"
      },
      "source": [
        "Con el advenimiento del aprendizaje automático y la inteligencia artificial, son cada vez más las compañías que buscan incorporar estos campos a la planeación empresarial para poder lograr una mayor eficiencia en la toma de decisiones estratégicas. Las tiendas no son una excepción a ello y, con el paso de los años, han comenzado a incorporar dichas tecnologías para predecir el comportamiento de sus clientes y, de esta manera, enfocar sus campañas de Marketing hacia la dirección más oportuna. <br>\n",
        "<br>\n",
        "El presente trabajo está destinado al departamento de Marketing de la compañía 'Superstore!', el cual pretende predecir el comportamiento de sus clientes. Asimismo, éste se encuentra a disposición de todo el público que pudiera tener interés en él. Los datos han sido relevados y puestos a disposición por parte de la compañía."
      ]
    },
    {
      "cell_type": "markdown",
      "metadata": {
        "id": "USwBmlNCwESU"
      },
      "source": [
        "### *Contexto*"
      ]
    },
    {
      "cell_type": "markdown",
      "metadata": {
        "id": "CSaDqS9DOQoU"
      },
      "source": [
        "La superstore 'Supercompras!' está planeando otorgar membresías doradas de 200 USD con descuentos especiales para sus clientes. La campaña se realizará a través de llamadas telefónicas y sólo a usuarios que ya sean clientes de la empresa. Para poder minimizar los costos de la campaña se pretende realizar un modelo predictivo para seleccionar aquellos clientes que tienen mayor probabilidad de aceptar la oferta.\n"
      ]
    },
    {
      "cell_type": "markdown",
      "metadata": {
        "id": "Z8-jF0E3OXXn"
      },
      "source": [
        "### *Objetivo*"
      ]
    },
    {
      "cell_type": "markdown",
      "metadata": {
        "id": "7ljOkRNkObcD"
      },
      "source": [
        "El objetivo del presente análisis es descubrir si existen factores que se relacionen con la decisión de aceptar la membresía por parte de los clientes y, en caso de ser afirmativo, descubrir cuáles son dichos factores y en qué medida cada uno de ellos contribuye a la decisión final. De esta manera se pretende poder predecir el comportamiento futuro de los clientes para, así, enfocar las campañas de marketing en aquellos a los que se les asocie una mayor probabilidad de aceptar la membresía."
      ]
    },
    {
      "cell_type": "markdown",
      "metadata": {
        "id": "cH2RX0gQNoVX"
      },
      "source": [
        "## **Desarrollo**"
      ]
    },
    {
      "cell_type": "markdown",
      "metadata": {
        "id": "jEwPPkhuxFlc"
      },
      "source": [
        "### *Variables*"
      ]
    },
    {
      "cell_type": "markdown",
      "metadata": {
        "id": "xGjCJ-WROKTd"
      },
      "source": [
        "* `Response` (objetivo) - 1 si el cliente aceptó la oferta de la campaña, 0 si no.\n",
        "* `ID` - Identificador único del cliente.\n",
        "* `Year_Birth` - Edad.\n",
        "* `Complain` - 1 si el cliente realizó alguna queja en los últimos 2 años, 0 si no.\n",
        "* `Dt_Customer` - Fecha de inscripción del cliente a la compañía.\n",
        "* `Education` - Nivel de educación.\n",
        "* `Marital_Status` - Estado civil.\n",
        "* `Kidhome` - Número de niños en el hogar.\n",
        "* `Teenhome` - Número de adolescentes en el hogar.\n",
        "* `Income` - Salario anual.\n",
        "* `MntFishProducts` - Cantidad gastada en pescados en los últimos 2 años.\n",
        "* `MntMeatProducts` - Cantidad gastada en carnes en los últimos 2 años.\n",
        "* `MntFruits` - Cantidad gastada en frutas en los últimos 2 años.\n",
        "* `MntSweetProducts` - Cantidad gastada en productos con azúcares en los últimos 2 años.\n",
        "* `MntWines` - Cantidad gastada en vinos en los últimos 2 años.\n",
        "* `MntGoldProds` - Cantidad gastada en productos de oro en los últimos 2 años.\n",
        "* `NumDealsPurchases` - Número de compras con descuento realizadas.\n",
        "* `NumCatalogPurchases` - Número de compras realizadas por catálogo (comprar productos para ser enviados por correo).\n",
        "* `NumStorePurchases` - Número de compras realizadas directamente en la tienda.\n",
        "* `NumWebPurchases` - Número de compras realizadas a través del sitio web de la compañía.\n",
        "* `NumWebVisitsMonth` - Número de visitas al sitio web de la compañía en el último mes.\n",
        "* `Recency` - Número de días desde la última compra."
      ]
    },
    {
      "cell_type": "markdown",
      "metadata": {
        "id": "k0AiCiFhMI6h"
      },
      "source": [
        "### *Importación del dataset*"
      ]
    },
    {
      "cell_type": "code",
      "execution_count": 2,
      "metadata": {
        "colab": {
          "base_uri": "https://localhost:8080/"
        },
        "id": "3agqS7yrv6mL",
        "outputId": "1ef1ea87-45fb-4eea-e167-9f08b63e0002"
      },
      "outputs": [],
      "source": [
        "import pandas as pd\n",
        "import numpy as np\n",
        "import matplotlib.pyplot as plt\n",
        "import pingouin as pg\n",
        "import seaborn as sns\n",
        "import math\n",
        "from scipy import stats"
      ]
    },
    {
      "cell_type": "code",
      "execution_count": 3,
      "metadata": {
        "colab": {
          "base_uri": "https://localhost:8080/",
          "height": 300
        },
        "id": "WOSLICxfw9F0",
        "outputId": "a9676970-9ac0-4180-8aa8-aa0f9685bffe"
      },
      "outputs": [
        {
          "data": {
            "text/html": [
              "<div>\n",
              "<style scoped>\n",
              "    .dataframe tbody tr th:only-of-type {\n",
              "        vertical-align: middle;\n",
              "    }\n",
              "\n",
              "    .dataframe tbody tr th {\n",
              "        vertical-align: top;\n",
              "    }\n",
              "\n",
              "    .dataframe thead th {\n",
              "        text-align: right;\n",
              "    }\n",
              "</style>\n",
              "<table border=\"1\" class=\"dataframe\">\n",
              "  <thead>\n",
              "    <tr style=\"text-align: right;\">\n",
              "      <th></th>\n",
              "      <th>Id</th>\n",
              "      <th>Year_Birth</th>\n",
              "      <th>Education</th>\n",
              "      <th>Marital_Status</th>\n",
              "      <th>Income</th>\n",
              "      <th>Kidhome</th>\n",
              "      <th>Teenhome</th>\n",
              "      <th>Dt_Customer</th>\n",
              "      <th>Recency</th>\n",
              "      <th>MntWines</th>\n",
              "      <th>...</th>\n",
              "      <th>MntFishProducts</th>\n",
              "      <th>MntSweetProducts</th>\n",
              "      <th>MntGoldProds</th>\n",
              "      <th>NumDealsPurchases</th>\n",
              "      <th>NumWebPurchases</th>\n",
              "      <th>NumCatalogPurchases</th>\n",
              "      <th>NumStorePurchases</th>\n",
              "      <th>NumWebVisitsMonth</th>\n",
              "      <th>Response</th>\n",
              "      <th>Complain</th>\n",
              "    </tr>\n",
              "  </thead>\n",
              "  <tbody>\n",
              "    <tr>\n",
              "      <th>0</th>\n",
              "      <td>1826</td>\n",
              "      <td>1970</td>\n",
              "      <td>Graduation</td>\n",
              "      <td>Divorced</td>\n",
              "      <td>84835.0</td>\n",
              "      <td>0</td>\n",
              "      <td>0</td>\n",
              "      <td>6/16/2014</td>\n",
              "      <td>0</td>\n",
              "      <td>189</td>\n",
              "      <td>...</td>\n",
              "      <td>111</td>\n",
              "      <td>189</td>\n",
              "      <td>218</td>\n",
              "      <td>1</td>\n",
              "      <td>4</td>\n",
              "      <td>4</td>\n",
              "      <td>6</td>\n",
              "      <td>1</td>\n",
              "      <td>1</td>\n",
              "      <td>0</td>\n",
              "    </tr>\n",
              "    <tr>\n",
              "      <th>1</th>\n",
              "      <td>1</td>\n",
              "      <td>1961</td>\n",
              "      <td>Graduation</td>\n",
              "      <td>Single</td>\n",
              "      <td>57091.0</td>\n",
              "      <td>0</td>\n",
              "      <td>0</td>\n",
              "      <td>6/15/2014</td>\n",
              "      <td>0</td>\n",
              "      <td>464</td>\n",
              "      <td>...</td>\n",
              "      <td>7</td>\n",
              "      <td>0</td>\n",
              "      <td>37</td>\n",
              "      <td>1</td>\n",
              "      <td>7</td>\n",
              "      <td>3</td>\n",
              "      <td>7</td>\n",
              "      <td>5</td>\n",
              "      <td>1</td>\n",
              "      <td>0</td>\n",
              "    </tr>\n",
              "    <tr>\n",
              "      <th>2</th>\n",
              "      <td>10476</td>\n",
              "      <td>1958</td>\n",
              "      <td>Graduation</td>\n",
              "      <td>Married</td>\n",
              "      <td>67267.0</td>\n",
              "      <td>0</td>\n",
              "      <td>1</td>\n",
              "      <td>5/13/2014</td>\n",
              "      <td>0</td>\n",
              "      <td>134</td>\n",
              "      <td>...</td>\n",
              "      <td>15</td>\n",
              "      <td>2</td>\n",
              "      <td>30</td>\n",
              "      <td>1</td>\n",
              "      <td>3</td>\n",
              "      <td>2</td>\n",
              "      <td>5</td>\n",
              "      <td>2</td>\n",
              "      <td>0</td>\n",
              "      <td>0</td>\n",
              "    </tr>\n",
              "    <tr>\n",
              "      <th>3</th>\n",
              "      <td>1386</td>\n",
              "      <td>1967</td>\n",
              "      <td>Graduation</td>\n",
              "      <td>Together</td>\n",
              "      <td>32474.0</td>\n",
              "      <td>1</td>\n",
              "      <td>1</td>\n",
              "      <td>11/5/2014</td>\n",
              "      <td>0</td>\n",
              "      <td>10</td>\n",
              "      <td>...</td>\n",
              "      <td>0</td>\n",
              "      <td>0</td>\n",
              "      <td>0</td>\n",
              "      <td>1</td>\n",
              "      <td>1</td>\n",
              "      <td>0</td>\n",
              "      <td>2</td>\n",
              "      <td>7</td>\n",
              "      <td>0</td>\n",
              "      <td>0</td>\n",
              "    </tr>\n",
              "    <tr>\n",
              "      <th>4</th>\n",
              "      <td>5371</td>\n",
              "      <td>1989</td>\n",
              "      <td>Graduation</td>\n",
              "      <td>Single</td>\n",
              "      <td>21474.0</td>\n",
              "      <td>1</td>\n",
              "      <td>0</td>\n",
              "      <td>8/4/2014</td>\n",
              "      <td>0</td>\n",
              "      <td>6</td>\n",
              "      <td>...</td>\n",
              "      <td>11</td>\n",
              "      <td>0</td>\n",
              "      <td>34</td>\n",
              "      <td>2</td>\n",
              "      <td>3</td>\n",
              "      <td>1</td>\n",
              "      <td>2</td>\n",
              "      <td>7</td>\n",
              "      <td>1</td>\n",
              "      <td>0</td>\n",
              "    </tr>\n",
              "  </tbody>\n",
              "</table>\n",
              "<p>5 rows × 22 columns</p>\n",
              "</div>"
            ],
            "text/plain": [
              "      Id  Year_Birth   Education Marital_Status   Income  Kidhome  Teenhome  \\\n",
              "0   1826        1970  Graduation       Divorced  84835.0        0         0   \n",
              "1      1        1961  Graduation         Single  57091.0        0         0   \n",
              "2  10476        1958  Graduation        Married  67267.0        0         1   \n",
              "3   1386        1967  Graduation       Together  32474.0        1         1   \n",
              "4   5371        1989  Graduation         Single  21474.0        1         0   \n",
              "\n",
              "  Dt_Customer  Recency  MntWines  ...  MntFishProducts  MntSweetProducts  \\\n",
              "0   6/16/2014        0       189  ...              111               189   \n",
              "1   6/15/2014        0       464  ...                7                 0   \n",
              "2   5/13/2014        0       134  ...               15                 2   \n",
              "3   11/5/2014        0        10  ...                0                 0   \n",
              "4    8/4/2014        0         6  ...               11                 0   \n",
              "\n",
              "   MntGoldProds  NumDealsPurchases  NumWebPurchases  NumCatalogPurchases  \\\n",
              "0           218                  1                4                    4   \n",
              "1            37                  1                7                    3   \n",
              "2            30                  1                3                    2   \n",
              "3             0                  1                1                    0   \n",
              "4            34                  2                3                    1   \n",
              "\n",
              "   NumStorePurchases  NumWebVisitsMonth  Response  Complain  \n",
              "0                  6                  1         1         0  \n",
              "1                  7                  5         1         0  \n",
              "2                  5                  2         0         0  \n",
              "3                  2                  7         0         0  \n",
              "4                  2                  7         1         0  \n",
              "\n",
              "[5 rows x 22 columns]"
            ]
          },
          "execution_count": 3,
          "metadata": {},
          "output_type": "execute_result"
        }
      ],
      "source": [
        "df = pd.read_csv(\"superstore_data.csv\", sep=',')\n",
        "df.head(5)"
      ]
    },
    {
      "cell_type": "markdown",
      "metadata": {
        "id": "aiFll5zbLjvo"
      },
      "source": [
        "### *Extracción, transformación y limpieza de datos*"
      ]
    },
    {
      "cell_type": "markdown",
      "metadata": {
        "id": "VdlChUMr20qU"
      },
      "source": [
        "##### Datos faltantes\n",
        "\n"
      ]
    },
    {
      "cell_type": "markdown",
      "metadata": {
        "id": "scDRmG-3gnbU"
      },
      "source": [
        "Se tomó la decisión de eliminar aquellas entradas que contenían al menos un dato faltante."
      ]
    },
    {
      "cell_type": "code",
      "execution_count": 4,
      "metadata": {
        "colab": {
          "base_uri": "https://localhost:8080/",
          "height": 0
        },
        "id": "7bUXoQSk2RzH",
        "outputId": "65346115-f951-4921-857c-9a45974d963f"
      },
      "outputs": [
        {
          "data": {
            "text/html": [
              "<div>\n",
              "<style scoped>\n",
              "    .dataframe tbody tr th:only-of-type {\n",
              "        vertical-align: middle;\n",
              "    }\n",
              "\n",
              "    .dataframe tbody tr th {\n",
              "        vertical-align: top;\n",
              "    }\n",
              "\n",
              "    .dataframe thead th {\n",
              "        text-align: right;\n",
              "    }\n",
              "</style>\n",
              "<table border=\"1\" class=\"dataframe\">\n",
              "  <thead>\n",
              "    <tr style=\"text-align: right;\">\n",
              "      <th></th>\n",
              "      <th>Id</th>\n",
              "      <th>Year_Birth</th>\n",
              "      <th>Education</th>\n",
              "      <th>Marital_Status</th>\n",
              "      <th>Income</th>\n",
              "      <th>Kidhome</th>\n",
              "      <th>Teenhome</th>\n",
              "      <th>Dt_Customer</th>\n",
              "      <th>Recency</th>\n",
              "      <th>MntWines</th>\n",
              "      <th>...</th>\n",
              "      <th>MntFishProducts</th>\n",
              "      <th>MntSweetProducts</th>\n",
              "      <th>MntGoldProds</th>\n",
              "      <th>NumDealsPurchases</th>\n",
              "      <th>NumWebPurchases</th>\n",
              "      <th>NumCatalogPurchases</th>\n",
              "      <th>NumStorePurchases</th>\n",
              "      <th>NumWebVisitsMonth</th>\n",
              "      <th>Response</th>\n",
              "      <th>Complain</th>\n",
              "    </tr>\n",
              "  </thead>\n",
              "  <tbody>\n",
              "    <tr>\n",
              "      <th>0</th>\n",
              "      <td>1826</td>\n",
              "      <td>1970</td>\n",
              "      <td>Graduation</td>\n",
              "      <td>Divorced</td>\n",
              "      <td>84835.0</td>\n",
              "      <td>0</td>\n",
              "      <td>0</td>\n",
              "      <td>6/16/2014</td>\n",
              "      <td>0</td>\n",
              "      <td>189</td>\n",
              "      <td>...</td>\n",
              "      <td>111</td>\n",
              "      <td>189</td>\n",
              "      <td>218</td>\n",
              "      <td>1</td>\n",
              "      <td>4</td>\n",
              "      <td>4</td>\n",
              "      <td>6</td>\n",
              "      <td>1</td>\n",
              "      <td>1</td>\n",
              "      <td>0</td>\n",
              "    </tr>\n",
              "    <tr>\n",
              "      <th>1</th>\n",
              "      <td>1</td>\n",
              "      <td>1961</td>\n",
              "      <td>Graduation</td>\n",
              "      <td>Single</td>\n",
              "      <td>57091.0</td>\n",
              "      <td>0</td>\n",
              "      <td>0</td>\n",
              "      <td>6/15/2014</td>\n",
              "      <td>0</td>\n",
              "      <td>464</td>\n",
              "      <td>...</td>\n",
              "      <td>7</td>\n",
              "      <td>0</td>\n",
              "      <td>37</td>\n",
              "      <td>1</td>\n",
              "      <td>7</td>\n",
              "      <td>3</td>\n",
              "      <td>7</td>\n",
              "      <td>5</td>\n",
              "      <td>1</td>\n",
              "      <td>0</td>\n",
              "    </tr>\n",
              "    <tr>\n",
              "      <th>2</th>\n",
              "      <td>10476</td>\n",
              "      <td>1958</td>\n",
              "      <td>Graduation</td>\n",
              "      <td>Married</td>\n",
              "      <td>67267.0</td>\n",
              "      <td>0</td>\n",
              "      <td>1</td>\n",
              "      <td>5/13/2014</td>\n",
              "      <td>0</td>\n",
              "      <td>134</td>\n",
              "      <td>...</td>\n",
              "      <td>15</td>\n",
              "      <td>2</td>\n",
              "      <td>30</td>\n",
              "      <td>1</td>\n",
              "      <td>3</td>\n",
              "      <td>2</td>\n",
              "      <td>5</td>\n",
              "      <td>2</td>\n",
              "      <td>0</td>\n",
              "      <td>0</td>\n",
              "    </tr>\n",
              "    <tr>\n",
              "      <th>3</th>\n",
              "      <td>1386</td>\n",
              "      <td>1967</td>\n",
              "      <td>Graduation</td>\n",
              "      <td>Together</td>\n",
              "      <td>32474.0</td>\n",
              "      <td>1</td>\n",
              "      <td>1</td>\n",
              "      <td>11/5/2014</td>\n",
              "      <td>0</td>\n",
              "      <td>10</td>\n",
              "      <td>...</td>\n",
              "      <td>0</td>\n",
              "      <td>0</td>\n",
              "      <td>0</td>\n",
              "      <td>1</td>\n",
              "      <td>1</td>\n",
              "      <td>0</td>\n",
              "      <td>2</td>\n",
              "      <td>7</td>\n",
              "      <td>0</td>\n",
              "      <td>0</td>\n",
              "    </tr>\n",
              "    <tr>\n",
              "      <th>4</th>\n",
              "      <td>5371</td>\n",
              "      <td>1989</td>\n",
              "      <td>Graduation</td>\n",
              "      <td>Single</td>\n",
              "      <td>21474.0</td>\n",
              "      <td>1</td>\n",
              "      <td>0</td>\n",
              "      <td>8/4/2014</td>\n",
              "      <td>0</td>\n",
              "      <td>6</td>\n",
              "      <td>...</td>\n",
              "      <td>11</td>\n",
              "      <td>0</td>\n",
              "      <td>34</td>\n",
              "      <td>2</td>\n",
              "      <td>3</td>\n",
              "      <td>1</td>\n",
              "      <td>2</td>\n",
              "      <td>7</td>\n",
              "      <td>1</td>\n",
              "      <td>0</td>\n",
              "    </tr>\n",
              "  </tbody>\n",
              "</table>\n",
              "<p>5 rows × 22 columns</p>\n",
              "</div>"
            ],
            "text/plain": [
              "      Id  Year_Birth   Education Marital_Status   Income  Kidhome  Teenhome  \\\n",
              "0   1826        1970  Graduation       Divorced  84835.0        0         0   \n",
              "1      1        1961  Graduation         Single  57091.0        0         0   \n",
              "2  10476        1958  Graduation        Married  67267.0        0         1   \n",
              "3   1386        1967  Graduation       Together  32474.0        1         1   \n",
              "4   5371        1989  Graduation         Single  21474.0        1         0   \n",
              "\n",
              "  Dt_Customer  Recency  MntWines  ...  MntFishProducts  MntSweetProducts  \\\n",
              "0   6/16/2014        0       189  ...              111               189   \n",
              "1   6/15/2014        0       464  ...                7                 0   \n",
              "2   5/13/2014        0       134  ...               15                 2   \n",
              "3   11/5/2014        0        10  ...                0                 0   \n",
              "4    8/4/2014        0         6  ...               11                 0   \n",
              "\n",
              "   MntGoldProds  NumDealsPurchases  NumWebPurchases  NumCatalogPurchases  \\\n",
              "0           218                  1                4                    4   \n",
              "1            37                  1                7                    3   \n",
              "2            30                  1                3                    2   \n",
              "3             0                  1                1                    0   \n",
              "4            34                  2                3                    1   \n",
              "\n",
              "   NumStorePurchases  NumWebVisitsMonth  Response  Complain  \n",
              "0                  6                  1         1         0  \n",
              "1                  7                  5         1         0  \n",
              "2                  5                  2         0         0  \n",
              "3                  2                  7         0         0  \n",
              "4                  2                  7         1         0  \n",
              "\n",
              "[5 rows x 22 columns]"
            ]
          },
          "execution_count": 4,
          "metadata": {},
          "output_type": "execute_result"
        }
      ],
      "source": [
        "df = df.dropna(how='any')\n",
        "df = df.reset_index(drop=True)\n",
        "df.head(5)"
      ]
    },
    {
      "cell_type": "markdown",
      "metadata": {
        "id": "ZNlvfGKxLyBs"
      },
      "source": [
        "##### Tipo de datos"
      ]
    },
    {
      "cell_type": "markdown",
      "metadata": {
        "id": "EtWVUNf5gwjd"
      },
      "source": [
        "Se verificó que el tipo de dato de cada campo sea coherente con lo que exhibe."
      ]
    },
    {
      "cell_type": "code",
      "execution_count": 5,
      "metadata": {
        "colab": {
          "base_uri": "https://localhost:8080/"
        },
        "id": "cVUtJu3iL4tb",
        "outputId": "3e18824b-4e2f-4f80-8260-0a2b8fe47b11"
      },
      "outputs": [
        {
          "data": {
            "text/plain": [
              "Id                       int64\n",
              "Year_Birth               int64\n",
              "Education               object\n",
              "Marital_Status          object\n",
              "Income                 float64\n",
              "Kidhome                  int64\n",
              "Teenhome                 int64\n",
              "Dt_Customer             object\n",
              "Recency                  int64\n",
              "MntWines                 int64\n",
              "MntFruits                int64\n",
              "MntMeatProducts          int64\n",
              "MntFishProducts          int64\n",
              "MntSweetProducts         int64\n",
              "MntGoldProds             int64\n",
              "NumDealsPurchases        int64\n",
              "NumWebPurchases          int64\n",
              "NumCatalogPurchases      int64\n",
              "NumStorePurchases        int64\n",
              "NumWebVisitsMonth        int64\n",
              "Response                 int64\n",
              "Complain                 int64\n",
              "dtype: object"
            ]
          },
          "execution_count": 5,
          "metadata": {},
          "output_type": "execute_result"
        }
      ],
      "source": [
        "df.dtypes"
      ]
    },
    {
      "cell_type": "markdown",
      "metadata": {
        "id": "IJDCo4CEMcUU"
      },
      "source": [
        "##### Estandarización de valores"
      ]
    },
    {
      "cell_type": "markdown",
      "metadata": {
        "id": "n23dOa52iJAS"
      },
      "source": [
        "Se estandarizaron aquellos valores que pertenecían a una misma categoría y se eliminaron los registros de aquellos otros que no podían incluirse en ninguna de estas por contener información incoherente."
      ]
    },
    {
      "cell_type": "code",
      "execution_count": 6,
      "metadata": {
        "colab": {
          "base_uri": "https://localhost:8080/"
        },
        "id": "_K50kThCMfME",
        "outputId": "460e95d2-83ee-45d6-9fb6-3ff678844fba"
      },
      "outputs": [
        {
          "data": {
            "text/plain": [
              "Married     857\n",
              "Together    573\n",
              "Single      471\n",
              "Divorced    232\n",
              "Widow        76\n",
              "Alone         3\n",
              "YOLO          2\n",
              "Absurd        2\n",
              "Name: Marital_Status, dtype: int64"
            ]
          },
          "execution_count": 6,
          "metadata": {},
          "output_type": "execute_result"
        }
      ],
      "source": [
        "df['Marital_Status'].value_counts()"
      ]
    },
    {
      "cell_type": "code",
      "execution_count": 7,
      "metadata": {
        "colab": {
          "base_uri": "https://localhost:8080/"
        },
        "id": "arD131DLM72I",
        "outputId": "3fec479e-a62d-45e1-c342-a5470ffc8d16"
      },
      "outputs": [
        {
          "data": {
            "text/plain": [
              "Graduation    1116\n",
              "PhD            481\n",
              "Master         365\n",
              "2n Cycle       200\n",
              "Basic           54\n",
              "Name: Education, dtype: int64"
            ]
          },
          "execution_count": 7,
          "metadata": {},
          "output_type": "execute_result"
        }
      ],
      "source": [
        "df['Education'].value_counts()"
      ]
    },
    {
      "cell_type": "code",
      "execution_count": 8,
      "metadata": {
        "colab": {
          "base_uri": "https://localhost:8080/",
          "height": 0
        },
        "id": "B_Q38scbPrcK",
        "outputId": "c1cf6957-f744-4548-90ab-6ce29a86e002"
      },
      "outputs": [
        {
          "name": "stderr",
          "output_type": "stream",
          "text": [
            "C:\\Users\\sofif\\AppData\\Local\\Temp\\ipykernel_15304\\575221230.py:6: SettingWithCopyWarning: \n",
            "A value is trying to be set on a copy of a slice from a DataFrame\n",
            "\n",
            "See the caveats in the documentation: https://pandas.pydata.org/pandas-docs/stable/user_guide/indexing.html#returning-a-view-versus-a-copy\n",
            "  df['Marital_Status'][i] = 'Single'\n"
          ]
        },
        {
          "data": {
            "text/html": [
              "<div>\n",
              "<style scoped>\n",
              "    .dataframe tbody tr th:only-of-type {\n",
              "        vertical-align: middle;\n",
              "    }\n",
              "\n",
              "    .dataframe tbody tr th {\n",
              "        vertical-align: top;\n",
              "    }\n",
              "\n",
              "    .dataframe thead th {\n",
              "        text-align: right;\n",
              "    }\n",
              "</style>\n",
              "<table border=\"1\" class=\"dataframe\">\n",
              "  <thead>\n",
              "    <tr style=\"text-align: right;\">\n",
              "      <th></th>\n",
              "      <th>Id</th>\n",
              "      <th>Year_Birth</th>\n",
              "      <th>Education</th>\n",
              "      <th>Marital_Status</th>\n",
              "      <th>Income</th>\n",
              "      <th>Kidhome</th>\n",
              "      <th>Teenhome</th>\n",
              "      <th>Dt_Customer</th>\n",
              "      <th>Recency</th>\n",
              "      <th>MntWines</th>\n",
              "      <th>...</th>\n",
              "      <th>MntFishProducts</th>\n",
              "      <th>MntSweetProducts</th>\n",
              "      <th>MntGoldProds</th>\n",
              "      <th>NumDealsPurchases</th>\n",
              "      <th>NumWebPurchases</th>\n",
              "      <th>NumCatalogPurchases</th>\n",
              "      <th>NumStorePurchases</th>\n",
              "      <th>NumWebVisitsMonth</th>\n",
              "      <th>Response</th>\n",
              "      <th>Complain</th>\n",
              "    </tr>\n",
              "  </thead>\n",
              "  <tbody>\n",
              "    <tr>\n",
              "      <th>0</th>\n",
              "      <td>1826</td>\n",
              "      <td>1970</td>\n",
              "      <td>Graduation</td>\n",
              "      <td>Divorced</td>\n",
              "      <td>84835.0</td>\n",
              "      <td>0</td>\n",
              "      <td>0</td>\n",
              "      <td>6/16/2014</td>\n",
              "      <td>0</td>\n",
              "      <td>189</td>\n",
              "      <td>...</td>\n",
              "      <td>111</td>\n",
              "      <td>189</td>\n",
              "      <td>218</td>\n",
              "      <td>1</td>\n",
              "      <td>4</td>\n",
              "      <td>4</td>\n",
              "      <td>6</td>\n",
              "      <td>1</td>\n",
              "      <td>1</td>\n",
              "      <td>0</td>\n",
              "    </tr>\n",
              "    <tr>\n",
              "      <th>1</th>\n",
              "      <td>1</td>\n",
              "      <td>1961</td>\n",
              "      <td>Graduation</td>\n",
              "      <td>Single</td>\n",
              "      <td>57091.0</td>\n",
              "      <td>0</td>\n",
              "      <td>0</td>\n",
              "      <td>6/15/2014</td>\n",
              "      <td>0</td>\n",
              "      <td>464</td>\n",
              "      <td>...</td>\n",
              "      <td>7</td>\n",
              "      <td>0</td>\n",
              "      <td>37</td>\n",
              "      <td>1</td>\n",
              "      <td>7</td>\n",
              "      <td>3</td>\n",
              "      <td>7</td>\n",
              "      <td>5</td>\n",
              "      <td>1</td>\n",
              "      <td>0</td>\n",
              "    </tr>\n",
              "    <tr>\n",
              "      <th>2</th>\n",
              "      <td>10476</td>\n",
              "      <td>1958</td>\n",
              "      <td>Graduation</td>\n",
              "      <td>Married</td>\n",
              "      <td>67267.0</td>\n",
              "      <td>0</td>\n",
              "      <td>1</td>\n",
              "      <td>5/13/2014</td>\n",
              "      <td>0</td>\n",
              "      <td>134</td>\n",
              "      <td>...</td>\n",
              "      <td>15</td>\n",
              "      <td>2</td>\n",
              "      <td>30</td>\n",
              "      <td>1</td>\n",
              "      <td>3</td>\n",
              "      <td>2</td>\n",
              "      <td>5</td>\n",
              "      <td>2</td>\n",
              "      <td>0</td>\n",
              "      <td>0</td>\n",
              "    </tr>\n",
              "    <tr>\n",
              "      <th>3</th>\n",
              "      <td>1386</td>\n",
              "      <td>1967</td>\n",
              "      <td>Graduation</td>\n",
              "      <td>Together</td>\n",
              "      <td>32474.0</td>\n",
              "      <td>1</td>\n",
              "      <td>1</td>\n",
              "      <td>11/5/2014</td>\n",
              "      <td>0</td>\n",
              "      <td>10</td>\n",
              "      <td>...</td>\n",
              "      <td>0</td>\n",
              "      <td>0</td>\n",
              "      <td>0</td>\n",
              "      <td>1</td>\n",
              "      <td>1</td>\n",
              "      <td>0</td>\n",
              "      <td>2</td>\n",
              "      <td>7</td>\n",
              "      <td>0</td>\n",
              "      <td>0</td>\n",
              "    </tr>\n",
              "    <tr>\n",
              "      <th>4</th>\n",
              "      <td>5371</td>\n",
              "      <td>1989</td>\n",
              "      <td>Graduation</td>\n",
              "      <td>Single</td>\n",
              "      <td>21474.0</td>\n",
              "      <td>1</td>\n",
              "      <td>0</td>\n",
              "      <td>8/4/2014</td>\n",
              "      <td>0</td>\n",
              "      <td>6</td>\n",
              "      <td>...</td>\n",
              "      <td>11</td>\n",
              "      <td>0</td>\n",
              "      <td>34</td>\n",
              "      <td>2</td>\n",
              "      <td>3</td>\n",
              "      <td>1</td>\n",
              "      <td>2</td>\n",
              "      <td>7</td>\n",
              "      <td>1</td>\n",
              "      <td>0</td>\n",
              "    </tr>\n",
              "  </tbody>\n",
              "</table>\n",
              "<p>5 rows × 22 columns</p>\n",
              "</div>"
            ],
            "text/plain": [
              "      Id  Year_Birth   Education Marital_Status   Income  Kidhome  Teenhome  \\\n",
              "0   1826        1970  Graduation       Divorced  84835.0        0         0   \n",
              "1      1        1961  Graduation         Single  57091.0        0         0   \n",
              "2  10476        1958  Graduation        Married  67267.0        0         1   \n",
              "3   1386        1967  Graduation       Together  32474.0        1         1   \n",
              "4   5371        1989  Graduation         Single  21474.0        1         0   \n",
              "\n",
              "  Dt_Customer  Recency  MntWines  ...  MntFishProducts  MntSweetProducts  \\\n",
              "0   6/16/2014        0       189  ...              111               189   \n",
              "1   6/15/2014        0       464  ...                7                 0   \n",
              "2   5/13/2014        0       134  ...               15                 2   \n",
              "3   11/5/2014        0        10  ...                0                 0   \n",
              "4    8/4/2014        0         6  ...               11                 0   \n",
              "\n",
              "   MntGoldProds  NumDealsPurchases  NumWebPurchases  NumCatalogPurchases  \\\n",
              "0           218                  1                4                    4   \n",
              "1            37                  1                7                    3   \n",
              "2            30                  1                3                    2   \n",
              "3             0                  1                1                    0   \n",
              "4            34                  2                3                    1   \n",
              "\n",
              "   NumStorePurchases  NumWebVisitsMonth  Response  Complain  \n",
              "0                  6                  1         1         0  \n",
              "1                  7                  5         1         0  \n",
              "2                  5                  2         0         0  \n",
              "3                  2                  7         0         0  \n",
              "4                  2                  7         1         0  \n",
              "\n",
              "[5 rows x 22 columns]"
            ]
          },
          "execution_count": 8,
          "metadata": {},
          "output_type": "execute_result"
        }
      ],
      "source": [
        "for i in range(0, df.shape[0]):\n",
        "  status = df['Marital_Status'][i]\n",
        "  if status in ('YOLO', 'Absurd'):\n",
        "    df = df.drop(i)\n",
        "  elif status == 'Alone':\n",
        "    df['Marital_Status'][i] = 'Single'\n",
        "df = df.reset_index(drop=True)\n",
        "df.head(5)"
      ]
    },
    {
      "cell_type": "markdown",
      "metadata": {
        "id": "AjRnVPaTmxnZ"
      },
      "source": [
        "### *Análisis exploratorio de datos*"
      ]
    },
    {
      "cell_type": "markdown",
      "metadata": {
        "id": "M5AoYQTf3gmN"
      },
      "source": [
        "#### ¿Es el salario anual un factor influyente en la decisión de aceptar la membresía?"
      ]
    },
    {
      "cell_type": "markdown",
      "metadata": {
        "id": "BTPbNEw5KSFE"
      },
      "source": [
        "Para responder esta pregunta debemos evaluar si existen diferencias significativas entre la media salarial anual de las personas que aceptaron la membresía y la media salarial anual de las personas que no la aceptaron. Así nuestra variable respuesta será `Response` y nuestra variable predictora será `Income`.<br>\n",
        "<br>\n",
        "* Parámetro poblacional de interés: <br>\n",
        "$ \\mu_{1} - \\mu_{2} $ <br>\n",
        "donde: <br>\n",
        "$ \\mu_{1} $ : salario medio anual de las personas que no aceptaron la membresía. <br>\n",
        "$ \\mu_{2} $ : salario medio anual de las personas que aceptaron la membresía. <br>\n",
        "<br>\n",
        "* HIPÓTESIS: <br>\n",
        "$ H_{0}: \\mu_{0} - \\mu_{1} = 0 $ <br>\n",
        "$ H_{1}: \\mu_{0} - \\mu_{1} ≠ 0 $ <br>\n",
        "<br>\n",
        "* Estadístico muestral para realizar la estimación: <br>\n",
        "$ T = \\frac{x̄_{1} - x̄_{2}}{\\sqrt{\\frac{s^{2}_{1}}{n_{1}} + \\frac{s^{2}_{2}}{n_{1}}}} $ <br>\n",
        "donde: <br>\n",
        "$ x̄_{1} $ : media muestral del salario anual de las personas que no aceptaron la membresía. <br>\n",
        "$ x̄_{2} $ : media muestral del salario anual de las personas que aceptaron la membresía. <br>\n",
        "$ s_{1} $ : desvío estándar muestral del salario anual de las personas que no aceptaron la membresía. <br>\n",
        "$ s_{2} $ : desvío estándar muestral del salario anual de las personas que aceptaron la membresía. <br>\n",
        "$ n_{1} $ : tamaño de la muestra de los salarios anuales de las personas que no aceptaron la membresía. <br>\n",
        "$ n_{2} $ : tamaño de la muestra de los salarios anuales de las personas que no aceptaron la membresía. <br>\n",
        "<br>\n",
        "* Valor T crítico: <br>\n",
        "Sea $ t_{\\frac{\\alpha}{2},\\nu} $ el valor $ t_{critico} $ que deja un área de $ \\frac{\\alpha}{2} $ a derecha y un área de $ \\frac{\\alpha}{2} $ a izquierda con $ \\nu $ grados de libertad. La hipótesis nula se rechazará si: <br>\n",
        "$ T < -t_{\\frac{\\alpha}{2},\\nu} $ o $ T > t_{\\frac{\\alpha}{2},\\nu} $\n",
        "<br>\n",
        "\n",
        "* INTERVALO DE CONFIANZA: <br>\n",
        "$ (x̄_{1} - x̄_{2}) - t_{\\frac{\\alpha}{2},\\nu}\\sqrt{\\frac{s^{2}_{1}}{n_{1}} + \\frac{s^{2}_{2}}{n_{1}}} $ , $ (x̄_{1} - x̄_{2}) + t_{\\frac{\\alpha}{2},\\nu}\\sqrt{\\frac{s^{2}_{1}}{n_{1}} + \\frac{s^{2}_{2}}{n_{1}}} $ <br>\n",
        "Utilizaremos un nivel de confianza del 95% (es decir, un nivel de significancia $ \\alpha $ del 5%). <br>\n",
        "<br>\n",
        "* Interpretación del intervalo de confianza: <br>\n",
        "Si el 0 está contenido dentro del intervalo, entonces podremos afirmar con un 95% de confianza que existen diferencias significativas entre las medias de los salarios anuales de quienes aceptaron la membresía y quienes no lo hicieron. Por el contrario, si el 0 no está contenido, entonces no podremos afirmar que existan diferencias significativas.\n"
      ]
    },
    {
      "cell_type": "markdown",
      "metadata": {
        "id": "TwTO1USlLUYA"
      },
      "source": [
        "##### Resumen numérico y gráfico"
      ]
    },
    {
      "cell_type": "code",
      "execution_count": 9,
      "metadata": {
        "colab": {
          "base_uri": "https://localhost:8080/",
          "height": 143
        },
        "id": "-lsVShzDLbJZ",
        "outputId": "a6ab2e62-2196-42ec-fe5d-07e314aa6896"
      },
      "outputs": [
        {
          "data": {
            "text/html": [
              "<div>\n",
              "<style scoped>\n",
              "    .dataframe tbody tr th:only-of-type {\n",
              "        vertical-align: middle;\n",
              "    }\n",
              "\n",
              "    .dataframe tbody tr th {\n",
              "        vertical-align: top;\n",
              "    }\n",
              "\n",
              "    .dataframe thead th {\n",
              "        text-align: right;\n",
              "    }\n",
              "</style>\n",
              "<table border=\"1\" class=\"dataframe\">\n",
              "  <thead>\n",
              "    <tr style=\"text-align: right;\">\n",
              "      <th></th>\n",
              "      <th>count</th>\n",
              "      <th>mean</th>\n",
              "      <th>std</th>\n",
              "      <th>min</th>\n",
              "      <th>25%</th>\n",
              "      <th>50%</th>\n",
              "      <th>75%</th>\n",
              "      <th>max</th>\n",
              "    </tr>\n",
              "    <tr>\n",
              "      <th>Response</th>\n",
              "      <th></th>\n",
              "      <th></th>\n",
              "      <th></th>\n",
              "      <th></th>\n",
              "      <th></th>\n",
              "      <th></th>\n",
              "      <th></th>\n",
              "      <th></th>\n",
              "    </tr>\n",
              "  </thead>\n",
              "  <tbody>\n",
              "    <tr>\n",
              "      <th>0</th>\n",
              "      <td>1881.0</td>\n",
              "      <td>50832.625199</td>\n",
              "      <td>25263.913081</td>\n",
              "      <td>1730.0</td>\n",
              "      <td>34421.0</td>\n",
              "      <td>50150.0</td>\n",
              "      <td>66313.0</td>\n",
              "      <td>666666.0</td>\n",
              "    </tr>\n",
              "    <tr>\n",
              "      <th>1</th>\n",
              "      <td>331.0</td>\n",
              "      <td>60187.752266</td>\n",
              "      <td>23231.596312</td>\n",
              "      <td>7500.0</td>\n",
              "      <td>39723.5</td>\n",
              "      <td>64090.0</td>\n",
              "      <td>80676.0</td>\n",
              "      <td>105471.0</td>\n",
              "    </tr>\n",
              "  </tbody>\n",
              "</table>\n",
              "</div>"
            ],
            "text/plain": [
              "           count          mean           std     min      25%      50%  \\\n",
              "Response                                                                 \n",
              "0         1881.0  50832.625199  25263.913081  1730.0  34421.0  50150.0   \n",
              "1          331.0  60187.752266  23231.596312  7500.0  39723.5  64090.0   \n",
              "\n",
              "              75%       max  \n",
              "Response                     \n",
              "0         66313.0  666666.0  \n",
              "1         80676.0  105471.0  "
            ]
          },
          "execution_count": 9,
          "metadata": {},
          "output_type": "execute_result"
        }
      ],
      "source": [
        "df.groupby('Response')['Income'].describe()"
      ]
    },
    {
      "cell_type": "code",
      "execution_count": 10,
      "metadata": {
        "colab": {
          "base_uri": "https://localhost:8080/",
          "height": 296
        },
        "id": "8kCbleGq3Oea",
        "outputId": "43f23491-dec8-4eac-f34e-5bc193181f96"
      },
      "outputs": [
        {
          "data": {
            "text/plain": [
              "<AxesSubplot: xlabel='Response', ylabel='Income'>"
            ]
          },
          "execution_count": 10,
          "metadata": {},
          "output_type": "execute_result"
        },
        {
          "data": {
            "image/png": "[encoded data removed]",
            "text/plain": [
              "<Figure size 640x480 with 1 Axes>"
            ]
          },
          "metadata": {},
          "output_type": "display_data"
        }
      ],
      "source": [
        "sns.boxplot(x='Response', y='Income', data=df)"
      ]
    },
    {
      "cell_type": "code",
      "execution_count": 11,
      "metadata": {
        "colab": {
          "base_uri": "https://localhost:8080/",
          "height": 296
        },
        "id": "x0oCsErv2hoM",
        "outputId": "3cf3b3cf-0436-469c-e211-51aea3626e3d"
      },
      "outputs": [
        {
          "data": {
            "text/plain": [
              "<AxesSubplot: xlabel='Response', ylabel='Income'>"
            ]
          },
          "execution_count": 11,
          "metadata": {},
          "output_type": "execute_result"
        },
        {
          "data": {
            "image/png": "[encoded data removed]",
            "text/plain": [
              "<Figure size 640x480 with 1 Axes>"
            ]
          },
          "metadata": {},
          "output_type": "display_data"
        }
      ],
      "source": [
        "sns.boxplot(x='Response', y='Income', data=df, **{'showfliers': False})"
      ]
    },
    {
      "cell_type": "markdown",
      "metadata": {
        "id": "HicKR9Bm5LLW"
      },
      "source": [
        "Se observa que la mediana de los salarios anuales de las personas que decidieron aceptar la membresía es ligeramente superior a la mediana de los salarios anuales de las personas que no lo hicieron. La variabilidad es ligeramente superior en los casos de las personas que no aceptaron la membresía y, además, esta distribución presenta outliers."
      ]
    },
    {
      "cell_type": "markdown",
      "metadata": {
        "id": "GLjVJsAyYhyg"
      },
      "source": [
        "##### Estadístico muestral e intervalo de confianza"
      ]
    },
    {
      "cell_type": "markdown",
      "metadata": {
        "id": "kDkBIJB8cbsG"
      },
      "source": [
        "Cálculo del estadístico muestral $T$"
      ]
    },
    {
      "cell_type": "code",
      "execution_count": 12,
      "metadata": {
        "colab": {
          "base_uri": "https://localhost:8080/"
        },
        "id": "yb9Lsneicdts",
        "outputId": "da0ec735-e4f4-4418-857e-fa60f8618aa8"
      },
      "outputs": [
        {
          "name": "stdout",
          "output_type": "stream",
          "text": [
            "T = -6.6654935134618425\n"
          ]
        }
      ],
      "source": [
        "resp_no = df[df['Response'] == 0]['Income']\n",
        "resp_si = df[df['Response'] == 1]['Income']\n",
        "\n",
        "x_1 = resp_no.mean()\n",
        "x_2 = resp_si.mean()\n",
        "s_1 = resp_no.std()\n",
        "s_2 = resp_si.std()\n",
        "n_1 = resp_no.size\n",
        "n_2 = resp_si.size\n",
        "\n",
        "T = (x_1 - x_2)/math.sqrt(s_1**2/n_1 + s_2**2/n_2)\n",
        "print(\"T =\", T)"
      ]
    },
    {
      "cell_type": "markdown",
      "metadata": {
        "id": "oveD-eeBcCC3"
      },
      "source": [
        "Luego, para poder calcular nuestro valor $ t_{critico} $ necesitamos saber si las varianzas de nuestras muestras son iguales o diferentes, ya que los grados de libertad son muy sensibles a ello. Para esto utilizaremos el test de Levene. Si el p-valor obtenido es mayor a 0.05 podremos suponer que las varianzas de ambas muestras son iguales, mientras que si es menor supondremos que las mismas son diferentes."
      ]
    },
    {
      "cell_type": "code",
      "execution_count": 13,
      "metadata": {
        "colab": {
          "base_uri": "https://localhost:8080/"
        },
        "id": "miY0Ae7z15ci",
        "outputId": "415ef95c-e05d-49b1-d14e-18015d3e96c8"
      },
      "outputs": [
        {
          "name": "stdout",
          "output_type": "stream",
          "text": [
            "p-valor = 0.011913056418450437\n"
          ]
        }
      ],
      "source": [
        "# Test de levene para evaluar si las varianzas son iguales o no\n",
        "print(\"p-valor =\", stats.levene(resp_no, resp_si)[1])"
      ]
    },
    {
      "cell_type": "markdown",
      "metadata": {
        "id": "Gs9aDXl8M8wK"
      },
      "source": [
        "Como nuestro p-valor es de 0.012 aproximadamente, supondremos que las varianzas de las muestras son diferentes. Así, los grados de libertad estarán dados por: <br>\n",
        "$ \\nu = \\frac{(\\frac{s^{2}_{1}}{n_{1}} + \\frac{s^{2}_{2}}{n_{2}})^2}{\\frac{(\\frac{s^{2}_{1}}{n_{1}})^{2}}{n_{1} - 1} + \\frac{(\\frac{s^{2}_{2}}{n_{2}})^{2}}{n_{2} - 1}} $ <br>\n",
        "Habiendo obtenido esto, podremos calcular el $t_{critico}$. "
      ]
    },
    {
      "cell_type": "code",
      "execution_count": 14,
      "metadata": {
        "colab": {
          "base_uri": "https://localhost:8080/"
        },
        "id": "15-qdyCdQEbf",
        "outputId": "001f9361-5f73-4131-847e-f868499ca0d5"
      },
      "outputs": [
        {
          "name": "stdout",
          "output_type": "stream",
          "text": [
            "T-crítico:  1.964939198427694\n"
          ]
        }
      ],
      "source": [
        "# Grados de libertad\n",
        "gl = ((s_1**2/n_1) + (s_2**2/n_2))**2/(((s_1**2/n_1)**2)/(n_1 - 1) + ((s_2**2/n_2)**2)/(n_2 - 1))\n",
        "\n",
        "# T crítico\n",
        "alfa = 0.05\n",
        "t = stats.t.ppf (q = 1-alfa/2, df = gl)\n",
        "print(\"T-crítico: \", t)"
      ]
    },
    {
      "cell_type": "markdown",
      "metadata": {
        "id": "CTJogQCCeCqd"
      },
      "source": [
        "En este punto ya podemos observar que se cumple: <br>\n",
        "$ T = -6.665 < -t_{\\frac{\\alpha}{2},\\nu} = -1.965 $ , <br>\n",
        "por lo que tenemos evidencias para rechazar la hipótesis nula."
      ]
    },
    {
      "cell_type": "markdown",
      "metadata": {
        "id": "tZwVS4_TV00N"
      },
      "source": [
        "Cálculo del intervalo de confianza:"
      ]
    },
    {
      "cell_type": "code",
      "execution_count": 15,
      "metadata": {
        "colab": {
          "base_uri": "https://localhost:8080/"
        },
        "id": "zvAI8InuV3g5",
        "outputId": "9ec6c9a7-fe80-4658-a339-b9736bf9b75b"
      },
      "outputs": [
        {
          "name": "stdout",
          "output_type": "stream",
          "text": [
            "Intervalo de confianza: [-12112.95075083839, -6597.303382159582]\n"
          ]
        }
      ],
      "source": [
        "IC = [x_1 - x_2 - t * math.sqrt((s_1**2/n_1) + (s_2**2/n_2)), x_1 - x_2 + t * math.sqrt((s_1**2/n_1) + (s_2**2/n_2))]\n",
        "print(\"Intervalo de confianza:\", IC)"
      ]
    },
    {
      "cell_type": "markdown",
      "metadata": {
        "id": "zAUbd3STeu-N"
      },
      "source": [
        "Observamos que el intervalo de confianza no contiene al 0, por lo que nuevamente tenemos evidencia para descartar la hipótesis nula. Además, todos los valores del intervalo son negativos, lo que indica que la media del salario anual de las personas que aceptaron la membresía es mayor que la media del salario anual de las personas que no lo hicieron."
      ]
    },
    {
      "cell_type": "markdown",
      "metadata": {
        "id": "bhh9yTuXriQ1"
      },
      "source": [
        "#### ¿Es el nivel educativo un factor que influye en la decisión de aceptar la membresía?"
      ]
    },
    {
      "cell_type": "markdown",
      "metadata": {
        "id": "ubplYwbJqspI"
      },
      "source": [
        "Para responder esta pregunta debemos evaluar si existen diferencias significativas entre las proporciones de personas que aceptaron la membresía en función de su nivel educativo. Así nuestra variable respuesta será `Response` y nuestra variable predictora será `Education`.<br>\n",
        "<br>\n",
        "* Parámetro poblacional de interés: <br>\n",
        "$ p_{i} - p_{j} $ <br>\n",
        "donde: <br>\n",
        "$ p_{i} $ : proporción de personas con nivel educativo $ i $ que aceptaron la membresía sobre el total de personas con nivel educativo $ i $. <br>\n",
        "$ p_{j} $ : proporción de personas con nivel educativo $ j $ que aceptaron la membresía sobre el total de personas con nivel educativo $ j $. <br>\n",
        "siendo: <br>\n",
        "${i,j}$ : {Basic, 2n Cycle, Graduate, Master, PhD}<br>\n",
        "<br>\n",
        "* HIPÓTESIS: <br>\n",
        "$ H_{0}: p_{i} - p_{j} = 0 $ para algún $i,j$<br>\n",
        "$ H_{1}: p_{i} - p_{j} ≠ 0 $ para algún $i,j$<br>\n",
        "<br>\n",
        "* Estadístico muestral para realizar la estimación: <br>\n",
        "$ Z = \\frac{p̂_{i} - p̂_{j}}{\\sqrt{\\frac{p̂_{i}(1-p̂_{i})}{n_{i}} + \\frac{p̂_{j}(1-p̂_{j})}{n_{j}}}} $ <br>\n",
        "donde: <br>\n",
        "$ p̂_{i} $ : proporción muestral de personas con nivel educativo $i$ que aceptaron la membresía. <br>\n",
        "$ p̂_{j} $ : proporción muestral de personas con nivel educativo $j$ que aceptaron la membresía. <br>\n",
        "$ n_{i} $ : total de personas con nivel educativo $i$. <br>\n",
        "$ n_{j} $ : total de personas con nivel educativo $j$. <br>\n",
        "<br>\n",
        "* Valor Z crítico: <br>\n",
        "Sea $ z_{\\frac{\\alpha}{2}} $ el valor $ z_{critico} $ que deja un área de $ \\frac{\\alpha}{2} $ a derecha y un área de $ \\frac{\\alpha}{2} $ a izquierda. La hipótesis nula se rechazará si: <br>\n",
        "$ Z < -z_{\\frac{\\alpha}{2}} $ o $ Z > z_{\\frac{\\alpha}{2}} $\n",
        "<br>\n",
        "\n",
        "* INTERVALO DE CONFIANZA: <br>\n",
        "$ (p̂_{i} - p̂_{j}) - z_{\\frac{\\alpha}{2}}\\sqrt{\\frac{p̂_{i}(1-p̂_{i})}{n_{i}} + \\frac{p̂_{j}(1-p̂_{j})}{n_{j}}} $ , $ (p̂_{i} - p̂_{j}) + z_{\\frac{\\alpha}{2}}\\sqrt{\\frac{p̂_{i}(1-p̂_{i})}{n_{i}} + \\frac{p̂_{j}(1-p̂_{j})}{n_{j}}} $ <br>\n",
        "Utilizaremos un nivel de confianza del 95% (es decir, un nivel de significancia $ \\alpha $ del 5%). <br>\n",
        "<br>\n",
        "* Interpretación del intervalo de confianza: <br>\n",
        "Si para alguna combinación $i,j$ el 0 está contenido dentro del intervalo, entonces podremos afirmar con un 95% de confianza que existen diferencias significativas entre la proporción de personas que aceptaron la membresía según su nivel educativo. Por el contrario, si el 0 no está contenido, entonces no podremos afirmar que existan diferencias significativas."
      ]
    },
    {
      "cell_type": "markdown",
      "metadata": {
        "id": "Z9kzPxDHybk3"
      },
      "source": [
        "##### Resumen numérico y gráfico"
      ]
    },
    {
      "cell_type": "code",
      "execution_count": 16,
      "metadata": {
        "colab": {
          "base_uri": "https://localhost:8080/",
          "height": 238
        },
        "id": "fCCgvAuxpOlY",
        "outputId": "9a844e6c-16b0-4f93-80ef-65e3b967f8f5"
      },
      "outputs": [
        {
          "data": {
            "text/html": [
              "<div>\n",
              "<style scoped>\n",
              "    .dataframe tbody tr th:only-of-type {\n",
              "        vertical-align: middle;\n",
              "    }\n",
              "\n",
              "    .dataframe tbody tr th {\n",
              "        vertical-align: top;\n",
              "    }\n",
              "\n",
              "    .dataframe thead th {\n",
              "        text-align: right;\n",
              "    }\n",
              "</style>\n",
              "<table border=\"1\" class=\"dataframe\">\n",
              "  <thead>\n",
              "    <tr style=\"text-align: right;\">\n",
              "      <th>Response</th>\n",
              "      <th>0</th>\n",
              "      <th>1</th>\n",
              "    </tr>\n",
              "    <tr>\n",
              "      <th>Education</th>\n",
              "      <th></th>\n",
              "      <th></th>\n",
              "    </tr>\n",
              "  </thead>\n",
              "  <tbody>\n",
              "    <tr>\n",
              "      <th>2n Cycle</th>\n",
              "      <td>0.890000</td>\n",
              "      <td>0.110000</td>\n",
              "    </tr>\n",
              "    <tr>\n",
              "      <th>Basic</th>\n",
              "      <td>0.962963</td>\n",
              "      <td>0.037037</td>\n",
              "    </tr>\n",
              "    <tr>\n",
              "      <th>Graduation</th>\n",
              "      <td>0.864574</td>\n",
              "      <td>0.135426</td>\n",
              "    </tr>\n",
              "    <tr>\n",
              "      <th>Master</th>\n",
              "      <td>0.846154</td>\n",
              "      <td>0.153846</td>\n",
              "    </tr>\n",
              "    <tr>\n",
              "      <th>PhD</th>\n",
              "      <td>0.791232</td>\n",
              "      <td>0.208768</td>\n",
              "    </tr>\n",
              "  </tbody>\n",
              "</table>\n",
              "</div>"
            ],
            "text/plain": [
              "Response           0         1\n",
              "Education                     \n",
              "2n Cycle    0.890000  0.110000\n",
              "Basic       0.962963  0.037037\n",
              "Graduation  0.864574  0.135426\n",
              "Master      0.846154  0.153846\n",
              "PhD         0.791232  0.208768"
            ]
          },
          "execution_count": 16,
          "metadata": {},
          "output_type": "execute_result"
        }
      ],
      "source": [
        "crosstab4 = pd.crosstab(df['Education'], df['Response'], normalize='index')\n",
        "crosstab4"
      ]
    },
    {
      "cell_type": "code",
      "execution_count": 17,
      "metadata": {
        "colab": {
          "base_uri": "https://localhost:8080/",
          "height": 298
        },
        "id": "wOyrX38trHSk",
        "outputId": "96f7beee-82ff-41a2-b5c9-73aacf4ebc7e"
      },
      "outputs": [
        {
          "data": {
            "text/plain": [
              "<AxesSubplot: xlabel='Education'>"
            ]
          },
          "execution_count": 17,
          "metadata": {},
          "output_type": "execute_result"
        },
        {
          "data": {
            "image/png": "[encoded data removed]",
            "text/plain": [
              "<Figure size 640x480 with 1 Axes>"
            ]
          },
          "metadata": {},
          "output_type": "display_data"
        }
      ],
      "source": [
        "crosstab4.plot.bar(rot=0)"
      ]
    },
    {
      "cell_type": "markdown",
      "metadata": {
        "id": "BofGBC0EleHA"
      },
      "source": [
        "Tomando en cuenta el orden jerárquico de los niveles académicos (en orden creciente esto es: básico, secundario, graduado, máster y PhD) observamos que a medida que el nivel aumenta pareciera ser mayor la proporción de personas que se dispuesieron a aceptar la membresía."
      ]
    },
    {
      "cell_type": "markdown",
      "metadata": {
        "id": "YjAF_pk3y60N"
      },
      "source": [
        "##### Estadísticos muestrales e intervalos de confianza"
      ]
    },
    {
      "cell_type": "code",
      "execution_count": 18,
      "metadata": {
        "id": "N-Lnj9u_z-65"
      },
      "outputs": [],
      "source": [
        "n_bas = df[df['Education'] == 'Basic'].shape[0]\n",
        "n_sec = df[df['Education'] == '2n Cycle'].shape[0]\n",
        "n_grad = df[df['Education'] == 'Graduation'].shape[0]\n",
        "n_mas = df[df['Education'] == 'Master'].shape[0]\n",
        "n_phd = df[df['Education'] == 'PhD'].shape[0]\n",
        "\n",
        "p_bas = df[np.logical_and(df['Response'] == 1, df['Education'] == 'Basic')].shape[0] / n_bas\n",
        "p_sec = df[np.logical_and(df['Response'] == 1, df['Education'] == '2n Cycle')].shape[0] / n_sec\n",
        "p_grad = df[np.logical_and(df['Response'] == 1, df['Education'] == 'Graduation')].shape[0] / n_grad\n",
        "p_mas = df[np.logical_and(df['Response'] == 1, df['Education'] == 'Master')].shape[0] / n_mas\n",
        "p_phd = df[np.logical_and(df['Response'] == 1, df['Education'] == 'PhD')].shape[0] / n_phd"
      ]
    },
    {
      "cell_type": "markdown",
      "metadata": {
        "id": "JzWpBEbvzBnZ"
      },
      "source": [
        "Cálculo de los estadísticos muestrales $Z$\n",
        "\n"
      ]
    },
    {
      "cell_type": "code",
      "execution_count": 19,
      "metadata": {
        "colab": {
          "base_uri": "https://localhost:8080/"
        },
        "id": "TAsKKOUb7Vc_",
        "outputId": "8f472cfa-cd56-45fc-d145-13588c039036"
      },
      "outputs": [
        {
          "name": "stdout",
          "output_type": "stream",
          "text": [
            "Comparación entre nivel básico y postdoctoral Z = -5.416229292060815\n",
            "Comparación entre nivel básico y máster Z = -3.6608483899323296\n",
            "Comparación entre nivel básico y graduado Z = -3.5561496872228258\n",
            "Comparación entre nivel básico y nivel secundario Z = -2.1515899354548034\n",
            "Comparación entre nivel secundario y postdoctoral Z = -3.419344004525804\n",
            "Comparación entre nivel secundario y máster Z = -1.506455596632169\n",
            "Comparación entre nivel secundario y graduado Z = -1.042794487712966\n",
            "Comparación entre graduado y postdoctoral Z = -3.4579188963881813\n",
            "Comparación entre graduado y máster Z = -0.85638952402269\n",
            "Comparación entre máster y postdoctoral Z = -2.0721896208496613\n"
          ]
        }
      ],
      "source": [
        "nn = [n_bas, n_sec, n_grad, n_mas, n_phd]\n",
        "pp = [p_bas, p_sec, p_grad, p_mas, p_phd]\n",
        "nombres = [\"nivel básico\", \"nivel secundario\", \"graduado\", \"máster\", \"postdoctoral\"]\n",
        "\n",
        "Z = np.zeros([5,5])\n",
        "\n",
        "for i in range(0,len(nn)):\n",
        "  if i <= len(nn):\n",
        "    for j in range(len(nn)-1, i, -1):\n",
        "      Z[i,j] = (pp[i] - pp[j])/math.sqrt((pp[i]*(1-pp[i])/nn[i]) + (pp[j]*(1-pp[j])/nn[j]))\n",
        "      print(\"Comparación entre\",nombres[i],\"y\",nombres[j],\"Z =\",Z[i,j])"
      ]
    },
    {
      "cell_type": "markdown",
      "metadata": {
        "id": "3axVw0TJ32qq"
      },
      "source": [
        "Cálculo del $z_{critico}$"
      ]
    },
    {
      "cell_type": "code",
      "execution_count": 20,
      "metadata": {
        "colab": {
          "base_uri": "https://localhost:8080/"
        },
        "id": "KAdYMx6Q35Yj",
        "outputId": "9bd4a714-adae-4c32-9584-a11914724bea"
      },
      "outputs": [
        {
          "name": "stdout",
          "output_type": "stream",
          "text": [
            "Z-crítico:  1.959963984540054\n"
          ]
        }
      ],
      "source": [
        "# Z-crítico\n",
        "alfa = 0.05\n",
        "z = stats.norm.ppf (q = 1-alfa/2)\n",
        "print(\"Z-crítico: \", z)"
      ]
    },
    {
      "cell_type": "markdown",
      "metadata": {
        "id": "jusHN2OK4cpb"
      },
      "source": [
        "De aquí podemos extraer las siguientes conclusiones: <br>\n",
        "\n",
        "* Situaciones en las que rechazamos $H_{0}$ <br>\n",
        "$Z_{basic-secondary} = -2.152 < -z_{\\frac{\\alpha}{2}} = -1.960$ <br>\n",
        "$Z_{basic-gradruate} = -3.556 < -z_{\\frac{\\alpha}{2}} = -1.960$ <br>\n",
        "$Z_{basic-master} = -3.661 < -z_{\\frac{\\alpha}{2}} = -1.960$ <br>\n",
        "$Z_{basic-phd} = -5.416 < -z_{\\frac{\\alpha}{2}} = -1.960$ <br>\n",
        "$Z_{secondary-phd} = -3.419 < -z_{\\frac{\\alpha}{2}} = -1.960$ <br>\n",
        "$Z_{graduate-phd} = -3.458 < -z_{\\frac{\\alpha}{2}} = -1.960$ <br>\n",
        "$Z_{master-phd} = -2.072 < -z_{\\frac{\\alpha}{2}} = -1.960$ <br>\n",
        "<br>\n",
        "* Situaciones en las que no rechazamos $H_{0}$ <br>\n",
        "$Z_{secondary-graduate} = -1.043  -z_{\\frac{\\alpha}{2}} = -1.960$ <br>\n",
        "$Z_{secondary-master} = -1.506 > -z_{\\frac{\\alpha}{2}} = -1.960$ <br>\n",
        "$Z_{graduate-master} = -0.856 > -z_{\\frac{\\alpha}{2}} = -1.960$ <br>\n",
        "\n",
        "Como vemos, en los únicos casos en los cuales no pareciera haber diferencias significativas es cuando comparamos entre las proporciones de personas con estudios secundarios vs graduados, secundarios vs másters, y graduados vs másters. Para todos los demás casos sí existen evidencias suficientes para rechazar $H_{0}$ y, por lo tanto, para afirmar que existen diferencias significativas.\n"
      ]
    },
    {
      "cell_type": "markdown",
      "metadata": {
        "id": "mUtx-ID-5RcF"
      },
      "source": [
        "Cálculos de los intervalos de confianza"
      ]
    },
    {
      "cell_type": "code",
      "execution_count": 21,
      "metadata": {
        "colab": {
          "base_uri": "https://localhost:8080/"
        },
        "id": "8Wqs2FPVGIT4",
        "outputId": "95ea9faf-52a6-48ae-e769-2e4442b877d7"
      },
      "outputs": [
        {
          "name": "stdout",
          "output_type": "stream",
          "text": [
            "IC del 95% para la comparación entre nivel básico y postdoctoral IC = [-0.23387539 -0.10958707]\n",
            "IC del 95% para la comparación entre nivel básico y máster IC = [-0.17934699 -0.05427125]\n",
            "IC del 95% para la comparación entre nivel básico y graduado IC = [-0.15261583 -0.04416211]\n",
            "IC del 95% para la comparación entre nivel básico y nivel secundario IC = [-0.13942766 -0.00649826]\n",
            "IC del 95% para la comparación entre nivel secundario y postdoctoral IC = [-0.15538212 -0.04215441]\n",
            "IC del 95% para la comparación entre nivel secundario y máster IC = [-0.1008919   0.01319959]\n",
            "IC del 95% para la comparación entre nivel secundario y graduado IC = [-0.07321497  0.02236295]\n",
            "IC del 95% para la comparación entre graduado y postdoctoral IC = [-0.11491298 -0.03177154]\n",
            "IC del 95% para la comparación entre graduado y máster IC = [-0.06057715  0.02373686]\n",
            "IC del 95% para la comparación entre máster y postdoctoral IC = [-0.10686976 -0.00297447]\n"
          ]
        }
      ],
      "source": [
        "IC = np.zeros([5,5,2])\n",
        "\n",
        "for i in range(0,len(nn)):\n",
        "  if i <= len(nn):\n",
        "    for j in range(len(nn)-1, i, -1):\n",
        "      IC[i,j,0] = (pp[i] - pp[j] - z*math.sqrt((pp[i]*(1-pp[i])/nn[i]) + (pp[j]*(1-pp[j])/nn[j])))\n",
        "      IC[i,j,1] = (pp[i] - pp[j] + z*math.sqrt((pp[i]*(1-pp[i])/nn[i]) + (pp[j]*(1-pp[j])/nn[j])))\n",
        "      print(\"IC del 95% para la comparación entre\",nombres[i],\"y\",nombres[j],\"IC =\",IC[i,j])"
      ]
    },
    {
      "cell_type": "markdown",
      "metadata": {
        "id": "zNpi5RJz636M"
      },
      "source": [
        "En concordancia a lo obtenido en el análisis anterior, observamos que para las comparaciones de las proporciones entre los niveles secundario vs graduado, secundario vs máster, y graduado vs máster, los intervalos de confianza contienen al 0, por lo que no tenemos evidencia suficiente para rechazar $H_{0}$. En todos los demás casos, sí se observa evidencia suficiente para rechazar $H_{0}$ y, por lo tanto, para afirmar que existen diferencias significativas. <br>\n",
        "Además, en los casos en los que se presentan diferencias, para todos ellos, todos los valores dentro del intervalo de confianza son negativos, lo que implica que a mayor nivel educativo mayor es la proporción de personas que aceptaron la membresía."
      ]
    },
    {
      "cell_type": "markdown",
      "metadata": {
        "id": "ajvwf1FkibCv"
      },
      "source": [
        "#### ¿Es el estado civil un factor influyente en la decisión de aceptar la membresía?"
      ]
    },
    {
      "cell_type": "markdown",
      "metadata": {
        "id": "Hh_YO_T1OFjB"
      },
      "source": [
        "Para responder esta pregunta debemos evaluar si existen diferencias significativas entre las proporciones de personas que aceptan la membresía en función de su estado civil. Así nuestra variable respuesta será `Response` y nuestra variable predictora será `Marital_Status`.<br>\n",
        "<br>\n",
        "* Parámetro poblacional de interés: <br>\n",
        "$ p_{i} - p_{j} $ <br>\n",
        "donde: <br>\n",
        "$ p_{i} $ : proporción de personas de estado civil $ i $ que aceptaron la membresía sobre el total de personas de estado civil $ i $. <br>\n",
        "$ p_{j} $ : proporción de personas de estado civil $ j $ que aceptaron la membresía sobre el total de personas de estado civil $ j $. <br>\n",
        "siendo: <br>\n",
        "${i,j}$ : {Married, Together, Divorce, Widow, Single}<br>\n",
        "<br>\n",
        "* HIPÓTESIS: <br>\n",
        "$ H_{0}: p_{i} - p_{j} = 0 $ para algún $i,j$<br>\n",
        "$ H_{1}: p_{i} - p_{j} ≠ 0 $ para algún $i,j$<br>\n",
        "<br>\n",
        "* Estadístico muestral para realizar la estimación: <br>\n",
        "$ Z = \\frac{p̂_{i} - p̂_{j}}{\\sqrt{\\frac{p̂_{i}(1-p̂_{i})}{n_{i}} + \\frac{p̂_{j}(1-p̂_{j})}{n_{j}}}} $ <br>\n",
        "donde: <br>\n",
        "$ p̂_{i} $ : proporción muestral de personas con estado civil $i$ que aceptaron la membresía. <br>\n",
        "$ p̂_{j} $ : proporción muestral de personas con estado civil $j$ que aceptaron la membresía. <br>\n",
        "$ n_{i} $ : total de personas con estado civil $i$. <br>\n",
        "$ n_{j} $ : total de personas con estado civil $j$. <br>\n",
        "<br>\n",
        "* Valor Z crítico: <br>\n",
        "Sea $ z_{\\frac{\\alpha}{2}} $ el valor $ z_{critico} $ que deja un área de $ \\frac{\\alpha}{2} $ a derecha y un área de $ \\frac{\\alpha}{2} $ a izquierda. La hipótesis nula se rechazará si: <br>\n",
        "$ Z < -z_{\\frac{\\alpha}{2}} $ o $ Z > z_{\\frac{\\alpha}{2}} $\n",
        "<br>\n",
        "\n",
        "* INTERVALO DE CONFIANZA: <br>\n",
        "$ (p̂_{i} - p̂_{j}) - z_{\\frac{\\alpha}{2}}\\sqrt{\\frac{p̂_{i}(1-p̂_{i})}{n_{i}} + \\frac{p̂_{j}(1-p̂_{j})}{n_{j}}} $ , $ (p̂_{i} - p̂_{j}) + z_{\\frac{\\alpha}{2}}\\sqrt{\\frac{p̂_{i}(1-p̂_{i})}{n_{i}} + \\frac{p̂_{j}(1-p̂_{j})}{n_{j}}} $ <br>\n",
        "Utilizaremos un nivel de confianza del 95% (es decir, un nivel de significancia $ \\alpha $ del 5%). <br>\n",
        "<br>\n",
        "* Interpretación del intervalo de confianza: <br>\n",
        "Si para alguna combinación $i,j$ el 0 está contenido dentro del intervalo, entonces podremos afirmar con un 95% de confianza que existen diferencias significativas entre la proporción de personas que aceptaron la membresía según su estado civil. Por el contrario, si el 0 no está contenido, entonces no podremos afirmar que existan diferencias significativas."
      ]
    },
    {
      "cell_type": "markdown",
      "metadata": {
        "id": "rq5sW40jP8ET"
      },
      "source": [
        "##### Resumen numérico y gráfico"
      ]
    },
    {
      "cell_type": "code",
      "execution_count": 22,
      "metadata": {
        "colab": {
          "base_uri": "https://localhost:8080/",
          "height": 238
        },
        "id": "yMg9I3wgAUDE",
        "outputId": "39fb6da2-e1f0-4776-ba87-c5eb7d5b50cc"
      },
      "outputs": [
        {
          "data": {
            "text/html": [
              "<div>\n",
              "<style scoped>\n",
              "    .dataframe tbody tr th:only-of-type {\n",
              "        vertical-align: middle;\n",
              "    }\n",
              "\n",
              "    .dataframe tbody tr th {\n",
              "        vertical-align: top;\n",
              "    }\n",
              "\n",
              "    .dataframe thead th {\n",
              "        text-align: right;\n",
              "    }\n",
              "</style>\n",
              "<table border=\"1\" class=\"dataframe\">\n",
              "  <thead>\n",
              "    <tr style=\"text-align: right;\">\n",
              "      <th>Response</th>\n",
              "      <th>0</th>\n",
              "      <th>1</th>\n",
              "    </tr>\n",
              "    <tr>\n",
              "      <th>Marital_Status</th>\n",
              "      <th></th>\n",
              "      <th></th>\n",
              "    </tr>\n",
              "  </thead>\n",
              "  <tbody>\n",
              "    <tr>\n",
              "      <th>Divorced</th>\n",
              "      <td>0.793103</td>\n",
              "      <td>0.206897</td>\n",
              "    </tr>\n",
              "    <tr>\n",
              "      <th>Married</th>\n",
              "      <td>0.885648</td>\n",
              "      <td>0.114352</td>\n",
              "    </tr>\n",
              "    <tr>\n",
              "      <th>Single</th>\n",
              "      <td>0.774262</td>\n",
              "      <td>0.225738</td>\n",
              "    </tr>\n",
              "    <tr>\n",
              "      <th>Together</th>\n",
              "      <td>0.895288</td>\n",
              "      <td>0.104712</td>\n",
              "    </tr>\n",
              "    <tr>\n",
              "      <th>Widow</th>\n",
              "      <td>0.763158</td>\n",
              "      <td>0.236842</td>\n",
              "    </tr>\n",
              "  </tbody>\n",
              "</table>\n",
              "</div>"
            ],
            "text/plain": [
              "Response               0         1\n",
              "Marital_Status                    \n",
              "Divorced        0.793103  0.206897\n",
              "Married         0.885648  0.114352\n",
              "Single          0.774262  0.225738\n",
              "Together        0.895288  0.104712\n",
              "Widow           0.763158  0.236842"
            ]
          },
          "execution_count": 22,
          "metadata": {},
          "output_type": "execute_result"
        }
      ],
      "source": [
        "crosstab = pd.crosstab(df['Marital_Status'], df['Response'], normalize='index')\n",
        "crosstab"
      ]
    },
    {
      "cell_type": "code",
      "execution_count": 23,
      "metadata": {
        "colab": {
          "base_uri": "https://localhost:8080/",
          "height": 297
        },
        "id": "dyBNBFHaE5NW",
        "outputId": "3ae5857d-de77-4a01-91b0-1d63fc46ec23"
      },
      "outputs": [
        {
          "data": {
            "text/plain": [
              "<AxesSubplot: xlabel='Marital_Status'>"
            ]
          },
          "execution_count": 23,
          "metadata": {},
          "output_type": "execute_result"
        },
        {
          "data": {
            "image/png": "[encoded data removed]",
            "text/plain": [
              "<Figure size 640x480 with 1 Axes>"
            ]
          },
          "metadata": {},
          "output_type": "display_data"
        }
      ],
      "source": [
        "crosstab.plot.bar(rot = 0)"
      ]
    },
    {
      "cell_type": "markdown",
      "metadata": {
        "id": "xXqn-t-Prdhx"
      },
      "source": [
        "Se observa que es mayor la proporción de personas que aceptaron la membresía en los casos en los que su estado civil era divorciado, soltero o viudo. Algo que estas categorías tienen en común es que todas ellas implican el no poseer pareja, en contraposición a los casos de las personas casadas o juntadas que parecen evidenciar una menor predisposicón a aceptar la membresía."
      ]
    },
    {
      "cell_type": "markdown",
      "metadata": {
        "id": "zyeFgSRsQJ8s"
      },
      "source": [
        "##### Estadísticos muestrales e intervalos de confianza"
      ]
    },
    {
      "cell_type": "code",
      "execution_count": 24,
      "metadata": {
        "id": "ChoWCQORQK5n"
      },
      "outputs": [],
      "source": [
        "n_marr = df[df['Marital_Status'] == 'Married'].shape[0]\n",
        "n_div = df[df['Marital_Status'] == 'Divorced'].shape[0]\n",
        "n_sing = df[df['Marital_Status'] == 'Single'].shape[0]\n",
        "n_tog = df[df['Marital_Status'] == 'Together'].shape[0]\n",
        "n_wid = df[df['Marital_Status'] == 'Widow'].shape[0]\n",
        "\n",
        "p_marr = df[np.logical_and(df['Response'] == 1, df['Marital_Status'] == 'Married')].shape[0] / n_marr\n",
        "p_div = df[np.logical_and(df['Response'] == 1, df['Marital_Status'] == 'Divorced')].shape[0] / n_div\n",
        "p_sing = df[np.logical_and(df['Response'] == 1, df['Marital_Status'] == 'Single')].shape[0] / n_sing\n",
        "p_tog = df[np.logical_and(df['Response'] == 1, df['Marital_Status'] == 'Together')].shape[0] / n_tog\n",
        "p_wid = df[np.logical_and(df['Response'] == 1, df['Marital_Status'] == 'Widow')].shape[0] / n_wid"
      ]
    },
    {
      "cell_type": "markdown",
      "metadata": {
        "id": "N_zbY8T8RbF0"
      },
      "source": [
        "Cálculo de los estadísticos muestrales $Z$"
      ]
    },
    {
      "cell_type": "code",
      "execution_count": 25,
      "metadata": {
        "colab": {
          "base_uri": "https://localhost:8080/"
        },
        "id": "ARj2Xi2PRc3a",
        "outputId": "591abe68-2940-447c-fd9b-f8b418168ef6"
      },
      "outputs": [
        {
          "name": "stdout",
          "output_type": "stream",
          "text": [
            "Comparación entre casado y juntado Z = 0.5742954831538931\n",
            "Comparación entre casado y soltero Z = -5.047846432814938\n",
            "Comparación entre casado y divorciado Z = -3.221074234078051\n",
            "Comparación entre casado y viudo Z = -2.45154181822002\n",
            "Comparación entre juntado y soltero Z = -5.245464939790875\n",
            "Comparación entre juntado y divorciado Z = -3.4626004317981565\n",
            "Comparación entre juntado y viudo Z = -2.6207461529348026\n",
            "Comparación entre soltero y divorciado Z = 0.5743980522341677\n",
            "Comparación entre soltero y viudo Z = -0.21185510009254702\n",
            "Comparación entre divorciado y viudo Z = -0.5390960841354727\n"
          ]
        }
      ],
      "source": [
        "nmt = [n_marr, n_tog, n_sing, n_div, n_wid]\n",
        "pmt = [p_marr, p_tog, p_sing, p_div, p_wid]\n",
        "nombresmt = [\"casado\", \"juntado\", \"soltero\", \"divorciado\", \"viudo\"]\n",
        "\n",
        "Z = np.zeros([5,5])\n",
        "\n",
        "for i in range(0,len(nmt)):\n",
        "  if i <= len(nn):\n",
        "    for j in range(i+1, len(nmt)):\n",
        "      Z[i,j] = (pmt[i] - pmt[j])/math.sqrt((pmt[i]*(1-pmt[i])/nmt[i]) + (pmt[j]*(1-pmt[j])/nmt[j]))\n",
        "      print(\"Comparación entre\",nombresmt[i],\"y\",nombresmt[j],\"Z =\",Z[i,j])"
      ]
    },
    {
      "cell_type": "markdown",
      "metadata": {
        "id": "y9I2xp5GSTOb"
      },
      "source": [
        "Cálculo del $z_{critico}$"
      ]
    },
    {
      "cell_type": "code",
      "execution_count": 26,
      "metadata": {
        "colab": {
          "base_uri": "https://localhost:8080/"
        },
        "id": "U9rtVBLVSVVh",
        "outputId": "a4bf669c-e1bc-4610-80d6-1fb4cf2ad847"
      },
      "outputs": [
        {
          "name": "stdout",
          "output_type": "stream",
          "text": [
            "Z-crítico:  1.959963984540054\n"
          ]
        }
      ],
      "source": [
        "# Z-crítico\n",
        "alfa = 0.05\n",
        "z = stats.norm.ppf (q = 1-alfa/2)\n",
        "print(\"Z-crítico: \", z)"
      ]
    },
    {
      "cell_type": "markdown",
      "metadata": {
        "id": "2FU7jl-FSdvF"
      },
      "source": [
        "De aquí podemos extraer las siguientes conclusiones: <br>\n",
        "\n",
        "* Situaciones en las que rechazamos $H_{0}$ <br>\n",
        "$Z_{married-single} = -5.048 < -z_{\\frac{\\alpha}{2}} = -1.960$ <br>\n",
        "$Z_{married-divorced} = -3.221 < -z_{\\frac{\\alpha}{2}} = -1.960$ <br>\n",
        "$Z_{married-widow} = -2.452 < -z_{\\frac{\\alpha}{2}} = -1.960$ <br>\n",
        "$Z_{together-single} = -5.245 < -z_{\\frac{\\alpha}{2}} = -1.960$ <br>\n",
        "$Z_{together-divorced} = -3.463 < -z_{\\frac{\\alpha}{2}} = -1.960$ <br>\n",
        "$Z_{together-widow} = -2.621 < -z_{\\frac{\\alpha}{2}} = -1.960$ <br>\n",
        "\n",
        "* Situaciones en las que no se rechaza $H_{0}$ <br>\n",
        "$Z_{married-together} = 0.574 < z_{\\frac{\\alpha}{2}} = 1.960$ <br>\n",
        "$Z_{single-divorced} = 0.574 < z_{\\frac{\\alpha}{2}} = 1.960$ <br>\n",
        "$Z_{single-widow} = -0.212 > -z_{\\frac{\\alpha}{2}} = -1.960$ <br>\n",
        "$Z_{divorced-widow} = -0.539 > -z_{\\frac{\\alpha}{2}} = -1.960$ <br>\n",
        "\n",
        "Así, observamos que en los únicos casos en los cuales no pareciera haber diferencias significativas es cuando comparamos entre las proporciones de personas con estado civil casado vs juntado, soltero vs divorciado, soltero vs viudo, y divorciado vs viudo. Para todos los demás casos sí existen evidencias suficientes para rechazar $H_{0}$ y por lo tanto afirmar que existen diferencias significativas."
      ]
    },
    {
      "cell_type": "markdown",
      "metadata": {
        "id": "ro-acA6ffJNw"
      },
      "source": [
        "##### Intervalos de confianza"
      ]
    },
    {
      "cell_type": "code",
      "execution_count": 27,
      "metadata": {
        "colab": {
          "base_uri": "https://localhost:8080/"
        },
        "id": "edn3MssSfPP2",
        "outputId": "d983309e-d651-423a-a6f9-86b1ef6a970e"
      },
      "outputs": [
        {
          "name": "stdout",
          "output_type": "stream",
          "text": [
            "IC del 95% para la comparación entre casado y viudo  IC = [-0.22041806 -0.02456137]\n",
            "IC del 95% para la comparación entre casado y divorciado  IC = [-0.14885557 -0.03623275]\n",
            "IC del 95% para la comparación entre casado y soltero  IC = [-0.15463466 -0.06813735]\n",
            "IC del 95% para la comparación entre casado y juntado  IC = [-0.02326038  0.04254108]\n",
            "IC del 95% para la comparación entre juntado y viudo  IC = [-0.2309455  -0.03331463]\n",
            "IC del 95% para la comparación entre juntado y divorciado  IC = [-0.16002484 -0.04434418]\n",
            "IC del 95% para la comparación entre juntado y soltero  IC = [-0.16624776 -0.07580495]\n",
            "IC del 95% para la comparación entre soltero y viudo  IC = [-0.11382896  0.09162155]\n",
            "IC del 95% para la comparación entre soltero y divorciado  IC = [-0.0454504   0.08313408]\n",
            "IC del 95% para la comparación entre divorciado y viudo  IC = [-0.13881707  0.07892596]\n"
          ]
        }
      ],
      "source": [
        "ICmt = np.zeros([5,5,2])\n",
        "\n",
        "for i in range(0,len(nmt)):\n",
        "  if i <= len(nmt):\n",
        "    for j in range(len(nn)-1, i, -1):\n",
        "      ICmt[i,j,0] = (pmt[i] - pmt[j] - z*math.sqrt((pmt[i]*(1-pmt[i])/nmt[i]) + (pmt[j]*(1-pmt[j])/nmt[j])))\n",
        "      ICmt[i,j,1] = (pmt[i] - pmt[j] + z*math.sqrt((pmt[i]*(1-pmt[i])/nmt[i]) + (pmt[j]*(1-pmt[j])/nmt[j])))\n",
        "      print(\"IC del 95% para la comparación entre\",nombresmt[i],\"y\",nombresmt[j],\" IC =\",ICmt[i,j])"
      ]
    },
    {
      "cell_type": "markdown",
      "metadata": {
        "id": "GEYwribpfhV3"
      },
      "source": [
        "Nuevamente, con los intervalos de confianza, se evidencia la misma conclusión a la que llegamos en el punto anterior. Para las comparaciones entre casado vs juntado, soltero vs divorciado, soltero vs viudo y divorciado vs viudo, los intervalos de confianza de la diferencia de proporciones contienen al 0, por lo que no tenemos evidencias para rechazar la hipótesis nula. Por el contrario, todos los demás intervalos no contienen al 0, con lo que queda rechazada la hipótesis nula y podemos concluir que existen diferencias significativas. <br>\n",
        "Además, en los casos que presentan diferencias, se evidencia lo que observamos durante el análisis de los resúmenes gráficos y numéricos: cuando la comparación se realiza entre dos categorías que implican estar en pareja, o dos categorías que implican no estarlo, no se observan diferencias significativas; mientras que cuando se compara una categoría que implica estar en pareja, frente a otra que implica no estarlo, en todos los casos se observan diferencias significativas, y en todos ellos la proporción de personas sin pareja que decidieron aceptar la membresía es mayor que la proporción de personas con pareja que lo hicieron."
      ]
    },
    {
      "cell_type": "markdown",
      "metadata": {
        "id": "TPBqy7IgjA4N"
      },
      "source": [
        "#### ¿Es la existencia de niños y adolescentes en el hogar un factor influyente en la desición de aceptar la membresía?"
      ]
    },
    {
      "cell_type": "markdown",
      "metadata": {
        "id": "f_Pkf1pfzdMV"
      },
      "source": [
        "Para responder esta pregunta debemos evaluar si existen diferencias significativas entre las proporciones de personas que aceptan la membresía en función de si tienen niños o adolescentes viviendo en su hogar. Así nuestra variable respuesta será `Response`, y nuestra variable predictora será `Has_kids_or_teens`, una variable booleana auxiliar que crearemos unificando los valores de `Kidhome` y `Teenhome`. <br>\n",
        "<br>\n",
        "* Parámetro poblacional de interés: <br>\n",
        "$ p_{1} - p_{2} $ <br>\n",
        "donde: <br>\n",
        "$ p_{1} $ : proporción de personas de con niños o adolescentes en el hogar que aceptaron la membresía, sobre el total de personas con niños o adolescentes en el hogar. <br>\n",
        "$ p_{2} $ : proporción de personas sin niños o adolescentes en el hogar que aceptaron la membresía, sobre el total de personas sin niños o adolescentes en el hogar. <br>\n",
        "<br>\n",
        "* HIPÓTESIS: <br>\n",
        "$ H_{0}: p_{1} - p_{2} = 0 $ <br>\n",
        "$ H_{1}: p_{1} - p_{2} ≠ 0 $ <br>\n",
        "<br>\n",
        "* Estadístico muestral para realizar la estimación: <br>\n",
        "$ Z = \\frac{p̂_{i} - p̂_{j}}{\\sqrt{\\frac{p̂_{i}(1-p̂_{i})}{n_{i}} + \\frac{p̂_{j}(1-p̂_{j})}{n_{j}}}} $ <br>\n",
        "donde: <br>\n",
        "$ p̂_{i} $ : proporción muestral de personas con niños o adolescentes en el hogar que aceptaron la membresía. <br>\n",
        "$ p̂_{j} $ : proporción muestral de personas sin niños o adolescentes en el hogar que aceptaron la membresía. <br>\n",
        "$ n_{i} $ : total de personas con niños o adolescentes en el hogar. <br>\n",
        "$ n_{j} $ : total de personas sin niños o adolescentes en el hogar. <br>\n",
        "<br>\n",
        "* Valor Z crítico: <br>\n",
        "Sea $ z_{\\frac{\\alpha}{2}} $ el valor $ z_{critico} $ que deja un área de $ \\frac{\\alpha}{2} $ a derecha y un área de $ \\frac{\\alpha}{2} $ a izquierda. La hipótesis nula se rechazará si: <br>\n",
        "$ Z < -z_{\\frac{\\alpha}{2}} $ o $ Z > z_{\\frac{\\alpha}{2}} $\n",
        "<br>\n",
        "\n",
        "* INTERVALO DE CONFIANZA: <br>\n",
        "$ (p̂_{i} - p̂_{j}) - z_{\\frac{\\alpha}{2}}\\sqrt{\\frac{p̂_{i}(1-p̂_{i})}{n_{i}} + \\frac{p̂_{j}(1-p̂_{j})}{n_{j}}} $ , $ (p̂_{i} - p̂_{j}) + z_{\\frac{\\alpha}{2}}\\sqrt{\\frac{p̂_{i}(1-p̂_{i})}{n_{i}} + \\frac{p̂_{j}(1-p̂_{j})}{n_{j}}} $ <br>\n",
        "Utilizaremos un nivel de confianza del 95% (es decir, un nivel de significancia $ \\alpha $ del 5%). <br>\n",
        "<br>\n",
        "* Interpretación del intervalo de confianza: <br>\n",
        "Si para alguna combinación $i,j$ el 0 está contenido dentro del intervalo, entonces podremos afirmar con un 95% de confianza que existen diferencias significativas entre la proporción de personas que aceptaron la membresía según si tienen niños o adolescentes viviendo en su hogar. Por el contrario, si el 0 no está contenido, entonces no podremos afirmar que existan diferencias significativas."
      ]
    },
    {
      "cell_type": "markdown",
      "metadata": {
        "id": "Gfjga1Ev1HUX"
      },
      "source": [
        "##### Resúmen numérico y grpafico"
      ]
    },
    {
      "cell_type": "code",
      "execution_count": 28,
      "metadata": {
        "colab": {
          "base_uri": "https://localhost:8080/",
          "height": 143
        },
        "id": "h1oyq--ZVMDJ",
        "outputId": "bcc9fb12-f02d-46a5-b67f-753c92e23740"
      },
      "outputs": [
        {
          "data": {
            "text/html": [
              "<div>\n",
              "<style scoped>\n",
              "    .dataframe tbody tr th:only-of-type {\n",
              "        vertical-align: middle;\n",
              "    }\n",
              "\n",
              "    .dataframe tbody tr th {\n",
              "        vertical-align: top;\n",
              "    }\n",
              "\n",
              "    .dataframe thead th {\n",
              "        text-align: right;\n",
              "    }\n",
              "</style>\n",
              "<table border=\"1\" class=\"dataframe\">\n",
              "  <thead>\n",
              "    <tr style=\"text-align: right;\">\n",
              "      <th>Response</th>\n",
              "      <th>0</th>\n",
              "      <th>1</th>\n",
              "    </tr>\n",
              "    <tr>\n",
              "      <th>Has_kids_or_teens</th>\n",
              "      <th></th>\n",
              "      <th></th>\n",
              "    </tr>\n",
              "  </thead>\n",
              "  <tbody>\n",
              "    <tr>\n",
              "      <th>No</th>\n",
              "      <td>0.735341</td>\n",
              "      <td>0.264659</td>\n",
              "    </tr>\n",
              "    <tr>\n",
              "      <th>Yes</th>\n",
              "      <td>0.896268</td>\n",
              "      <td>0.103732</td>\n",
              "    </tr>\n",
              "  </tbody>\n",
              "</table>\n",
              "</div>"
            ],
            "text/plain": [
              "Response                  0         1\n",
              "Has_kids_or_teens                    \n",
              "No                 0.735341  0.264659\n",
              "Yes                0.896268  0.103732"
            ]
          },
          "execution_count": 28,
          "metadata": {},
          "output_type": "execute_result"
        }
      ],
      "source": [
        "has_kids_or_teens = []\n",
        "for i in range(0, df.shape[0]):\n",
        "  if np.logical_or(df['Kidhome'][i] > 0, df['Teenhome'][i] > 0):\n",
        "    has_kids_or_teens.append('Yes')\n",
        "  else:\n",
        "    has_kids_or_teens.append('No')\n",
        "df['Has_kids_or_teens'] = has_kids_or_teens\n",
        "crosstab2 = pd.crosstab(df['Has_kids_or_teens'], df['Response'], normalize='index')\n",
        "crosstab2"
      ]
    },
    {
      "cell_type": "code",
      "execution_count": 29,
      "metadata": {
        "colab": {
          "base_uri": "https://localhost:8080/",
          "height": 297
        },
        "id": "pJJWtepNYxRz",
        "outputId": "98f130f2-8312-4475-b6b3-cbc766fcf451"
      },
      "outputs": [
        {
          "data": {
            "text/plain": [
              "<AxesSubplot: xlabel='Has_kids_or_teens'>"
            ]
          },
          "execution_count": 29,
          "metadata": {},
          "output_type": "execute_result"
        },
        {
          "data": {
            "image/png": "[encoded data removed]",
            "text/plain": [
              "<Figure size 640x480 with 1 Axes>"
            ]
          },
          "metadata": {},
          "output_type": "display_data"
        }
      ],
      "source": [
        "crosstab2.plot.bar(rot = 0)"
      ]
    },
    {
      "cell_type": "markdown",
      "metadata": {
        "id": "CRLTixlq1MfJ"
      },
      "source": [
        "La observación pareciera evidenciar que es mayor la proporción de personas que no conviven con niños o adolescentes que decidieron aceptar la membresía, frente a las personas que también lo hicieron pero conviven con niños o adolescentes en el hogar."
      ]
    },
    {
      "cell_type": "markdown",
      "metadata": {
        "id": "uLhRc1Ih2LQx"
      },
      "source": [
        "##### Estadístico muestral e intervalo de confianza"
      ]
    },
    {
      "cell_type": "code",
      "execution_count": 30,
      "metadata": {
        "id": "kuMMYsLc2bfP"
      },
      "outputs": [],
      "source": [
        "n_has = df[df['Has_kids_or_teens'] == 'Yes'].shape[0]\n",
        "n_nohas = df[df['Has_kids_or_teens'] == 'No'].shape[0]\n",
        "\n",
        "p_has = df[np.logical_and(df['Response'] == 1, df['Has_kids_or_teens'] == 'Yes')].shape[0] / n_has\n",
        "p_nohas = df[np.logical_and(df['Response'] == 1, df['Has_kids_or_teens'] == 'No')].shape[0] / n_nohas"
      ]
    },
    {
      "cell_type": "markdown",
      "metadata": {
        "id": "Z06rKwTj3JYW"
      },
      "source": [
        "Cálculo del estadístico muestral $Z$"
      ]
    },
    {
      "cell_type": "code",
      "execution_count": 31,
      "metadata": {
        "colab": {
          "base_uri": "https://localhost:8080/"
        },
        "id": "2M_AyTeq3gop",
        "outputId": "d7f38103-0288-4d51-8124-1e97ee50ff68"
      },
      "outputs": [
        {
          "name": "stdout",
          "output_type": "stream",
          "text": [
            "Z = -8.397733827994102\n"
          ]
        }
      ],
      "source": [
        "Zkt = (p_has - p_nohas)/math.sqrt((p_has*(1-p_has)/n_has) + (p_nohas*(1-p_nohas)/n_nohas))\n",
        "print(\"Z =\",Zkt)"
      ]
    },
    {
      "cell_type": "markdown",
      "metadata": {
        "id": "UABDZ-XL3HZM"
      },
      "source": [
        "Cálculo del $z_{critico}$"
      ]
    },
    {
      "cell_type": "code",
      "execution_count": 32,
      "metadata": {
        "colab": {
          "base_uri": "https://localhost:8080/"
        },
        "id": "zbKtjUG_7KCp",
        "outputId": "0764fa43-5b67-407c-ab41-c5f7e165f5d8"
      },
      "outputs": [
        {
          "name": "stdout",
          "output_type": "stream",
          "text": [
            "Z-crítico:  1.959963984540054\n"
          ]
        }
      ],
      "source": [
        "# Z-crítico\n",
        "alfa = 0.05\n",
        "z = stats.norm.ppf (q = 1-alfa/2)\n",
        "print(\"Z-crítico: \", z)"
      ]
    },
    {
      "cell_type": "markdown",
      "metadata": {
        "id": "kAR56GsM7Wf0"
      },
      "source": [
        "Se observa que: <br> \n",
        "$Z = -8.398 < -z_{\\frac{\\alpha}{2}} = -1.960$ <br>\n",
        "por lo que tenemos evidencias suficientes para rechazar la hipótesis nula y, por consiguiente, afirmar que existen diferencias significativas entre la proporción de personas que conviven con niños o adolescentes y aceptaron la membresía, y la proporción de personas que también la aceptaron pero no conviven con niños o adolescentes en el hogar."
      ]
    },
    {
      "cell_type": "markdown",
      "metadata": {
        "id": "CkQ25Ms-8XXX"
      },
      "source": [
        "Cálculo del intervalo de confianza"
      ]
    },
    {
      "cell_type": "code",
      "execution_count": 33,
      "metadata": {
        "colab": {
          "base_uri": "https://localhost:8080/"
        },
        "id": "7tZKjLz28dhK",
        "outputId": "40440377-043f-4486-f457-95e8a499ceb9"
      },
      "outputs": [
        {
          "name": "stdout",
          "output_type": "stream",
          "text": [
            "Intervalo de confianza del 95%: [-0.19848663817345677, -0.12336827320983798]\n"
          ]
        }
      ],
      "source": [
        "ICkt = [(p_has - p_nohas - z*math.sqrt((p_has*(1-p_has)/n_has) + (p_nohas*(1-p_nohas)/n_nohas))), (p_has - p_nohas + z*math.sqrt((p_has*(1-p_has)/n_has) + (p_nohas*(1-p_nohas)/n_nohas)))]\n",
        "print(\"Intervalo de confianza del 95%:\",ICkt)"
      ]
    },
    {
      "cell_type": "markdown",
      "metadata": {
        "id": "kCOAdo5G9Ay3"
      },
      "source": [
        "Observamos que el intervalo de confianza no contiene al 0 por lo que, nuevamente, se tiene evidencia suficiente para rechazar la hipótesis nula y afirmar que existen diferencias significativas entre ambas proporciones."
      ]
    },
    {
      "cell_type": "markdown",
      "metadata": {
        "id": "-UwaKhABYEpY"
      },
      "source": [
        "#### ¿Es la cantidad total gastada en la compra de productos en los últimos dos años un factor influyente en la decisión de aceptar la membresía?"
      ]
    },
    {
      "cell_type": "markdown",
      "metadata": {
        "id": "55L5AaK1Yw4d"
      },
      "source": [
        "Para responder esta pregunta debemos evaluar si existen diferencias significativas entre la media de la cantidad todal de lo que las personas que aceptaron la membresía gastaron en los últimos 2 años y la media de la cantidad total de lo que las personas que no la aceptaron gastaron en los últimos 2 años. Así nuestra variable respuesta será `Response` y nuestra variable predictora será `MntTotal`, una columna auxiliar que se creará combinando los valores de `MntMeatProducts`, `MntFishProducts`, `MntSweetProducts`, `MntFruits`, `MntWines` y `MntGoldProds`.<br>\n",
        "<br>\n",
        "* Parámetro poblacional de interés: <br>\n",
        "$ \\mu_{1} - \\mu_{2} $ <br>\n",
        "donde: <br>\n",
        "$ \\mu_{1} $ : media de la cantidad total gastada en productos en los últimos dos años por las personas que no aceptaron la membresía. <br>\n",
        "$ \\mu_{2} $ : media de la cantidad total gastada en productos en los últimos dos años por las personas que aceptaron la membresía. <br>\n",
        "<br>\n",
        "* HIPÓTESIS: <br>\n",
        "$ H_{0}: \\mu_{0} - \\mu_{1} = 0 $ <br>\n",
        "$ H_{1}: \\mu_{0} - \\mu_{1} ≠ 0 $ <br>\n",
        "<br>\n",
        "* Estadístico muestral para realizar la estimación: <br>\n",
        "$ T = \\frac{x̄_{1} - x̄_{2}}{\\sqrt{\\frac{s^{2}_{1}}{n_{1}} + \\frac{s^{2}_{2}}{n_{1}}}} $ <br>\n",
        "donde: <br>\n",
        "$ x̄_{1} $ : media muestral de la cantidad total gastada en productos en los últimos dos años por las personas que no aceptaron la membresía. <br>\n",
        "$ x̄_{2} $ : media muestral de la cantidad total gastada en productos en los últimos dos años por las personas que aceptaron la membresía. <br>\n",
        "$ s_{1} $ : desvío estándar muestral de la cantidad total gastada en productos en los últimos dos años por las personas que no aceptaron la membresía. <br>\n",
        "$ s_{2} $ : desvío estándar muestral de la cantidad total gastada en productos en los últimos dos años por las personas que aceptaron la membresía. <br>\n",
        "$ n_{1} $ : tamaño de la muestra de la cantidad total gastada en productos en los últimos dos años por las personas que no aceptaron la membresía. <br>\n",
        "$ n_{2} $ : tamaño de la muestra de la cantidad total gastada en productos en los últimos dos años por las personas que aceptaron la membresía. <br>\n",
        "<br>\n",
        "* Valor T crítico: <br>\n",
        "Sea $ t_{\\frac{\\alpha}{2},\\nu} $ el valor $ t_{critico} $ que deja un área de $ \\frac{\\alpha}{2} $ a derecha y un área de $ \\frac{\\alpha}{2} $ a izquierda con $ \\nu $ grados de libertad. La hipótesis nula se rechazará si: <br>\n",
        "$ T < -t_{\\frac{\\alpha}{2},\\nu} $ o $ T > t_{\\frac{\\alpha}{2},\\nu} $\n",
        "<br>\n",
        "\n",
        "* INTERVALO DE CONFIANZA: <br>\n",
        "$ (x̄_{1} - x̄_{2}) - t_{\\frac{\\alpha}{2},\\nu}\\sqrt{\\frac{s^{2}_{1}}{n_{1}} + \\frac{s^{2}_{2}}{n_{1}}} $ , $ (x̄_{1} - x̄_{2}) + t_{\\frac{\\alpha}{2},\\nu}\\sqrt{\\frac{s^{2}_{1}}{n_{1}} + \\frac{s^{2}_{2}}{n_{1}}} $ <br>\n",
        "Utilizaremos un nivel de confianza del 95% (es decir, un nivel de significancia $ \\alpha $ del 5%). <br>\n",
        "<br>\n",
        "* Interpretación del intervalo de confianza: <br>\n",
        "Si el 0 está contenido dentro del intervalo, entonces podremos afirmar con un 95% de confianza que existen diferencias significativas entre las medias de las cantidades totales gastadas en productos de quienes aceptaron la membresía y quienes no lo hicieron. Por el contrario, si el 0 no está contenido, entonces no podremos afirmar que existan diferencias significativas."
      ]
    },
    {
      "cell_type": "markdown",
      "metadata": {
        "id": "NIhsuPHPemqq"
      },
      "source": [
        "##### Resumen numérico y gráfico"
      ]
    },
    {
      "cell_type": "code",
      "execution_count": 34,
      "metadata": {
        "id": "h73dEpq6eoYt"
      },
      "outputs": [],
      "source": [
        "mnt_total = []\n",
        "\n",
        "for i in range(0, df.shape[0]):\n",
        "  suma = df['MntMeatProducts'][i] + df['MntFishProducts'][i] + df['MntSweetProducts'][i] + df['MntFruits'][i] + df['MntWines'][i] + df['MntGoldProds'][i]\n",
        "  mnt_total.append(suma)\n",
        "\n",
        "df['MntTotal'] = mnt_total"
      ]
    },
    {
      "cell_type": "code",
      "execution_count": 35,
      "metadata": {
        "colab": {
          "base_uri": "https://localhost:8080/",
          "height": 143
        },
        "id": "gWA2vNDf0bym",
        "outputId": "d4ffbf87-50ca-4c0f-a746-c2ac080de40d"
      },
      "outputs": [
        {
          "data": {
            "text/html": [
              "<div>\n",
              "<style scoped>\n",
              "    .dataframe tbody tr th:only-of-type {\n",
              "        vertical-align: middle;\n",
              "    }\n",
              "\n",
              "    .dataframe tbody tr th {\n",
              "        vertical-align: top;\n",
              "    }\n",
              "\n",
              "    .dataframe thead th {\n",
              "        text-align: right;\n",
              "    }\n",
              "</style>\n",
              "<table border=\"1\" class=\"dataframe\">\n",
              "  <thead>\n",
              "    <tr style=\"text-align: right;\">\n",
              "      <th></th>\n",
              "      <th>count</th>\n",
              "      <th>mean</th>\n",
              "      <th>std</th>\n",
              "      <th>min</th>\n",
              "      <th>25%</th>\n",
              "      <th>50%</th>\n",
              "      <th>75%</th>\n",
              "      <th>max</th>\n",
              "    </tr>\n",
              "    <tr>\n",
              "      <th>Response</th>\n",
              "      <th></th>\n",
              "      <th></th>\n",
              "      <th></th>\n",
              "      <th></th>\n",
              "      <th></th>\n",
              "      <th></th>\n",
              "      <th></th>\n",
              "      <th></th>\n",
              "    </tr>\n",
              "  </thead>\n",
              "  <tbody>\n",
              "    <tr>\n",
              "      <th>0</th>\n",
              "      <td>1881.0</td>\n",
              "      <td>539.851675</td>\n",
              "      <td>553.87010</td>\n",
              "      <td>5.0</td>\n",
              "      <td>62.0</td>\n",
              "      <td>313.0</td>\n",
              "      <td>957.0</td>\n",
              "      <td>2525.0</td>\n",
              "    </tr>\n",
              "    <tr>\n",
              "      <th>1</th>\n",
              "      <td>331.0</td>\n",
              "      <td>986.661631</td>\n",
              "      <td>720.79571</td>\n",
              "      <td>17.0</td>\n",
              "      <td>249.0</td>\n",
              "      <td>1053.0</td>\n",
              "      <td>1619.0</td>\n",
              "      <td>2525.0</td>\n",
              "    </tr>\n",
              "  </tbody>\n",
              "</table>\n",
              "</div>"
            ],
            "text/plain": [
              "           count        mean        std   min    25%     50%     75%     max\n",
              "Response                                                                    \n",
              "0         1881.0  539.851675  553.87010   5.0   62.0   313.0   957.0  2525.0\n",
              "1          331.0  986.661631  720.79571  17.0  249.0  1053.0  1619.0  2525.0"
            ]
          },
          "execution_count": 35,
          "metadata": {},
          "output_type": "execute_result"
        }
      ],
      "source": [
        "df.groupby('Response')['MntTotal'].describe()"
      ]
    },
    {
      "cell_type": "code",
      "execution_count": 36,
      "metadata": {
        "colab": {
          "base_uri": "https://localhost:8080/",
          "height": 296
        },
        "id": "f8760CvO0qJJ",
        "outputId": "adf57156-17be-4ea3-ba63-da047b06b8c1"
      },
      "outputs": [
        {
          "data": {
            "text/plain": [
              "<AxesSubplot: xlabel='Response', ylabel='MntTotal'>"
            ]
          },
          "execution_count": 36,
          "metadata": {},
          "output_type": "execute_result"
        },
        {
          "data": {
            "image/png": "[encoded data removed]",
            "text/plain": [
              "<Figure size 640x480 with 1 Axes>"
            ]
          },
          "metadata": {},
          "output_type": "display_data"
        }
      ],
      "source": [
        "sns.boxplot(x='Response', y='MntTotal', data=df)"
      ]
    },
    {
      "cell_type": "markdown",
      "metadata": {
        "id": "uNljPBR-0zlo"
      },
      "source": [
        "Se observa que la mediana de la cantidad total gastada en productos durante los 2 últimos años es mayor para el caso de las personas que aceptaron la membresía en comparación a quienes lo hicieron. La variabilidad también es ligeramente mayor en este caso. En el caso de las personas que no aceptaron la membresía se observan outliers."
      ]
    },
    {
      "cell_type": "markdown",
      "metadata": {
        "id": "5pzIp4-T1Q-m"
      },
      "source": [
        "##### Estadístico muestral e intervalo de confianza"
      ]
    },
    {
      "cell_type": "markdown",
      "metadata": {
        "id": "8Z7bPpA_1T8k"
      },
      "source": [
        "Cálculo del estadístico muestral $T$"
      ]
    },
    {
      "cell_type": "code",
      "execution_count": 37,
      "metadata": {
        "colab": {
          "base_uri": "https://localhost:8080/"
        },
        "id": "35CdWVG-1WaC",
        "outputId": "54282466-576a-48a2-d8e1-89f2abae38e0"
      },
      "outputs": [
        {
          "name": "stdout",
          "output_type": "stream",
          "text": [
            "T = -10.73393766300523\n"
          ]
        }
      ],
      "source": [
        "total_no = df[df['Response'] == 0]['MntTotal']\n",
        "total_si = df[df['Response'] == 1]['MntTotal']\n",
        "\n",
        "xx_1 = total_no.mean()\n",
        "xx_2 = total_si.mean()\n",
        "ss_1 = total_no.std()\n",
        "ss_2 = total_si.std()\n",
        "nn_1 = total_no.size\n",
        "nn_2 = total_si.size\n",
        "\n",
        "T = (xx_1 - xx_2)/math.sqrt(ss_1**2/nn_1 + ss_2**2/nn_2)\n",
        "print(\"T =\", T)"
      ]
    },
    {
      "cell_type": "markdown",
      "metadata": {
        "id": "O6_ebi16Mjd5"
      },
      "source": [
        "Luego, para poder calcular nuestro valor $ t_{critico} $ necesitamos saber si las varianzas de nuestras muestras son iguales o diferentes, ya que los grados de libertad son muy sensibles a ello. Para esto utilizaremos el test de Levene. Si el p-valor obtenido es mayor a 0.05 podremos suponer que las varianzas de ambas muestras son iguales, mientras que si es menor supondremos que las mismas son diferentes."
      ]
    },
    {
      "cell_type": "code",
      "execution_count": 38,
      "metadata": {
        "colab": {
          "base_uri": "https://localhost:8080/"
        },
        "id": "knAnV7_MMoNE",
        "outputId": "fc7cdd9d-aed2-42d3-f66d-361f044cfe26"
      },
      "outputs": [
        {
          "name": "stdout",
          "output_type": "stream",
          "text": [
            "p-valor = 0.011913056418450437\n"
          ]
        }
      ],
      "source": [
        "# Test de levene para evaluar si las varianzas son iguales o no\n",
        "print(\"p-valor =\", stats.levene(resp_no, resp_si)[1])"
      ]
    },
    {
      "cell_type": "markdown",
      "metadata": {
        "id": "-2j956e_MzlK"
      },
      "source": [
        "Como nuestro p-valor es de 0.000038 aproximadamente, supondremos que las varianzas de las muestras son diferentes. Así, los grados de libertad estarán dados por: <br>\n",
        "$ \\nu = \\frac{(\\frac{s^{2}_{1}}{n_{1}} + \\frac{s^{2}_{2}}{n_{2}})^2}{\\frac{(\\frac{s^{2}_{1}}{n_{1}})^{2}}{n_{1} - 1} + \\frac{(\\frac{s^{2}_{2}}{n_{2}})^{2}}{n_{2} - 1}} $ <br>\n",
        "Habiendo obtenido esto, podremos calcular el $t_{critico}$. "
      ]
    },
    {
      "cell_type": "code",
      "execution_count": 39,
      "metadata": {
        "colab": {
          "base_uri": "https://localhost:8080/"
        },
        "id": "SEGUoVSsM-u4",
        "outputId": "8f8d03bc-8872-4c7a-8ea3-71c7885f38d5"
      },
      "outputs": [
        {
          "name": "stdout",
          "output_type": "stream",
          "text": [
            "T-crítico:  1.964939198427694\n"
          ]
        }
      ],
      "source": [
        "# Grados de libertad\n",
        "gll = ((ss_1**2/nn_1) + (ss_2**2/nn_2))**2/(((ss_1**2/nn_1)**2)/(nn_1 - 1) + ((ss_2**2/nn_2)**2)/(nn_2 - 1))\n",
        "\n",
        "# T crítico\n",
        "alfa = 0.05\n",
        "tt = stats.t.ppf (q = 1-alfa/2, df = gll)\n",
        "print(\"T-crítico: \", t)"
      ]
    },
    {
      "cell_type": "markdown",
      "metadata": {
        "id": "Pthi3OYgNTBM"
      },
      "source": [
        "En este punto ya podemos observar que se cumple: <br>\n",
        "$ T = -10.734 < -t_{\\frac{\\alpha}{2},\\nu} = -1.966 $ , <br>\n",
        "por lo que tenemos evidencias para rechazar la hipótesis nula y afirmar que existen diferencias significativas entre la media de la totalidad gastada en productos en los últimos 2 años de las personas que aceptaron la membresía, y la media de las personas que no lo hicieron."
      ]
    },
    {
      "cell_type": "markdown",
      "metadata": {
        "id": "QX9uqKSgNqDD"
      },
      "source": [
        "Cálculo del intervalo de confianza"
      ]
    },
    {
      "cell_type": "code",
      "execution_count": 40,
      "metadata": {
        "colab": {
          "base_uri": "https://localhost:8080/"
        },
        "id": "lfXm9cCkN6Ar",
        "outputId": "49228216-0639-444a-c08a-287c32bb644a"
      },
      "outputs": [
        {
          "name": "stdout",
          "output_type": "stream",
          "text": [
            "Intervalo de confianza: [-528.6420003529346, -365.01756838545066]\n"
          ]
        }
      ],
      "source": [
        "ICC = [xx_1 - xx_2 - tt * math.sqrt((ss_1**2/nn_1) + (ss_2**2/nn_2)), xx_1 - xx_2 + t * math.sqrt((ss_1**2/nn_1) + (ss_2**2/nn_2))]\n",
        "print(\"Intervalo de confianza:\", ICC)"
      ]
    },
    {
      "cell_type": "markdown",
      "metadata": {
        "id": "wEAMtLZnOQQF"
      },
      "source": [
        "Observamos que el intervalo de confianza no contiene al 0, por lo que nuevamente tenemos evidencia para descartar la hipótesis nula. Además, todos los valores del intervalo son negativos, lo que indica que la media de la cantidad total gastada en productos en los últimos 2 años de las personas que aceptaron la membresía es mayor que las personas que no lo hicieron."
      ]
    },
    {
      "attachments": {},
      "cell_type": "markdown",
      "metadata": {},
      "source": [
        "### *Conclusiones*"
      ]
    },
    {
      "attachments": {},
      "cell_type": "markdown",
      "metadata": {},
      "source": [
        "De todo lo anteriormente analizado hemos podido constatar que existen factores relacionados significativamente con la decisión de aceptar o rechazar la membresía. Así podemos concluir que la probabilidad de aceptar la membresía aumenta conforme se presenta al menos una de las siguientes situaciones: <br>\n",
        "- aumento en el salario anual\n",
        "- aumento en el nivel educativo\n",
        "- aumento en el monto total gastado en productos durante los últimos 2 años\n",
        "- no se está en pareja\n",
        "- no hay niños o adolescentes en el hogar"
      ]
    }
  ],
  "metadata": {
    "colab": {
      "collapsed_sections": [
        "Z8-jF0E3OXXn",
        "aiFll5zbLjvo",
        "VdlChUMr20qU",
        "ZNlvfGKxLyBs",
        "IJDCo4CEMcUU",
        "12GP6hNJPY8J",
        "h46DL-U3kkzA"
      ],
      "provenance": []
    },
    "kernelspec": {
      "display_name": "Python 3",
      "language": "python",
      "name": "python3"
    },
    "language_info": {
      "codemirror_mode": {
        "name": "ipython",
        "version": 3
      },
      "file_extension": ".py",
      "mimetype": "text/x-python",
      "name": "python",
      "nbconvert_exporter": "python",
      "pygments_lexer": "ipython3",
      "version": "3.11.0"
    },
    "vscode": {
      "interpreter": {
        "hash": "cb4ab4d4a9157069084a28842478d9ca3a4fbd1c8dfc33610feb44e750a6c526"
      }
    }
  },
  "nbformat": 4,
  "nbformat_minor": 0
}
